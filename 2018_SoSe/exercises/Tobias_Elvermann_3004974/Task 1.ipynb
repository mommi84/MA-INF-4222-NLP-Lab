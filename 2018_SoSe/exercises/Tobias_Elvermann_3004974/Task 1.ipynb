{
 "cells": [
  {
   "cell_type": "markdown",
   "metadata": {},
   "source": [
    "# Exercise Sheet 1"
   ]
  },
  {
   "cell_type": "code",
   "execution_count": 87,
   "metadata": {},
   "outputs": [],
   "source": [
    "import nltk\n",
    "annotated_sent = nltk.corpus.treebank.tagged_sents()"
   ]
  },
  {
   "cell_type": "markdown",
   "metadata": {},
   "source": [
    "## Functions"
   ]
  },
  {
   "cell_type": "code",
   "execution_count": 173,
   "metadata": {},
   "outputs": [],
   "source": [
    "\n",
    "#Functions\n",
    "def features(sentence, index):\n",
    "    return {\n",
    "        'word': sentence[index],\n",
    "        'is_capitalized': sentence[index][0].upper() == sentence[index][0],\n",
    "        'prefix-1': sentence[index][0],\n",
    "        'prefix-2': '' if len(sentence[index]) < 3 else sentence[index][1],\n",
    "        'suffix-1': sentence[index][-1],\n",
    "        'suffix-2': '' if len(sentence[index]) < 4 else sentence[index][-2],\n",
    "        'prev_word' : '' if index == 0 else sentence[index - 1],\n",
    "        'prev_word2': '' if index <  2 else sentence[index - 2],\n",
    "        'next_word' : '' if index == len(sentence) - 1 else sentence[index + 1],\n",
    "        'next_word2': '' if index >  len(sentence) - 3 else sentence[index + 2]\n",
    "    }\n",
    "def untag(tagged_sentence):\n",
    "    return[w for w,t in tagged_sentence]\n",
    "\n",
    "def untag2(tagged_sentence):\n",
    "    return[t for w,t in tagged_sentence]\n",
    "\n",
    "#Train and Test Sentences\n",
    "def get_train_test(Corpus,splitvalue = .8):\n",
    "        Corpus_tagged_sents = Corpus.tagged_sents()\n",
    "        cutoff = int(splitvalue*len(Corpus_tagged_sents))\n",
    "        Corpus_train = Corpus_tagged_sents[:cutoff]\n",
    "        Corpus_test = Corpus_tagged_sents[cutoff:]\n",
    "        return Corpus_train, Corpus_train\n",
    "\n",
    "# Transform tagged (training) sentences from Corpus to X: features of the  words, y: Tags of the words\n",
    "def transform_to_dataset(tagged_sentences):\n",
    "    X, y = [], []\n",
    "    for tagged in tagged_sentences:\n",
    "        for index in range(len(tagged)):\n",
    "            X.append(features(untag(tagged), index))\n",
    "            y.append(tagged[index][1])\n",
    "    return X, y\n"
   ]
  },
  {
   "cell_type": "markdown",
   "metadata": {},
   "source": [
    "## Corpora"
   ]
  },
  {
   "cell_type": "code",
   "execution_count": 83,
   "metadata": {},
   "outputs": [],
   "source": [
    "#Corpora\n",
    "X1 = nltk.corpus.treebank\n",
    "X2 = nltk.corpus.brown\n",
    "#X3 = nltk.corpus.g\n",
    "X3 = nltk.corpus.ConllCorpusReader('C:/Users/Tobias/sciebo/Studium/4._Semester/Lab_NLP/tigercorpus-2.2.conll09', 'tiger_release_aug07.corrected.16012013.conll09',\n",
    "                                     ['ignore', 'words', 'ignore', 'ignore', 'pos'],\n",
    "                                     encoding='utf-8')\n",
    "\n",
    "X1_train_sentences, X1_test_sentences = get_train_test(X1,.8)\n",
    "X2_train_sentences, X2_test_sentences = get_train_test(X2,.8)\n",
    "X3_train_sentences, X3_test_sentences = get_train_test(X3,.8)\n"
   ]
  },
  {
   "cell_type": "markdown",
   "metadata": {},
   "source": [
    "## Classifier"
   ]
  },
  {
   "cell_type": "code",
   "execution_count": 94,
   "metadata": {},
   "outputs": [],
   "source": [
    "from sklearn.tree import DecisionTreeClassifier\n",
    "from sklearn.feature_extraction import DictVectorizer\n",
    "from sklearn.pipeline import Pipeline"
   ]
  },
  {
   "cell_type": "code",
   "execution_count": 95,
   "metadata": {},
   "outputs": [],
   "source": [
    "#def pos_tag(sentence, clf):\n",
    "#    tagged_sentence = []\n",
    "#    tags = clf.predict([features(sentence, index) for index in range(len(sentence))])\n",
    "#    return zip(sentence, tags)\n",
    "\n",
    "#print(list(pos_tag(nltk.tokenize.word_tokenize('Hello world, lets do something awesome today!'))))"
   ]
  },
  {
   "cell_type": "markdown",
   "metadata": {},
   "source": [
    "# Task 1\n",
    "#### get results for english (plot a graph with all classifiers x results)\n",
    "\n",
    "    performance 1.1 = model1 in X1\n",
    "    performance 1.2 = model2 in X1\n",
    "    performance 1.3.x = model3.x in X1\n",
    "\n",
    "    performance 1.4 = model1 in X2\n",
    "\n",
    "    performance 1.5 = model2 in X2\n",
    "    performance 1.6.x = model3.x in X2"
   ]
  },
  {
   "cell_type": "code",
   "execution_count": 106,
   "metadata": {},
   "outputs": [
    {
     "name": "stdout",
     "output_type": "stream",
     "text": [
      "[0.0, 0.0, 0.0, 0.0, 0.0, 0.0, 0.0, 0.0, 0.0, 0.0, 0.0, 0.0, 0.0, 0.0]\n",
      "['1.1', '1.2', '1.3.1', '1.3.2', '1.3.3', '1.3.4', '1.3.5', '1.4', '1.5', '1.6.1', '1.6.2', '1.6.3', '1.6.4', '1.6.5']\n"
     ]
    }
   ],
   "source": [
    "#Variables\n",
    "performance = [0.0 for i in range(14)]\n",
    "performance_vec = ['1.1', '1.2', '1.3.1', '1.3.2', '1.3.3', '1.3.4', '1.3.5', \n",
    "                '1.4', '1.5', '1.6.1', '1.6.2', '1.6.3', '1.6.4', '1.6.5',]\n",
    "print(performance)\n",
    "print(performance_vec)"
   ]
  },
  {
   "cell_type": "markdown",
   "metadata": {},
   "source": [
    "## Use Pickle"
   ]
  },
  {
   "cell_type": "code",
   "execution_count": 96,
   "metadata": {},
   "outputs": [],
   "source": [
    "import pickle\n",
    "\n",
    "#save = open( \"classifier_X1\", \"wb\" )\n",
    "#pickle.dump( clf, save )\n",
    "#save.close()\n",
    "#clf2_f = open( \"classifier_X1_75000-\", \"rb\" )\n",
    "#clf2 = pickle.load(clf2_f)\n",
    "#clf2_f.close()"
   ]
  },
  {
   "cell_type": "markdown",
   "metadata": {},
   "source": [
    "### Accuracy Model 1"
   ]
  },
  {
   "cell_type": "code",
   "execution_count": 170,
   "metadata": {},
   "outputs": [],
   "source": [
    "# Train DecisionTreeClassifier, then test with clf.score\n",
    "# We only train with a predefined number \"size_of_training\" of training sentences \n",
    "# and then take the arithmetic mean of the accuracies \n",
    "def Accuracy_Model1(train_sentences, test_sentences, Corpus,num_training_partitions = 1,num_test_partitions = 1 ):\n",
    "    X_train,y_train = transform_to_dataset(train_sentences)\n",
    "    accuracy = 0\n",
    "    counter = 0\n",
    "    step_size= int(len(X_train)/num_training_partitions)  #How many training patterns per training\n",
    "    for a in range(0,len(X_train),step_size):\n",
    "\n",
    "        print(\"Define classifier \", counter+1, \"..\")\n",
    "        #define classifier\n",
    "        clf = Pipeline([\n",
    "            ('vectorizer', DictVectorizer(sparse=False)),\n",
    "            ('classifier', DecisionTreeClassifier(criterion='entropy'))#sklearn.svm.NuSVC)#\n",
    "        ])\n",
    "        print(\"defining OK\")\n",
    "\n",
    "        # train classifier\n",
    "        print(\"Train classifier..\", counter+1, \"..\")\n",
    "        clf.fit(X_train[a:a+step_size], y_train[a:a+step_size])\n",
    "        #clf.fit(X_train[75000:], y_train[75000:])\n",
    "        print('training OK')\n",
    "        \n",
    "        #Save classifier (Just for testing)\n",
    "        #print(\"Save Classifier \", counter+1, \"..\")\n",
    "        #filename = \"classifier_\"+ Corpus + \"_\" + str(a) + \"-\" + str(a+step_size-1)\n",
    "        #save = open(filename, \"wb\" )\n",
    "        #pickle.dump( clf, save )\n",
    "        #save.close()\n",
    "        #print(\"saving OK\")\n",
    "\n",
    "        print(\"Transform to Dataset..\")\n",
    "        X_test, y_test = transform_to_dataset(test_sentences)\n",
    "        print(\"Data Transforming OK\")\n",
    "        step_size2= int(len(X_test)/num_test_partitions)\n",
    "        for i in range(0,len(X_test),step_size2):\n",
    "            counter += 1\n",
    "            performance = clf.score(X_test[i:i+step_size2], y_test[i:i+step_size2])\n",
    "            print(\"Accuracy: \", performance)\n",
    "            accuracy += performance\n",
    "    return (accuracy/counter)"
   ]
  },
  {
   "cell_type": "code",
   "execution_count": 119,
   "metadata": {
    "scrolled": true
   },
   "outputs": [
    {
     "name": "stdout",
     "output_type": "stream",
     "text": [
      "Define classifier  1 ..\n",
      "defining OK\n",
      "Train classifier.. 1 ..\n",
      "training OK\n",
      "Save Classifier  1 ..\n",
      "saving OK\n",
      "Transform to Dataset..\n",
      "Data Transforming OK\n",
      "Define classifier  2 ..\n",
      "defining OK\n",
      "Train classifier.. 2 ..\n",
      "training OK\n",
      "Save Classifier  2 ..\n",
      "saving OK\n",
      "Transform to Dataset..\n",
      "Data Transforming OK\n",
      "Define classifier  3 ..\n",
      "defining OK\n",
      "Train classifier.. 3 ..\n",
      "training OK\n",
      "Save Classifier  3 ..\n",
      "saving OK\n",
      "Transform to Dataset..\n",
      "Data Transforming OK\n",
      "Define classifier  4 ..\n",
      "defining OK\n",
      "Train classifier.. 4 ..\n",
      "training OK\n",
      "Save Classifier  4 ..\n",
      "saving OK\n",
      "Transform to Dataset..\n",
      "Data Transforming OK\n",
      "Define classifier  5 ..\n",
      "defining OK\n",
      "Train classifier.. 5 ..\n",
      "training OK\n",
      "Save Classifier  5 ..\n",
      "saving OK\n",
      "Transform to Dataset..\n",
      "Data Transforming OK\n",
      "Define classifier  6 ..\n",
      "defining OK\n",
      "Train classifier.. 6 ..\n",
      "training OK\n",
      "Save Classifier  6 ..\n",
      "saving OK\n",
      "Transform to Dataset..\n",
      "Data Transforming OK\n",
      "Define classifier  7 ..\n",
      "defining OK\n",
      "Train classifier.. 7 ..\n",
      "training OK\n",
      "Save Classifier  7 ..\n",
      "saving OK\n",
      "Transform to Dataset..\n",
      "Data Transforming OK\n",
      "Define classifier  8 ..\n",
      "defining OK\n",
      "Train classifier.. 8 ..\n",
      "training OK\n",
      "Save Classifier  8 ..\n",
      "saving OK\n",
      "Transform to Dataset..\n",
      "Data Transforming OK\n",
      "Define classifier  9 ..\n",
      "defining OK\n",
      "Train classifier.. 9 ..\n",
      "training OK\n",
      "Save Classifier  9 ..\n",
      "saving OK\n",
      "Transform to Dataset..\n",
      "Data Transforming OK\n",
      "Define classifier  10 ..\n",
      "defining OK\n",
      "Train classifier.. 10 ..\n",
      "training OK\n",
      "Save Classifier  10 ..\n",
      "saving OK\n",
      "Transform to Dataset..\n",
      "Data Transforming OK\n",
      "0.8379924848394656\n"
     ]
    }
   ],
   "source": [
    "performance[0] = Accuracy_Model1(X1_train_sentences, X1_test_sentences,\"X1\" ,10)\n",
    "print(performance[0])"
   ]
  },
  {
   "cell_type": "code",
   "execution_count": 171,
   "metadata": {
    "scrolled": true
   },
   "outputs": [
    {
     "name": "stdout",
     "output_type": "stream",
     "text": [
      "Define classifier  1 ..\n",
      "defining OK\n",
      "Train classifier.. 1 ..\n"
     ]
    },
    {
     "ename": "MemoryError",
     "evalue": "",
     "output_type": "error",
     "traceback": [
      "\u001b[1;31m---------------------------------------------------------------------------\u001b[0m",
      "\u001b[1;31mMemoryError\u001b[0m                               Traceback (most recent call last)",
      "\u001b[1;32m<ipython-input-171-108ae9c757ab>\u001b[0m in \u001b[0;36m<module>\u001b[1;34m()\u001b[0m\n\u001b[1;32m----> 1\u001b[1;33m \u001b[0mperformance\u001b[0m\u001b[1;33m[\u001b[0m\u001b[1;36m7\u001b[0m\u001b[1;33m]\u001b[0m \u001b[1;33m=\u001b[0m \u001b[0mAccuracy_Model1\u001b[0m\u001b[1;33m(\u001b[0m\u001b[0mX2_train_sentences\u001b[0m\u001b[1;33m[\u001b[0m\u001b[1;36m0\u001b[0m\u001b[1;33m:\u001b[0m\u001b[1;36m10000\u001b[0m\u001b[1;33m]\u001b[0m\u001b[1;33m,\u001b[0m \u001b[0mX2_test_sentences\u001b[0m\u001b[1;33m[\u001b[0m\u001b[1;36m0\u001b[0m\u001b[1;33m:\u001b[0m\u001b[1;36m1000\u001b[0m\u001b[1;33m]\u001b[0m\u001b[1;33m,\u001b[0m\u001b[1;34m\"X2\"\u001b[0m\u001b[1;33m,\u001b[0m \u001b[1;36m5\u001b[0m\u001b[1;33m,\u001b[0m\u001b[1;36m5\u001b[0m\u001b[1;33m)\u001b[0m\u001b[1;33m\u001b[0m\u001b[0m\n\u001b[0m\u001b[0;32m      2\u001b[0m \u001b[0mprint\u001b[0m\u001b[1;33m(\u001b[0m\u001b[0mperformance\u001b[0m\u001b[1;33m[\u001b[0m\u001b[1;36m7\u001b[0m\u001b[1;33m]\u001b[0m\u001b[1;33m)\u001b[0m\u001b[1;33m\u001b[0m\u001b[0m\n",
      "\u001b[1;32m<ipython-input-170-662969cb0b09>\u001b[0m in \u001b[0;36mAccuracy_Model1\u001b[1;34m(train_sentences, test_sentences, Corpus, num_training_partitions, num_test_partitions)\u001b[0m\n\u001b[0;32m     19\u001b[0m         \u001b[1;31m# train classifier\u001b[0m\u001b[1;33m\u001b[0m\u001b[1;33m\u001b[0m\u001b[0m\n\u001b[0;32m     20\u001b[0m         \u001b[0mprint\u001b[0m\u001b[1;33m(\u001b[0m\u001b[1;34m\"Train classifier..\"\u001b[0m\u001b[1;33m,\u001b[0m \u001b[0mcounter\u001b[0m\u001b[1;33m+\u001b[0m\u001b[1;36m1\u001b[0m\u001b[1;33m,\u001b[0m \u001b[1;34m\"..\"\u001b[0m\u001b[1;33m)\u001b[0m\u001b[1;33m\u001b[0m\u001b[0m\n\u001b[1;32m---> 21\u001b[1;33m         \u001b[0mclf\u001b[0m\u001b[1;33m.\u001b[0m\u001b[0mfit\u001b[0m\u001b[1;33m(\u001b[0m\u001b[0mX_train\u001b[0m\u001b[1;33m[\u001b[0m\u001b[0ma\u001b[0m\u001b[1;33m:\u001b[0m\u001b[0ma\u001b[0m\u001b[1;33m+\u001b[0m\u001b[0mstep_size\u001b[0m\u001b[1;33m]\u001b[0m\u001b[1;33m,\u001b[0m \u001b[0my_train\u001b[0m\u001b[1;33m[\u001b[0m\u001b[0ma\u001b[0m\u001b[1;33m:\u001b[0m\u001b[0ma\u001b[0m\u001b[1;33m+\u001b[0m\u001b[0mstep_size\u001b[0m\u001b[1;33m]\u001b[0m\u001b[1;33m)\u001b[0m\u001b[1;33m\u001b[0m\u001b[0m\n\u001b[0m\u001b[0;32m     22\u001b[0m         \u001b[1;31m#clf.fit(X_train[75000:], y_train[75000:])\u001b[0m\u001b[1;33m\u001b[0m\u001b[1;33m\u001b[0m\u001b[0m\n\u001b[0;32m     23\u001b[0m         \u001b[0mprint\u001b[0m\u001b[1;33m(\u001b[0m\u001b[1;34m'training OK'\u001b[0m\u001b[1;33m)\u001b[0m\u001b[1;33m\u001b[0m\u001b[0m\n",
      "\u001b[1;32m~\\Anaconda3\\lib\\site-packages\\sklearn\\pipeline.py\u001b[0m in \u001b[0;36mfit\u001b[1;34m(self, X, y, **fit_params)\u001b[0m\n\u001b[0;32m    246\u001b[0m             \u001b[0mThis\u001b[0m \u001b[0mestimator\u001b[0m\u001b[1;33m\u001b[0m\u001b[0m\n\u001b[0;32m    247\u001b[0m         \"\"\"\n\u001b[1;32m--> 248\u001b[1;33m         \u001b[0mXt\u001b[0m\u001b[1;33m,\u001b[0m \u001b[0mfit_params\u001b[0m \u001b[1;33m=\u001b[0m \u001b[0mself\u001b[0m\u001b[1;33m.\u001b[0m\u001b[0m_fit\u001b[0m\u001b[1;33m(\u001b[0m\u001b[0mX\u001b[0m\u001b[1;33m,\u001b[0m \u001b[0my\u001b[0m\u001b[1;33m,\u001b[0m \u001b[1;33m**\u001b[0m\u001b[0mfit_params\u001b[0m\u001b[1;33m)\u001b[0m\u001b[1;33m\u001b[0m\u001b[0m\n\u001b[0m\u001b[0;32m    249\u001b[0m         \u001b[1;32mif\u001b[0m \u001b[0mself\u001b[0m\u001b[1;33m.\u001b[0m\u001b[0m_final_estimator\u001b[0m \u001b[1;32mis\u001b[0m \u001b[1;32mnot\u001b[0m \u001b[1;32mNone\u001b[0m\u001b[1;33m:\u001b[0m\u001b[1;33m\u001b[0m\u001b[0m\n\u001b[0;32m    250\u001b[0m             \u001b[0mself\u001b[0m\u001b[1;33m.\u001b[0m\u001b[0m_final_estimator\u001b[0m\u001b[1;33m.\u001b[0m\u001b[0mfit\u001b[0m\u001b[1;33m(\u001b[0m\u001b[0mXt\u001b[0m\u001b[1;33m,\u001b[0m \u001b[0my\u001b[0m\u001b[1;33m,\u001b[0m \u001b[1;33m**\u001b[0m\u001b[0mfit_params\u001b[0m\u001b[1;33m)\u001b[0m\u001b[1;33m\u001b[0m\u001b[0m\n",
      "\u001b[1;32m~\\Anaconda3\\lib\\site-packages\\sklearn\\pipeline.py\u001b[0m in \u001b[0;36m_fit\u001b[1;34m(self, X, y, **fit_params)\u001b[0m\n\u001b[0;32m    211\u001b[0m                 Xt, fitted_transformer = fit_transform_one_cached(\n\u001b[0;32m    212\u001b[0m                     \u001b[0mcloned_transformer\u001b[0m\u001b[1;33m,\u001b[0m \u001b[1;32mNone\u001b[0m\u001b[1;33m,\u001b[0m \u001b[0mXt\u001b[0m\u001b[1;33m,\u001b[0m \u001b[0my\u001b[0m\u001b[1;33m,\u001b[0m\u001b[1;33m\u001b[0m\u001b[0m\n\u001b[1;32m--> 213\u001b[1;33m                     **fit_params_steps[name])\n\u001b[0m\u001b[0;32m    214\u001b[0m                 \u001b[1;31m# Replace the transformer of the step with the fitted\u001b[0m\u001b[1;33m\u001b[0m\u001b[1;33m\u001b[0m\u001b[0m\n\u001b[0;32m    215\u001b[0m                 \u001b[1;31m# transformer. This is necessary when loading the transformer\u001b[0m\u001b[1;33m\u001b[0m\u001b[1;33m\u001b[0m\u001b[0m\n",
      "\u001b[1;32m~\\Anaconda3\\lib\\site-packages\\sklearn\\externals\\joblib\\memory.py\u001b[0m in \u001b[0;36m__call__\u001b[1;34m(self, *args, **kwargs)\u001b[0m\n\u001b[0;32m    360\u001b[0m \u001b[1;33m\u001b[0m\u001b[0m\n\u001b[0;32m    361\u001b[0m     \u001b[1;32mdef\u001b[0m \u001b[0m__call__\u001b[0m\u001b[1;33m(\u001b[0m\u001b[0mself\u001b[0m\u001b[1;33m,\u001b[0m \u001b[1;33m*\u001b[0m\u001b[0margs\u001b[0m\u001b[1;33m,\u001b[0m \u001b[1;33m**\u001b[0m\u001b[0mkwargs\u001b[0m\u001b[1;33m)\u001b[0m\u001b[1;33m:\u001b[0m\u001b[1;33m\u001b[0m\u001b[0m\n\u001b[1;32m--> 362\u001b[1;33m         \u001b[1;32mreturn\u001b[0m \u001b[0mself\u001b[0m\u001b[1;33m.\u001b[0m\u001b[0mfunc\u001b[0m\u001b[1;33m(\u001b[0m\u001b[1;33m*\u001b[0m\u001b[0margs\u001b[0m\u001b[1;33m,\u001b[0m \u001b[1;33m**\u001b[0m\u001b[0mkwargs\u001b[0m\u001b[1;33m)\u001b[0m\u001b[1;33m\u001b[0m\u001b[0m\n\u001b[0m\u001b[0;32m    363\u001b[0m \u001b[1;33m\u001b[0m\u001b[0m\n\u001b[0;32m    364\u001b[0m     \u001b[1;32mdef\u001b[0m \u001b[0mcall_and_shelve\u001b[0m\u001b[1;33m(\u001b[0m\u001b[0mself\u001b[0m\u001b[1;33m,\u001b[0m \u001b[1;33m*\u001b[0m\u001b[0margs\u001b[0m\u001b[1;33m,\u001b[0m \u001b[1;33m**\u001b[0m\u001b[0mkwargs\u001b[0m\u001b[1;33m)\u001b[0m\u001b[1;33m:\u001b[0m\u001b[1;33m\u001b[0m\u001b[0m\n",
      "\u001b[1;32m~\\Anaconda3\\lib\\site-packages\\sklearn\\pipeline.py\u001b[0m in \u001b[0;36m_fit_transform_one\u001b[1;34m(transformer, weight, X, y, **fit_params)\u001b[0m\n\u001b[0;32m    579\u001b[0m                        **fit_params):\n\u001b[0;32m    580\u001b[0m     \u001b[1;32mif\u001b[0m \u001b[0mhasattr\u001b[0m\u001b[1;33m(\u001b[0m\u001b[0mtransformer\u001b[0m\u001b[1;33m,\u001b[0m \u001b[1;34m'fit_transform'\u001b[0m\u001b[1;33m)\u001b[0m\u001b[1;33m:\u001b[0m\u001b[1;33m\u001b[0m\u001b[0m\n\u001b[1;32m--> 581\u001b[1;33m         \u001b[0mres\u001b[0m \u001b[1;33m=\u001b[0m \u001b[0mtransformer\u001b[0m\u001b[1;33m.\u001b[0m\u001b[0mfit_transform\u001b[0m\u001b[1;33m(\u001b[0m\u001b[0mX\u001b[0m\u001b[1;33m,\u001b[0m \u001b[0my\u001b[0m\u001b[1;33m,\u001b[0m \u001b[1;33m**\u001b[0m\u001b[0mfit_params\u001b[0m\u001b[1;33m)\u001b[0m\u001b[1;33m\u001b[0m\u001b[0m\n\u001b[0m\u001b[0;32m    582\u001b[0m     \u001b[1;32melse\u001b[0m\u001b[1;33m:\u001b[0m\u001b[1;33m\u001b[0m\u001b[0m\n\u001b[0;32m    583\u001b[0m         \u001b[0mres\u001b[0m \u001b[1;33m=\u001b[0m \u001b[0mtransformer\u001b[0m\u001b[1;33m.\u001b[0m\u001b[0mfit\u001b[0m\u001b[1;33m(\u001b[0m\u001b[0mX\u001b[0m\u001b[1;33m,\u001b[0m \u001b[0my\u001b[0m\u001b[1;33m,\u001b[0m \u001b[1;33m**\u001b[0m\u001b[0mfit_params\u001b[0m\u001b[1;33m)\u001b[0m\u001b[1;33m.\u001b[0m\u001b[0mtransform\u001b[0m\u001b[1;33m(\u001b[0m\u001b[0mX\u001b[0m\u001b[1;33m)\u001b[0m\u001b[1;33m\u001b[0m\u001b[0m\n",
      "\u001b[1;32m~\\Anaconda3\\lib\\site-packages\\sklearn\\feature_extraction\\dict_vectorizer.py\u001b[0m in \u001b[0;36mfit_transform\u001b[1;34m(self, X, y)\u001b[0m\n\u001b[0;32m    228\u001b[0m             \u001b[0mFeature\u001b[0m \u001b[0mvectors\u001b[0m\u001b[1;33m;\u001b[0m \u001b[0malways\u001b[0m \u001b[1;36m2\u001b[0m\u001b[1;33m-\u001b[0m\u001b[0md\u001b[0m\u001b[1;33m.\u001b[0m\u001b[1;33m\u001b[0m\u001b[0m\n\u001b[0;32m    229\u001b[0m         \"\"\"\n\u001b[1;32m--> 230\u001b[1;33m         \u001b[1;32mreturn\u001b[0m \u001b[0mself\u001b[0m\u001b[1;33m.\u001b[0m\u001b[0m_transform\u001b[0m\u001b[1;33m(\u001b[0m\u001b[0mX\u001b[0m\u001b[1;33m,\u001b[0m \u001b[0mfitting\u001b[0m\u001b[1;33m=\u001b[0m\u001b[1;32mTrue\u001b[0m\u001b[1;33m)\u001b[0m\u001b[1;33m\u001b[0m\u001b[0m\n\u001b[0m\u001b[0;32m    231\u001b[0m \u001b[1;33m\u001b[0m\u001b[0m\n\u001b[0;32m    232\u001b[0m     \u001b[1;32mdef\u001b[0m \u001b[0minverse_transform\u001b[0m\u001b[1;33m(\u001b[0m\u001b[0mself\u001b[0m\u001b[1;33m,\u001b[0m \u001b[0mX\u001b[0m\u001b[1;33m,\u001b[0m \u001b[0mdict_type\u001b[0m\u001b[1;33m=\u001b[0m\u001b[0mdict\u001b[0m\u001b[1;33m)\u001b[0m\u001b[1;33m:\u001b[0m\u001b[1;33m\u001b[0m\u001b[0m\n",
      "\u001b[1;32m~\\Anaconda3\\lib\\site-packages\\sklearn\\feature_extraction\\dict_vectorizer.py\u001b[0m in \u001b[0;36m_transform\u001b[1;34m(self, X, fitting)\u001b[0m\n\u001b[0;32m    202\u001b[0m             \u001b[0mresult_matrix\u001b[0m\u001b[1;33m.\u001b[0m\u001b[0msort_indices\u001b[0m\u001b[1;33m(\u001b[0m\u001b[1;33m)\u001b[0m\u001b[1;33m\u001b[0m\u001b[0m\n\u001b[0;32m    203\u001b[0m         \u001b[1;32melse\u001b[0m\u001b[1;33m:\u001b[0m\u001b[1;33m\u001b[0m\u001b[0m\n\u001b[1;32m--> 204\u001b[1;33m             \u001b[0mresult_matrix\u001b[0m \u001b[1;33m=\u001b[0m \u001b[0mresult_matrix\u001b[0m\u001b[1;33m.\u001b[0m\u001b[0mtoarray\u001b[0m\u001b[1;33m(\u001b[0m\u001b[1;33m)\u001b[0m\u001b[1;33m\u001b[0m\u001b[0m\n\u001b[0m\u001b[0;32m    205\u001b[0m \u001b[1;33m\u001b[0m\u001b[0m\n\u001b[0;32m    206\u001b[0m         \u001b[1;32mif\u001b[0m \u001b[0mfitting\u001b[0m\u001b[1;33m:\u001b[0m\u001b[1;33m\u001b[0m\u001b[0m\n",
      "\u001b[1;32m~\\Anaconda3\\lib\\site-packages\\scipy\\sparse\\compressed.py\u001b[0m in \u001b[0;36mtoarray\u001b[1;34m(self, order, out)\u001b[0m\n\u001b[0;32m    941\u001b[0m         \u001b[1;32mif\u001b[0m \u001b[0mout\u001b[0m \u001b[1;32mis\u001b[0m \u001b[1;32mNone\u001b[0m \u001b[1;32mand\u001b[0m \u001b[0morder\u001b[0m \u001b[1;32mis\u001b[0m \u001b[1;32mNone\u001b[0m\u001b[1;33m:\u001b[0m\u001b[1;33m\u001b[0m\u001b[0m\n\u001b[0;32m    942\u001b[0m             \u001b[0morder\u001b[0m \u001b[1;33m=\u001b[0m \u001b[0mself\u001b[0m\u001b[1;33m.\u001b[0m\u001b[0m_swap\u001b[0m\u001b[1;33m(\u001b[0m\u001b[1;34m'cf'\u001b[0m\u001b[1;33m)\u001b[0m\u001b[1;33m[\u001b[0m\u001b[1;36m0\u001b[0m\u001b[1;33m]\u001b[0m\u001b[1;33m\u001b[0m\u001b[0m\n\u001b[1;32m--> 943\u001b[1;33m         \u001b[0mout\u001b[0m \u001b[1;33m=\u001b[0m \u001b[0mself\u001b[0m\u001b[1;33m.\u001b[0m\u001b[0m_process_toarray_args\u001b[0m\u001b[1;33m(\u001b[0m\u001b[0morder\u001b[0m\u001b[1;33m,\u001b[0m \u001b[0mout\u001b[0m\u001b[1;33m)\u001b[0m\u001b[1;33m\u001b[0m\u001b[0m\n\u001b[0m\u001b[0;32m    944\u001b[0m         \u001b[1;32mif\u001b[0m \u001b[1;32mnot\u001b[0m \u001b[1;33m(\u001b[0m\u001b[0mout\u001b[0m\u001b[1;33m.\u001b[0m\u001b[0mflags\u001b[0m\u001b[1;33m.\u001b[0m\u001b[0mc_contiguous\u001b[0m \u001b[1;32mor\u001b[0m \u001b[0mout\u001b[0m\u001b[1;33m.\u001b[0m\u001b[0mflags\u001b[0m\u001b[1;33m.\u001b[0m\u001b[0mf_contiguous\u001b[0m\u001b[1;33m)\u001b[0m\u001b[1;33m:\u001b[0m\u001b[1;33m\u001b[0m\u001b[0m\n\u001b[0;32m    945\u001b[0m             \u001b[1;32mraise\u001b[0m \u001b[0mValueError\u001b[0m\u001b[1;33m(\u001b[0m\u001b[1;34m'Output array must be C or F contiguous'\u001b[0m\u001b[1;33m)\u001b[0m\u001b[1;33m\u001b[0m\u001b[0m\n",
      "\u001b[1;32m~\\Anaconda3\\lib\\site-packages\\scipy\\sparse\\base.py\u001b[0m in \u001b[0;36m_process_toarray_args\u001b[1;34m(self, order, out)\u001b[0m\n\u001b[0;32m   1128\u001b[0m             \u001b[1;32mreturn\u001b[0m \u001b[0mout\u001b[0m\u001b[1;33m\u001b[0m\u001b[0m\n\u001b[0;32m   1129\u001b[0m         \u001b[1;32melse\u001b[0m\u001b[1;33m:\u001b[0m\u001b[1;33m\u001b[0m\u001b[0m\n\u001b[1;32m-> 1130\u001b[1;33m             \u001b[1;32mreturn\u001b[0m \u001b[0mnp\u001b[0m\u001b[1;33m.\u001b[0m\u001b[0mzeros\u001b[0m\u001b[1;33m(\u001b[0m\u001b[0mself\u001b[0m\u001b[1;33m.\u001b[0m\u001b[0mshape\u001b[0m\u001b[1;33m,\u001b[0m \u001b[0mdtype\u001b[0m\u001b[1;33m=\u001b[0m\u001b[0mself\u001b[0m\u001b[1;33m.\u001b[0m\u001b[0mdtype\u001b[0m\u001b[1;33m,\u001b[0m \u001b[0morder\u001b[0m\u001b[1;33m=\u001b[0m\u001b[0morder\u001b[0m\u001b[1;33m)\u001b[0m\u001b[1;33m\u001b[0m\u001b[0m\n\u001b[0m\u001b[0;32m   1131\u001b[0m \u001b[1;33m\u001b[0m\u001b[0m\n\u001b[0;32m   1132\u001b[0m     \u001b[1;32mdef\u001b[0m \u001b[0m__numpy_ufunc__\u001b[0m\u001b[1;33m(\u001b[0m\u001b[0mself\u001b[0m\u001b[1;33m,\u001b[0m \u001b[0mfunc\u001b[0m\u001b[1;33m,\u001b[0m \u001b[0mmethod\u001b[0m\u001b[1;33m,\u001b[0m \u001b[0mpos\u001b[0m\u001b[1;33m,\u001b[0m \u001b[0minputs\u001b[0m\u001b[1;33m,\u001b[0m \u001b[1;33m**\u001b[0m\u001b[0mkwargs\u001b[0m\u001b[1;33m)\u001b[0m\u001b[1;33m:\u001b[0m\u001b[1;33m\u001b[0m\u001b[0m\n",
      "\u001b[1;31mMemoryError\u001b[0m: "
     ]
    }
   ],
   "source": [
    "performance[7] = Accuracy_Model1(X2_train_sentences[0:10000], X2_test_sentences[0:1000],\"X2\", 5,5)\n",
    "print(performance[7])"
   ]
  },
  {
   "cell_type": "markdown",
   "metadata": {},
   "source": [
    "### Accuracy model 2 (pre-trained POS tagger model using NLTK"
   ]
  },
  {
   "cell_type": "code",
   "execution_count": 138,
   "metadata": {},
   "outputs": [],
   "source": [
    "# Just use nltk.pos_tag_sents and compare it with the tagging by the corpus\n",
    "def Accuracy_Model2(corpus):\n",
    "    sents = corpus.sents()\n",
    "    X_pred, y_pred = transform_to_dataset(nltk.pos_tag_sents(sents))\n",
    "    X_test, y_test = transform_to_dataset(corpus.tagged_sents())\n",
    "    hits = 0\n",
    "    for i in range(len(y_test)):\n",
    "        if y_pred[i] == y_test[i]:\n",
    "            hits += 1\n",
    "    \n",
    "    return hits * 1.0/len(y_test)  #accuracy = hits/(hits+misses)"
   ]
  },
  {
   "cell_type": "code",
   "execution_count": 139,
   "metadata": {},
   "outputs": [
    {
     "name": "stdout",
     "output_type": "stream",
     "text": [
      "Accuracy Model2 in X1: 0.8929834319996821\n"
     ]
    }
   ],
   "source": [
    "accuracy = Accuracy_Model2(X1)\n",
    "print(\"Accuracy Model2 in X1:\", accuracy)\n",
    "performance[1] = accuracy"
   ]
  },
  {
   "cell_type": "code",
   "execution_count": 140,
   "metadata": {},
   "outputs": [
    {
     "name": "stdout",
     "output_type": "stream",
     "text": [
      "Accuracy Model2 in X2: 0.619474643297577\n"
     ]
    }
   ],
   "source": [
    "accuracy2 = Accuracy_Model2(X2)\n",
    "print(\"Accuracy Model2 in X2:\", accuracy2)\n",
    "performance[8] = accuracy2"
   ]
  },
  {
   "cell_type": "markdown",
   "metadata": {},
   "source": [
    "### Accuracy model 3 (Rule-based POS taggers)"
   ]
  },
  {
   "cell_type": "code",
   "execution_count": 141,
   "metadata": {},
   "outputs": [],
   "source": [
    "from nltk.corpus import brown\n",
    "from nltk import DefaultTagger as df\n",
    "from nltk import UnigramTagger as ut\n",
    "from nltk import BigramTagger as bt\n",
    "from nltk import TrigramTagger as tg\n",
    "\n",
    "\n",
    "patterns = [(r'.*ing$', 'VBG'), (r'.*ed$', 'VBD'), (r'.*es$', 'VBZ'), (r'.*ould$', 'MD'), (r'.*\\'s$', 'NN$'),               \n",
    "             (r'.*s$', 'NNS'), (r'^-?[0-9]+(.[0-9]+)?$', 'CD'), (r'.*', 'NN')]\n",
    "\n",
    "#brown_tagged_sents = brown.tagged_sents(categories='news')\n",
    "#brown_sents = brown.sents(categories='news')\n",
    "\n",
    "def Accuracy_Model3(train_sents,test_sents):\n",
    "    #size = int(len(brown_tagged_sents) * 0.9)\n",
    "    #train_sents = tagged_sents[:size]\n",
    "    #test_sents = tagged_sents[size:]\n",
    "\n",
    "    def_model = nltk.DefaultTagger('NN')\n",
    "    uni_model = nltk.UnigramTagger(train_sents)\n",
    "    bi_model = nltk.BigramTagger(train_sents)\n",
    "    tri_model = nltk.TrigramTagger(train_sents)\n",
    "    regexp_model = nltk.RegexpTagger(patterns)\n",
    "\n",
    "    accuracy = []\n",
    "    # performance of Default Tagger\n",
    "    def_model.evaluate(train_sents)\n",
    "    accuracy.append(def_model.evaluate(test_sents))\n",
    "    # performance of Unigram Tagger\n",
    "    uni_model.evaluate(train_sents)\n",
    "    accuracy.append(uni_model.evaluate(test_sents))\n",
    "    # performance of Bigram Tagger\n",
    "    bi_model.evaluate(train_sents)\n",
    "    accuracy.append(bi_model.evaluate(test_sents))\n",
    "    # performance of Trigram Tagger\n",
    "    tri_model.evaluate(train_sents)\n",
    "    accuracy.append(tri_model.evaluate(test_sents))\n",
    "    # performance of Regex Tagger\n",
    "    regexp_model.evaluate(train_sents)\n",
    "    accuracy.append(regexp_model.evaluate(test_sents))\n",
    "\n",
    "    return accuracy"
   ]
  },
  {
   "cell_type": "code",
   "execution_count": 142,
   "metadata": {},
   "outputs": [],
   "source": [
    "accuracy = Accuracy_Model3(X1_test_sentences, X1_test_sentences)\n",
    "performance[2:7] = accuracy"
   ]
  },
  {
   "cell_type": "code",
   "execution_count": 143,
   "metadata": {},
   "outputs": [],
   "source": [
    "accuracy = Accuracy_Model3(X2_test_sentences, X2_test_sentences)\n",
    "performance[9:14] = accuracy"
   ]
  },
  {
   "cell_type": "code",
   "execution_count": null,
   "metadata": {},
   "outputs": [],
   "source": []
  },
  {
   "cell_type": "code",
   "execution_count": 177,
   "metadata": {},
   "outputs": [
    {
     "data": {
      "image/png": "[encoded data removed]",
      "text/plain": [
       "<matplotlib.figure.Figure at 0x1994c8afef0>"
      ]
     },
     "metadata": {},
     "output_type": "display_data"
    }
   ],
   "source": [
    "import matplotlib.pyplot as plt\n",
    "\n",
    "plt.rcdefaults()\n",
    "fig, ax = plt.subplots()\n",
    "\n",
    "ax.barh(performance_vec,performance, align='center',\n",
    "        color='green', ecolor='black')\n",
    "ax.set_yticks(performance_vec)\n",
    "ax.set_yticklabels(performance_vec)\n",
    "ax.invert_yaxis()  # labels read top-to-bottom\n",
    "ax.set_xlabel('Performance')\n",
    "\n",
    "plt.show()"
   ]
  },
  {
   "cell_type": "code",
   "execution_count": null,
   "metadata": {},
   "outputs": [],
   "source": []
  },
  {
   "cell_type": "code",
   "execution_count": null,
   "metadata": {},
   "outputs": [],
   "source": []
  },
  {
   "cell_type": "markdown",
   "metadata": {},
   "source": [
    "# Task 2 (train your model with standard features)"
   ]
  },
  {
   "cell_type": "markdown",
   "metadata": {},
   "source": [
    "## Accuracy Model 4"
   ]
  },
  {
   "cell_type": "code",
   "execution_count": 145,
   "metadata": {},
   "outputs": [
    {
     "name": "stdout",
     "output_type": "stream",
     "text": [
      "[0.8379924848394656, 0.8929834319996821, 0.12729888264692388, 0.9597455262472562, 0.9118146756451753, 0.9085531455783326, 0.2138472413408237, 0.0, 0.619474643297577, 0.13525702141385765, 0.9252791314413574, 0.7951443684759597, 0.7561670235983202, 0.1989790189517438]\n",
      "['1.1', '1.2', '1.3.1', '1.3.2', '1.3.3', '1.3.4', '1.3.5', '1.4', '1.5', '1.6.1', '1.6.2', '1.6.3', '1.6.4', '1.6.5']\n"
     ]
    }
   ],
   "source": [
    "#Variables\n",
    "performance2 = [0.0,0.0]\n",
    "performance_vec2 = ['2.1','2.2']\n"
   ]
  },
  {
   "cell_type": "code",
   "execution_count": null,
   "metadata": {},
   "outputs": [],
   "source": [
    "performance2[0] = Accuracy_Model1(X3_train_sentences[0:10000], X3_test_sentences[0:10000],\"X3\",10,10)\n",
    "print(performance2[0])"
   ]
  },
  {
   "cell_type": "code",
   "execution_count": null,
   "metadata": {},
   "outputs": [],
   "source": [
    "def features_german(sentence,index):\n",
    "    return {\n",
    "        'word': sentence[index],\n",
    "        'is_capitalized': sentence[index][0].upper() == sentence[index][0],\n",
    "        'prefix-1': sentence[index][0],\n",
    "        'prefix-2': '' if len(sentence[index]) < 3 else sentence[index][1],\n",
    "        'suffix-1': sentence[index][-1],\n",
    "        'suffix-2': '' if len(sentence[index]) < 4 else sentence[index][-2],\n",
    "        'prev_word' : '' if index == 0 else sentence[index - 1],\n",
    "        'prev_word2': '' if index <  2 else sentence[index - 2],\n",
    "        'next_word' : '' if index == len(sentence) - 1 else sentence[index + 1],\n",
    "        'next_word2': '' if index >  len(sentence) - 3 else sentence[index + 2]\n",
    "            }"
   ]
  },
  {
   "cell_type": "markdown",
   "metadata": {},
   "source": [
    "## Accuracy Model 5"
   ]
  },
  {
   "cell_type": "code",
   "execution_count": null,
   "metadata": {},
   "outputs": [],
   "source": []
  }
 ],
 "metadata": {
  "kernelspec": {
   "display_name": "Python 3",
   "language": "python",
   "name": "python3"
  },
  "language_info": {
   "codemirror_mode": {
    "name": "ipython",
    "version": 3
   },
   "file_extension": ".py",
   "mimetype": "text/x-python",
   "name": "python",
   "nbconvert_exporter": "python",
   "pygments_lexer": "ipython3",
   "version": "3.6.4"
  }
 },
 "nbformat": 4,
 "nbformat_minor": 2
}
