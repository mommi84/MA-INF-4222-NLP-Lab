{
 "cells": [
  {
   "cell_type": "markdown",
   "metadata": {},
   "source": [
    "## Metrics accuracy, precision, recall, f1"
   ]
  },
  {
   "cell_type": "code",
   "execution_count": 1,
   "metadata": {},
   "outputs": [
    {
     "name": "stderr",
     "output_type": "stream",
     "text": [
      "C:\\Users\\Tobias\\Anaconda3\\lib\\site-packages\\sklearn\\cross_validation.py:41: DeprecationWarning: This module was deprecated in version 0.18 in favor of the model_selection module into which all the refactored classes and functions are moved. Also note that the interface of the new CV iterators are different from that of this module. This module will be removed in 0.20.\n",
      "  \"This module will be removed in 0.20.\", DeprecationWarning)\n"
     ]
    }
   ],
   "source": [
    "from sklearn import metrics\n",
    "import random\n",
    "import sys\n",
    "import pandas as pd\n",
    "import numpy as np\n",
    "from sklearn.neighbors import KNeighborsClassifier\n",
    "from sklearn.linear_model import SGDClassifier\n",
    "from sklearn.cross_validation import train_test_split\n",
    "from sklearn.feature_extraction.text import CountVectorizer, TfidfVectorizer#, HashingVectorizer\n",
    "from sklearn.naive_bayes import MultinomialNB\n",
    "from sklearn.model_selection import StratifiedKFold #,train_test_split, GridSearchCV,\n",
    "import matplotlib.pyplot as plt\n",
    "import itertools\n"
   ]
  },
  {
   "cell_type": "code",
   "execution_count": null,
   "metadata": {},
   "outputs": [],
   "source": []
  },
  {
   "cell_type": "markdown",
   "metadata": {},
   "source": [
    "## Functions"
   ]
  },
  {
   "cell_type": "code",
   "execution_count": 2,
   "metadata": {},
   "outputs": [],
   "source": [
    "def plot_confusion_matrix(cm, classes,\n",
    "                          normalize=False,\n",
    "                          title='Confusion matrix',\n",
    "                          cmap=plt.cm.Blues):\n",
    "    \"\"\"\n",
    "    This function prints and plots the confusion matrix.\n",
    "    Normalization can be applied by setting `normalize=True`.\n",
    "    \"\"\"\n",
    "    plt.imshow(cm, interpolation='nearest', cmap=cmap)\n",
    "    plt.title(title)\n",
    "    plt.colorbar()\n",
    "    tick_marks = np.arange(len(classes))\n",
    "    plt.xticks(tick_marks, classes, rotation=45)\n",
    "    plt.yticks(tick_marks, classes)\n",
    "\n",
    "    if normalize:\n",
    "        cm = cm.astype('float') / cm.sum(axis=1)[:, np.newaxis]\n",
    "        print(\"Normalized confusion matrix\")\n",
    "    else:\n",
    "        print('Confusion matrix, without normalization')\n",
    "\n",
    "    thresh = cm.max() / 2.\n",
    "    for i, j in itertools.product(range(cm.shape[0]), range(cm.shape[1])):\n",
    "        plt.text(j, i, cm[i, j],\n",
    "                 horizontalalignment=\"center\",\n",
    "                 color=\"white\" if cm[i, j] > thresh else \"black\")\n",
    "\n",
    "    plt.tight_layout()\n",
    "    plt.ylabel('True label')\n",
    "    plt.xlabel('Predicted label')"
   ]
  },
  {
   "cell_type": "code",
   "execution_count": 3,
   "metadata": {},
   "outputs": [],
   "source": [
    "def get_Scores(y_test,y_star):\n",
    "    scores = []\n",
    "    scores.append(metrics.precision_score(y_test, y_star, labels = ['true'], average = None)[0])\n",
    "    scores.append(metrics.recall_score(   y_test, y_star, labels = ['true'], average = None)[0])\n",
    "    scores.append(metrics.f1_score(       y_test, y_star, labels = ['true'], average = None)[0])\n",
    "    scores.append(metrics.accuracy_score( y_test, y_star))    \n",
    "    print('Scores:')\n",
    "    print('precision: {}, recall: {}, \\n f_measure: {}, accuracy: {}'.format(scores[0],scores[1],scores[2],scores[3]))\n",
    "    \n",
    "    return scores"
   ]
  },
  {
   "cell_type": "code",
   "execution_count": 4,
   "metadata": {},
   "outputs": [],
   "source": [
    "## script_dataset3.py\n",
    "# I included that we use also test.tsv of the liar_dataset\n",
    "ds1 = './fake_or_real_news.csv'#sys.argv[1]\n",
    "ds2_1 = './liar_dataset/test.tsv'\n",
    "ds2_2 = './liar_dataset/train.tsv'\n",
    "#ds2 = pd.concat([ds2_1,ds2_2], ignore_index=True)\n",
    "def get_dataset3_split(dataset1_in, dataset2_1_in, dataset2_2_in):\n",
    "    try:\n",
    "        print('processing datasets')\n",
    "        print('ds1=', dataset1_in)\n",
    "        print('ds2=', dataset2_1_in)\n",
    "        print('ds3=', dataset2_2_in)\n",
    "\n",
    "        print('-- fake news')\n",
    "        df1 = pd.read_csv(dataset1_in, sep=',', usecols=['title','text','label'])\n",
    "        df1['claim'] = df1[['title', 'text']].apply(lambda x: '. '.join(x), axis=1)\n",
    "        del df1['title']\n",
    "        del df1['text']\n",
    "        df1.rename(index=str, columns={'label': 'y'}, inplace=True)\n",
    "        print(\"df1.keys(): \", df1.keys())\n",
    "        print(\"len(df1[df1['y']=='REAL']): \", len(df1[df1['y']=='REAL']))\n",
    "        print(\"len(df1[df1['y']=='FAKE']): \", len(df1[df1['y']=='FAKE']))\n",
    "        df1['y'] = np.where(df1['y'] == 'FAKE', 'false', 'true') #set y to false if FAKE, else true\n",
    "        print(\"len(df1) \",len(df1))\n",
    "\n",
    "        print('-- liar liar')\n",
    "        #Concatenate train and test\n",
    "        df2_1 = pd.read_csv(dataset2_1_in, sep='\\t', header=None, usecols=[1,2], names=['y', 'claim'])\n",
    "        df2_2 = pd.read_csv(dataset2_2_in, sep='\\t', header=None, usecols=[1,2], names=['y', 'claim'])\n",
    "        df2 = pd.concat([df2_1,df2_2], ignore_index=True)\n",
    "        print(\"df2.keys(): \", df2.keys())\n",
    "        print('set(df2.y): {}, len(df2): {}'.format(set(df2.y), len(df2)))\n",
    "        print(len(df2[df2['y'] == 'true']))\n",
    "        print(len(df2[df2['y'] == 'false']))\n",
    "        df2=df2[(df2['y'] == 'true') | (df2['y'] == 'false')]   #only take values true and false\n",
    "        print(set(df2.y), len(df2))\n",
    "\n",
    "        df3=pd.concat([df1, df2], ignore_index=True)\n",
    "\n",
    "        print(df3['y'].value_counts())\n",
    "        print('done')\n",
    "        return df3['claim'], df3['y']\n",
    "        #return train_test_split(df3['claim'], df3['y'], test_size=0.30, random_state=4222)\n",
    "    except Exception as e:\n",
    "        print(e)\n"
   ]
  },
  {
   "cell_type": "markdown",
   "metadata": {},
   "source": [
    "# Datasets"
   ]
  },
  {
   "cell_type": "markdown",
   "metadata": {},
   "source": [
    "## Dataset 1"
   ]
  },
  {
   "cell_type": "code",
   "execution_count": 5,
   "metadata": {},
   "outputs": [
    {
     "data": {
      "text/html": [
       "<div>\n",
       "<style scoped>\n",
       "    .dataframe tbody tr th:only-of-type {\n",
       "        vertical-align: middle;\n",
       "    }\n",
       "\n",
       "    .dataframe tbody tr th {\n",
       "        vertical-align: top;\n",
       "    }\n",
       "\n",
       "    .dataframe thead th {\n",
       "        text-align: right;\n",
       "    }\n",
       "</style>\n",
       "<table border=\"1\" class=\"dataframe\">\n",
       "  <thead>\n",
       "    <tr style=\"text-align: right;\">\n",
       "      <th></th>\n",
       "      <th>y</th>\n",
       "      <th>claim</th>\n",
       "    </tr>\n",
       "  </thead>\n",
       "  <tbody>\n",
       "    <tr>\n",
       "      <th>0</th>\n",
       "      <td>FAKE</td>\n",
       "      <td>You Can Smell Hillary’s Fear. Daniel Greenfiel...</td>\n",
       "    </tr>\n",
       "    <tr>\n",
       "      <th>1</th>\n",
       "      <td>FAKE</td>\n",
       "      <td>Watch The Exact Moment Paul Ryan Committed Pol...</td>\n",
       "    </tr>\n",
       "    <tr>\n",
       "      <th>2</th>\n",
       "      <td>REAL</td>\n",
       "      <td>Kerry to go to Paris in gesture of sympathy. U...</td>\n",
       "    </tr>\n",
       "    <tr>\n",
       "      <th>3</th>\n",
       "      <td>FAKE</td>\n",
       "      <td>Bernie supporters on Twitter erupt in anger ag...</td>\n",
       "    </tr>\n",
       "    <tr>\n",
       "      <th>4</th>\n",
       "      <td>REAL</td>\n",
       "      <td>The Battle of New York: Why This Primary Matte...</td>\n",
       "    </tr>\n",
       "  </tbody>\n",
       "</table>\n",
       "</div>"
      ],
      "text/plain": [
       "      y                                              claim\n",
       "0  FAKE  You Can Smell Hillary’s Fear. Daniel Greenfiel...\n",
       "1  FAKE  Watch The Exact Moment Paul Ryan Committed Pol...\n",
       "2  REAL  Kerry to go to Paris in gesture of sympathy. U...\n",
       "3  FAKE  Bernie supporters on Twitter erupt in anger ag...\n",
       "4  REAL  The Battle of New York: Why This Primary Matte..."
      ]
     },
     "execution_count": 5,
     "metadata": {},
     "output_type": "execute_result"
    }
   ],
   "source": [
    "df_fakeorreal = pd.read_csv('./fake_or_real_news.csv',sep=',', usecols=['title','text','label'])\n",
    "#df_pantsfire_test  = pd.read_csv('./liar_dataset/test.tsv',  sep='\\t', header=None,usecols=[1,2], names=['y', 'claim'])\n",
    "df_fakeorreal['claim'] = df_fakeorreal[['title', 'text']].apply(lambda x: '. '.join(x), axis=1)\n",
    "del df_fakeorreal['text']\n",
    "del df_fakeorreal['title']\n",
    "df_fakeorreal.rename(index = str, columns = {'label': 'y'}, inplace=True)\n",
    "df_fakeorreal.head()\n",
    "#print (df_fakeorreal.keys())\n",
    "  #  df1['claim'] = df1[['title', 'text']].apply(lambda x: '. '.join(x), axis=1)\n",
    "  #  del df1['title']\n",
    "  #  del df1['text']\n",
    "  #  df1.rename(index=str, columns={'label': 'y'}, inplace=True)"
   ]
  },
  {
   "cell_type": "code",
   "execution_count": 6,
   "metadata": {},
   "outputs": [
    {
     "data": {
      "text/html": [
       "<div>\n",
       "<style scoped>\n",
       "    .dataframe tbody tr th:only-of-type {\n",
       "        vertical-align: middle;\n",
       "    }\n",
       "\n",
       "    .dataframe tbody tr th {\n",
       "        vertical-align: top;\n",
       "    }\n",
       "\n",
       "    .dataframe thead th {\n",
       "        text-align: right;\n",
       "    }\n",
       "</style>\n",
       "<table border=\"1\" class=\"dataframe\">\n",
       "  <thead>\n",
       "    <tr style=\"text-align: right;\">\n",
       "      <th></th>\n",
       "      <th>y</th>\n",
       "      <th>claim</th>\n",
       "    </tr>\n",
       "  </thead>\n",
       "  <tbody>\n",
       "    <tr>\n",
       "      <th>0</th>\n",
       "      <td>false</td>\n",
       "      <td>You Can Smell Hillary’s Fear. Daniel Greenfiel...</td>\n",
       "    </tr>\n",
       "    <tr>\n",
       "      <th>1</th>\n",
       "      <td>false</td>\n",
       "      <td>Watch The Exact Moment Paul Ryan Committed Pol...</td>\n",
       "    </tr>\n",
       "    <tr>\n",
       "      <th>2</th>\n",
       "      <td>true</td>\n",
       "      <td>Kerry to go to Paris in gesture of sympathy. U...</td>\n",
       "    </tr>\n",
       "    <tr>\n",
       "      <th>3</th>\n",
       "      <td>false</td>\n",
       "      <td>Bernie supporters on Twitter erupt in anger ag...</td>\n",
       "    </tr>\n",
       "    <tr>\n",
       "      <th>4</th>\n",
       "      <td>true</td>\n",
       "      <td>The Battle of New York: Why This Primary Matte...</td>\n",
       "    </tr>\n",
       "  </tbody>\n",
       "</table>\n",
       "</div>"
      ],
      "text/plain": [
       "       y                                              claim\n",
       "0  false  You Can Smell Hillary’s Fear. Daniel Greenfiel...\n",
       "1  false  Watch The Exact Moment Paul Ryan Committed Pol...\n",
       "2   true  Kerry to go to Paris in gesture of sympathy. U...\n",
       "3  false  Bernie supporters on Twitter erupt in anger ag...\n",
       "4   true  The Battle of New York: Why This Primary Matte..."
      ]
     },
     "execution_count": 6,
     "metadata": {},
     "output_type": "execute_result"
    }
   ],
   "source": [
    "df_fakeorreal['y'] = np.where(df_fakeorreal['y'] == 'FAKE', 'false', 'true')\n",
    "df_fakeorreal.head()"
   ]
  },
  {
   "cell_type": "markdown",
   "metadata": {},
   "source": [
    "## Dataset 2"
   ]
  },
  {
   "cell_type": "code",
   "execution_count": 7,
   "metadata": {},
   "outputs": [
    {
     "name": "stdout",
     "output_type": "stream",
     "text": [
      "(3671, 2)\n",
      "(457, 2)\n",
      "(4128, 2)\n"
     ]
    },
    {
     "data": {
      "text/html": [
       "<div>\n",
       "<style scoped>\n",
       "    .dataframe tbody tr th:only-of-type {\n",
       "        vertical-align: middle;\n",
       "    }\n",
       "\n",
       "    .dataframe tbody tr th {\n",
       "        vertical-align: top;\n",
       "    }\n",
       "\n",
       "    .dataframe thead th {\n",
       "        text-align: right;\n",
       "    }\n",
       "</style>\n",
       "<table border=\"1\" class=\"dataframe\">\n",
       "  <thead>\n",
       "    <tr style=\"text-align: right;\">\n",
       "      <th></th>\n",
       "      <th>y</th>\n",
       "      <th>claim</th>\n",
       "    </tr>\n",
       "  </thead>\n",
       "  <tbody>\n",
       "    <tr>\n",
       "      <th>0</th>\n",
       "      <td>false</td>\n",
       "      <td>Says the Annies List political group supports ...</td>\n",
       "    </tr>\n",
       "    <tr>\n",
       "      <th>1</th>\n",
       "      <td>false</td>\n",
       "      <td>Health care reform legislation is likely to ma...</td>\n",
       "    </tr>\n",
       "    <tr>\n",
       "      <th>2</th>\n",
       "      <td>true</td>\n",
       "      <td>The Chicago Bears have had more starting quart...</td>\n",
       "    </tr>\n",
       "    <tr>\n",
       "      <th>3</th>\n",
       "      <td>false</td>\n",
       "      <td>When Mitt Romney was governor of Massachusetts...</td>\n",
       "    </tr>\n",
       "    <tr>\n",
       "      <th>4</th>\n",
       "      <td>true</td>\n",
       "      <td>McCain opposed a requirement that the governme...</td>\n",
       "    </tr>\n",
       "  </tbody>\n",
       "</table>\n",
       "</div>"
      ],
      "text/plain": [
       "       y                                              claim\n",
       "0  false  Says the Annies List political group supports ...\n",
       "1  false  Health care reform legislation is likely to ma...\n",
       "2   true  The Chicago Bears have had more starting quart...\n",
       "3  false  When Mitt Romney was governor of Massachusetts...\n",
       "4   true  McCain opposed a requirement that the governme..."
      ]
     },
     "execution_count": 7,
     "metadata": {},
     "output_type": "execute_result"
    }
   ],
   "source": [
    "#Liar liar, pants on fire: train and test\n",
    "df_pantsfire_train = pd.read_csv('./liar_dataset/test.tsv' , sep='\\t', header=None, usecols=[1,2], names=['y', 'claim'])\n",
    "df_pantsfire_test  = pd.read_csv('./liar_dataset/train.tsv', sep='\\t', header=None, usecols=[1,2], names=['y', 'claim'])\n",
    "#only take values true and false\n",
    "df_pantsfire_train=df_pantsfire_train[(df_pantsfire_train['y'] == 'true') | (df_pantsfire_train['y'] == 'false')] \n",
    "df_pantsfire_test=df_pantsfire_test[(df_pantsfire_test['y'] == 'true') | (df_pantsfire_test['y'] == 'false')]   \n",
    "                \n",
    "#Concatenate Datasets (test and train)\n",
    "df_pantsfire = pd.concat([df_pantsfire_test,df_pantsfire_train], ignore_index=True)\n",
    "#df_pantsfire      = pd.read_csv('./liar_dataset/train.tsv', sep='\\t', header=None,usecols=[1,2], names=['y', 'claim'])\n",
    "print(df_pantsfire_test.shape)\n",
    "print(df_pantsfire_train.shape)\n",
    "print(df_pantsfire.shape)\n",
    "df_pantsfire.head()"
   ]
  },
  {
   "cell_type": "markdown",
   "metadata": {},
   "source": [
    "## Dataset 3"
   ]
  },
  {
   "cell_type": "code",
   "execution_count": 8,
   "metadata": {
    "scrolled": false
   },
   "outputs": [
    {
     "name": "stdout",
     "output_type": "stream",
     "text": [
      "processing datasets\n",
      "ds1= ./fake_or_real_news.csv\n",
      "ds2= ./liar_dataset/test.tsv\n",
      "ds3= ./liar_dataset/train.tsv\n",
      "-- fake news\n",
      "df1.keys():  Index(['y', 'claim'], dtype='object')\n",
      "len(df1[df1['y']=='REAL']):  3171\n",
      "len(df1[df1['y']=='FAKE']):  3164\n",
      "len(df1)  6335\n",
      "-- liar liar\n",
      "df2.keys():  Index(['y', 'claim'], dtype='object')\n",
      "set(df2.y): {'false', 'mostly-true', 'half-true', 'pants-fire', 'barely-true', 'true'}, len(df2): 11507\n",
      "1884\n",
      "2244\n",
      "{'true', 'false'} 4128\n",
      "false    5408\n",
      "true     5055\n",
      "Name: y, dtype: int64\n",
      "done\n",
      "Length X_ds3:  10463\n",
      "Length y_ds3:  10463\n",
      "false You Can Smell Hillary’s Fear. Daniel Greenfield, a Shillman Journalism Fellow at the Freedom Center, is a New York writer focusing on radical Islam. \n",
      "In the final stretch of the election, Hillary Rodham Clinton has gone to war with the FBI. \n",
      "The word “unprecedented” has been thrown around so often this election that it ought to be retired. But it’s still unprecedented for the nominee of a major political party to go war with the FBI. \n",
      "But that’s exactly what Hillary and her people have done. Coma patients just waking up now and watching an hour of CNN from their hospital beds would assume that FBI Director James Comey is Hillary’s opponent in this election. \n",
      "The FBI is under attack by everyone from Obama to CNN. Hillary’s people have circulated a letter attacking Comey. There are currently more media hit pieces lambasting him than targeting Trump. It wouldn’t be too surprising if the Clintons or their allies were to start running attack ads against the FBI. \n",
      "The FBI’s leadership is being warned that the entire left-wing establishment will form a lynch mob if they continue going after Hillary. And the FBI’s credibility is being attacked by the media and the Democrats to preemptively head off the results of the investigation of the Clinton Foundation and Hillary Clinton. \n",
      "The covert struggle between FBI agents and Obama’s DOJ people has gone explosively public. \n",
      "The New York Times has compared Comey to J. Edgar Hoover. Its bizarre headline, “James Comey Role Recalls Hoover’s FBI, Fairly or Not” practically admits up front that it’s spouting nonsense. The Boston Globe has published a column calling for Comey’s resignation. Not to be outdone, Time has an editorial claiming that the scandal is really an attack on all women. \n",
      "James Carville appeared on MSNBC to remind everyone that he was still alive and insane. He accused Comey of coordinating with House Republicans and the KGB. And you thought the “vast right wing conspiracy” was a stretch. \n",
      "Countless media stories charge Comey with violating procedure. Do you know what’s a procedural violation? Emailing classified information stored on your bathroom server. \n",
      "Senator Harry Reid has sent Comey a letter accusing him of violating the Hatch Act. The Hatch Act is a nice idea that has as much relevance in the age of Obama as the Tenth Amendment. But the cable news spectrum quickly filled with media hacks glancing at the Wikipedia article on the Hatch Act under the table while accusing the FBI director of one of the most awkward conspiracies against Hillary ever. \n",
      "If James Comey is really out to hurt Hillary, he picked one hell of a strange way to do it. \n",
      "Not too long ago Democrats were breathing a sigh of relief when he gave Hillary Clinton a pass in a prominent public statement. If he really were out to elect Trump by keeping the email scandal going, why did he trash the investigation? Was he on the payroll of House Republicans and the KGB back then and playing it coy or was it a sudden development where Vladimir Putin and Paul Ryan talked him into taking a look at Anthony Weiner’s computer? \n",
      "Either Comey is the most cunning FBI director that ever lived or he’s just awkwardly trying to navigate a political mess that has trapped him between a DOJ leadership whose political futures are tied to Hillary’s victory and his own bureau whose apolitical agents just want to be allowed to do their jobs. \n",
      "The only truly mysterious thing is why Hillary and her associates decided to go to war with a respected Federal agency. Most Americans like the FBI while Hillary Clinton enjoys a 60% unfavorable rating. \n",
      "And it’s an interesting question. \n",
      "Hillary’s old strategy was to lie and deny that the FBI even had a criminal investigation underway. Instead her associates insisted that it was a security review. The FBI corrected her and she shrugged it off. But the old breezy denial approach has given way to a savage assault on the FBI. \n",
      "Pretending that nothing was wrong was a bad strategy, but it was a better one that picking a fight with the FBI while lunatic Clinton associates try to claim that the FBI is really the KGB. \n",
      "There are two possible explanations. \n",
      "Hillary Clinton might be arrogant enough to lash out at the FBI now that she believes that victory is near. The same kind of hubris that led her to plan her victory fireworks display could lead her to declare a war on the FBI for irritating her during the final miles of her campaign. \n",
      "But the other explanation is that her people panicked. \n",
      "Going to war with the FBI is not the behavior of a smart and focused presidential campaign. It’s an act of desperation. When a presidential candidate decides that her only option is to try and destroy the credibility of the FBI, that’s not hubris, it’s fear of what the FBI might be about to reveal about her. \n",
      "During the original FBI investigation, Hillary Clinton was confident that she could ride it out. And she had good reason for believing that. But that Hillary Clinton is gone. In her place is a paranoid wreck. Within a short space of time the “positive” Clinton campaign promising to unite the country has been replaced by a desperate and flailing operation that has focused all its energy on fighting the FBI. \n",
      "There’s only one reason for such bizarre behavior. \n",
      "The Clinton campaign has decided that an FBI investigation of the latest batch of emails poses a threat to its survival. And so it’s gone all in on fighting the FBI. It’s an unprecedented step born of fear. It’s hard to know whether that fear is justified. But the existence of that fear already tells us a whole lot. \n",
      "Clinton loyalists rigged the old investigation. They knew the outcome ahead of time as well as they knew the debate questions. Now suddenly they are no longer in control. And they are afraid. \n",
      "You can smell the fear. \n",
      "The FBI has wiretaps from the investigation of the Clinton Foundation. It’s finding new emails all the time. And Clintonworld panicked. The spinmeisters of Clintonworld have claimed that the email scandal is just so much smoke without fire. All that’s here is the appearance of impropriety without any of the substance. But this isn’t how you react to smoke. It’s how you respond to a fire. \n",
      "The misguided assault on the FBI tells us that Hillary Clinton and her allies are afraid of a revelation bigger than the fundamental illegality of her email setup. The email setup was a preemptive cover up. The Clinton campaign has panicked badly out of the belief, right or wrong, that whatever crime the illegal setup was meant to cover up is at risk of being exposed. \n",
      "The Clintons have weathered countless scandals over the years. Whatever they are protecting this time around is bigger than the usual corruption, bribery, sexual assaults and abuses of power that have followed them around throughout the years. This is bigger and more damaging than any of the allegations that have already come out. And they don’t want FBI investigators anywhere near it. \n",
      "The campaign against Comey is pure intimidation. It’s also a warning. Any senior FBI people who value their careers are being warned to stay away. The Democrats are closing ranks around their nominee against the FBI. It’s an ugly and unprecedented scene. It may also be their last stand. \n",
      "Hillary Clinton has awkwardly wound her way through numerous scandals in just this election cycle. But she’s never shown fear or desperation before. Now that has changed. Whatever she is afraid of, it lies buried in her emails with Huma Abedin. And it can bring her down like nothing else has.  \n"
     ]
    }
   ],
   "source": [
    "X_ds3, y_ds3 = get_dataset3_split(ds1,ds2_1,ds2_2)#ds1,ds2)\n",
    "print('Length X_ds3: ',len(X_ds3))\n",
    "print('Length y_ds3: ',len(y_ds3))\n",
    "print(y_ds3.get_values()[0], X_ds3.get_values()[0])"
   ]
  },
  {
   "cell_type": "markdown",
   "metadata": {},
   "source": [
    "# Configuration 1\n",
    "## Model_a \n",
    "### -> TfidfVectorizer(=count_vect+tfidfTransformer,.."
   ]
  },
  {
   "cell_type": "code",
   "execution_count": 9,
   "metadata": {},
   "outputs": [],
   "source": [
    "tfidf_vectorizer = TfidfVectorizer(stop_words='english', max_df=0.7)"
   ]
  },
  {
   "cell_type": "code",
   "execution_count": 10,
   "metadata": {},
   "outputs": [
    {
     "name": "stdout",
     "output_type": "stream",
     "text": [
      "Scores:\n",
      "precision: 0.830393487109905, recall: 0.9637795275590552, \n",
      " f_measure: 0.8921282798833821, accuracy: 0.8832807570977917\n",
      "Scores:\n",
      "precision: 0.8281461434370772, recall: 0.9652996845425867, \n",
      " f_measure: 0.8914785142024764, accuracy: 0.8823993685872139\n",
      "Scores:\n",
      "precision: 0.8136729222520107, recall: 0.9574132492113565, \n",
      " f_measure: 0.8797101449275362, accuracy: 0.8689818468823993\n",
      "Scores:\n",
      "precision: 0.8317631224764468, recall: 0.9747634069400631, \n",
      " f_measure: 0.8976034858387799, accuracy: 0.8887134964483031\n",
      "Scores:\n",
      "precision: 0.820855614973262, recall: 0.9684542586750788, \n",
      " f_measure: 0.8885672937771346, accuracy: 0.8783570300157978\n",
      "----------\n",
      "Averaged values:\n",
      "precision: 0.8249662580497403, recall: 0.9659420253856281, \n",
      " f_measure: 0.8898975437258618, accuracy: 0.8803464998063012\n"
     ]
    }
   ],
   "source": [
    "X_df_fakeorreal = tfidf_vectorizer.fit_transform(df_fakeorreal['claim'])\n",
    "y_df_fakeorreal = df_fakeorreal['y']\n",
    "clf_MNB = MultinomialNB(alpha = 0.4)\n",
    "#clfMNB = clf_MNB.fit(X_df_fakeorreal, y_df_fakeorreal)\n",
    "\n",
    "skf = StratifiedKFold(n_splits = 5, shuffle= False, random_state = 4222)\n",
    "scores_avg = [0,0,0,0]\n",
    "for train, test in skf.split(X_df_fakeorreal,y_df_fakeorreal):\n",
    "    X_train, X_test = X_df_fakeorreal[train],X_df_fakeorreal[test]\n",
    "    y_train, y_test  = y_df_fakeorreal[train],y_df_fakeorreal[test]\n",
    "        \n",
    "    clf_MNB.fit(X_train, y_train)\n",
    "    y_star = clf_MNB.predict(X_test)\n",
    "    scores = get_Scores(y_test, y_star)\n",
    "    scores_avg = [scores_avg[i]+ scores[i] for i in range(4)]\n",
    "scores_avg = [i/5 for i in scores_avg]\n",
    "\n",
    "print('----------')\n",
    "print('Averaged values:')\n",
    "print('precision: {}, recall: {}, \\n f_measure: {}, accuracy: {}'.format(scores_avg[0],scores_avg[1],scores_avg[2],scores_avg[3]))\n",
    "    "
   ]
  },
  {
   "cell_type": "code",
   "execution_count": 11,
   "metadata": {},
   "outputs": [
    {
     "data": {
      "text/plain": [
       "MultinomialNB(alpha=0.4, class_prior=None, fit_prior=True)"
      ]
     },
     "execution_count": 11,
     "metadata": {},
     "output_type": "execute_result"
    }
   ],
   "source": [
    "#For Configuration we fit the Multinomial Naive Bayes Classifier to the whole dataset\n",
    "clf_MNB.fit(X_df_fakeorreal, y_df_fakeorreal)\n"
   ]
  },
  {
   "cell_type": "markdown",
   "metadata": {},
   "source": [
    "# Configuration 2\n",
    "## Model_b"
   ]
  },
  {
   "cell_type": "code",
   "execution_count": 12,
   "metadata": {},
   "outputs": [
    {
     "data": {
      "text/html": [
       "<div>\n",
       "<style scoped>\n",
       "    .dataframe tbody tr th:only-of-type {\n",
       "        vertical-align: middle;\n",
       "    }\n",
       "\n",
       "    .dataframe tbody tr th {\n",
       "        vertical-align: top;\n",
       "    }\n",
       "\n",
       "    .dataframe thead th {\n",
       "        text-align: right;\n",
       "    }\n",
       "</style>\n",
       "<table border=\"1\" class=\"dataframe\">\n",
       "  <thead>\n",
       "    <tr style=\"text-align: right;\">\n",
       "      <th></th>\n",
       "      <th>y</th>\n",
       "      <th>claim</th>\n",
       "    </tr>\n",
       "  </thead>\n",
       "  <tbody>\n",
       "    <tr>\n",
       "      <th>0</th>\n",
       "      <td>false</td>\n",
       "      <td>Says the Annies List political group supports ...</td>\n",
       "    </tr>\n",
       "    <tr>\n",
       "      <th>1</th>\n",
       "      <td>false</td>\n",
       "      <td>Health care reform legislation is likely to ma...</td>\n",
       "    </tr>\n",
       "    <tr>\n",
       "      <th>2</th>\n",
       "      <td>true</td>\n",
       "      <td>The Chicago Bears have had more starting quart...</td>\n",
       "    </tr>\n",
       "    <tr>\n",
       "      <th>3</th>\n",
       "      <td>false</td>\n",
       "      <td>When Mitt Romney was governor of Massachusetts...</td>\n",
       "    </tr>\n",
       "    <tr>\n",
       "      <th>4</th>\n",
       "      <td>true</td>\n",
       "      <td>McCain opposed a requirement that the governme...</td>\n",
       "    </tr>\n",
       "  </tbody>\n",
       "</table>\n",
       "</div>"
      ],
      "text/plain": [
       "       y                                              claim\n",
       "0  false  Says the Annies List political group supports ...\n",
       "1  false  Health care reform legislation is likely to ma...\n",
       "2   true  The Chicago Bears have had more starting quart...\n",
       "3  false  When Mitt Romney was governor of Massachusetts...\n",
       "4   true  McCain opposed a requirement that the governme..."
      ]
     },
     "execution_count": 12,
     "metadata": {},
     "output_type": "execute_result"
    }
   ],
   "source": [
    "df_pantsfire.head()"
   ]
  },
  {
   "cell_type": "code",
   "execution_count": 13,
   "metadata": {},
   "outputs": [],
   "source": [
    "X_train_pantsfire = tfidf_vectorizer.transform(df_pantsfire_train['claim'])\n",
    "X_test_pantsfire  = tfidf_vectorizer.transform(df_pantsfire_test['claim'])\n",
    "y_train_pantsfire = df_pantsfire_train['y']\n",
    "y_test_pantsfire  = df_pantsfire_test['y']"
   ]
  },
  {
   "cell_type": "code",
   "execution_count": 14,
   "metadata": {},
   "outputs": [
    {
     "name": "stdout",
     "output_type": "stream",
     "text": [
      "3-Neighbor Classifier\n",
      "tested on Training set:\n",
      "Scores:\n",
      "precision: 0.7209302325581395, recall: 0.7451923076923077, \n",
      " f_measure: 0.7328605200945627, accuracy: 0.7527352297592997\n",
      "Confusion matrix, without normalization\n"
     ]
    },
    {
     "data": {
      "image/png": "[encoded data removed]",
      "text/plain": [
       "<matplotlib.figure.Figure at 0x22f7fd055f8>"
      ]
     },
     "metadata": {},
     "output_type": "display_data"
    }
   ],
   "source": [
    "#on Training set\n",
    "print('3-Neighbor Classifier')\n",
    "print('tested on Training set:')\n",
    "clf_KNeighbor = KNeighborsClassifier(3)\n",
    "clf_KNeighbor.fit(X_train_pantsfire, y_train_pantsfire)\n",
    "\n",
    "\n",
    "y_star_pantsfire = clf_KNeighbor.predict(X_train_pantsfire)\n",
    "scores = get_Scores(y_train_pantsfire, y_star_pantsfire)\n",
    "\n",
    "confusion_matrix = metrics.confusion_matrix(y_train_pantsfire, y_star_pantsfire, labels=['true', 'false'])\n",
    "plot_confusion_matrix(confusion_matrix, classes=['true', 'false'])"
   ]
  },
  {
   "cell_type": "code",
   "execution_count": 15,
   "metadata": {},
   "outputs": [
    {
     "name": "stdout",
     "output_type": "stream",
     "text": [
      "3-Neighbor Classifier\n",
      "tested on Test set:\n",
      "Scores:\n",
      "precision: 0.4725592143269786, recall: 0.4880668257756563, \n",
      " f_measure: 0.48018784854710883, accuracy: 0.5175701443748297\n",
      "Confusion matrix, without normalization\n"
     ]
    },
    {
     "data": {
      "image/png": "[encoded data removed]",
      "text/plain": [
       "<matplotlib.figure.Figure at 0x22f0461c4e0>"
      ]
     },
     "metadata": {},
     "output_type": "display_data"
    }
   ],
   "source": [
    "#on Test set:\n",
    "print('3-Neighbor Classifier')\n",
    "print('tested on Test set:')\n",
    "clf_KNeighbor = KNeighborsClassifier(3)\n",
    "clf_KNeighbor.fit(X_train_pantsfire, y_train_pantsfire)\n",
    "\n",
    "\n",
    "y_star_pantsfire = clf_KNeighbor.predict(X_test_pantsfire)\n",
    "scores = get_Scores(y_test_pantsfire, y_star_pantsfire)\n",
    "\n",
    "confusion_matrix = metrics.confusion_matrix(y_test_pantsfire, y_star_pantsfire, labels=['true', 'false'])\n",
    "plot_confusion_matrix(confusion_matrix, classes=['true', 'false'])"
   ]
  },
  {
   "cell_type": "markdown",
   "metadata": {},
   "source": [
    "# Configuration 3\n",
    "## model a => dataset2"
   ]
  },
  {
   "cell_type": "code",
   "execution_count": 16,
   "metadata": {},
   "outputs": [
    {
     "name": "stdout",
     "output_type": "stream",
     "text": [
      "Scores:\n",
      "precision: 0.4609012591119947, recall: 0.8299522673031027, \n",
      " f_measure: 0.5926714955262037, accuracy: 0.4791609915554345\n",
      "Confusion matrix, without normalization\n"
     ]
    },
    {
     "data": {
      "image/png": "[encoded data removed]",
      "text/plain": [
       "<matplotlib.figure.Figure at 0x22f05031828>"
      ]
     },
     "metadata": {},
     "output_type": "display_data"
    }
   ],
   "source": [
    "y_star_pantsfire = clf_MNB.predict(X_test_pantsfire)\n",
    "scores = get_Scores(y_test_pantsfire, y_star_pantsfire)\n",
    "\n",
    "confusion_matrix = metrics.confusion_matrix(y_test_pantsfire, y_star_pantsfire, labels=['true', 'false'])\n",
    "plot_confusion_matrix(confusion_matrix, classes=['true', 'false'])"
   ]
  },
  {
   "cell_type": "markdown",
   "metadata": {},
   "source": [
    "# model2 => dataset1 (test) "
   ]
  },
  {
   "cell_type": "code",
   "execution_count": 17,
   "metadata": {},
   "outputs": [
    {
     "name": "stdout",
     "output_type": "stream",
     "text": [
      "Scores:\n",
      "precision: 0.501628664495114, recall: 0.4856512141280353, \n",
      " f_measure: 0.49351065534369487, accuracy: 0.501026045777427\n",
      "Confusion matrix, without normalization\n"
     ]
    },
    {
     "data": {
      "image/png": "[encoded data removed]",
      "text/plain": [
       "<matplotlib.figure.Figure at 0x22f050343c8>"
      ]
     },
     "metadata": {},
     "output_type": "display_data"
    }
   ],
   "source": [
    "y_star = clf_KNeighbor.predict(X_df_fakeorreal)\n",
    "scores = get_Scores(y_df_fakeorreal, y_star)\n",
    "confusion_matrix = metrics.confusion_matrix(y_df_fakeorreal, y_star, labels=['true', 'false'])\n",
    "plot_confusion_matrix(confusion_matrix, classes=['true', 'false'])"
   ]
  },
  {
   "cell_type": "markdown",
   "metadata": {},
   "source": [
    "# Configuration 4\n",
    "## model c => dataset3 (train / test split)\n"
   ]
  },
  {
   "cell_type": "code",
   "execution_count": 22,
   "metadata": {},
   "outputs": [
    {
     "ename": "TypeError",
     "evalue": "sparse matrix length is ambiguous; use getnnz() or shape[0]",
     "output_type": "error",
     "traceback": [
      "\u001b[1;31m---------------------------------------------------------------------------\u001b[0m",
      "\u001b[1;31mTypeError\u001b[0m                                 Traceback (most recent call last)",
      "\u001b[1;32m<ipython-input-22-caf77336bbc5>\u001b[0m in \u001b[0;36m<module>\u001b[1;34m()\u001b[0m\n\u001b[1;32m----> 1\u001b[1;33m \u001b[0mprint\u001b[0m\u001b[1;33m(\u001b[0m\u001b[1;34m'Length X_ds3: '\u001b[0m\u001b[1;33m,\u001b[0m\u001b[0mlen\u001b[0m\u001b[1;33m(\u001b[0m\u001b[0mX_ds3\u001b[0m\u001b[1;33m)\u001b[0m\u001b[1;33m)\u001b[0m\u001b[1;33m\u001b[0m\u001b[0m\n\u001b[0m\u001b[0;32m      2\u001b[0m \u001b[1;31m#print(y_ds3.get_values()[1], X_ds3.get_values()[3])\u001b[0m\u001b[1;33m\u001b[0m\u001b[1;33m\u001b[0m\u001b[0m\n\u001b[0;32m      3\u001b[0m \u001b[0mX_ds3\u001b[0m \u001b[1;33m=\u001b[0m \u001b[0mtfidf_vectorizer\u001b[0m\u001b[1;33m.\u001b[0m\u001b[0mtransform\u001b[0m\u001b[1;33m(\u001b[0m\u001b[0mX_ds3\u001b[0m\u001b[1;33m.\u001b[0m\u001b[0mget_values\u001b[0m\u001b[1;33m(\u001b[0m\u001b[1;33m)\u001b[0m\u001b[1;33m)\u001b[0m\u001b[1;33m\u001b[0m\u001b[0m\n",
      "\u001b[1;32m~\\Anaconda3\\lib\\site-packages\\scipy\\sparse\\base.py\u001b[0m in \u001b[0;36m__len__\u001b[1;34m(self)\u001b[0m\n\u001b[0;32m    264\u001b[0m     \u001b[1;31m# non-zeros is more important.  For now, raise an exception!\u001b[0m\u001b[1;33m\u001b[0m\u001b[1;33m\u001b[0m\u001b[0m\n\u001b[0;32m    265\u001b[0m     \u001b[1;32mdef\u001b[0m \u001b[0m__len__\u001b[0m\u001b[1;33m(\u001b[0m\u001b[0mself\u001b[0m\u001b[1;33m)\u001b[0m\u001b[1;33m:\u001b[0m\u001b[1;33m\u001b[0m\u001b[0m\n\u001b[1;32m--> 266\u001b[1;33m         raise TypeError(\"sparse matrix length is ambiguous; use getnnz()\"\n\u001b[0m\u001b[0;32m    267\u001b[0m                         \" or shape[0]\")\n\u001b[0;32m    268\u001b[0m \u001b[1;33m\u001b[0m\u001b[0m\n",
      "\u001b[1;31mTypeError\u001b[0m: sparse matrix length is ambiguous; use getnnz() or shape[0]"
     ]
    }
   ],
   "source": [
    "print('Length X_ds3: ',len(X_ds3))\n",
    "#print(y_ds3.get_values()[1], X_ds3.get_values()[3])\n",
    "X_ds3 = tfidf_vectorizer.transform(X_ds3.get_values())\n"
   ]
  },
  {
   "cell_type": "code",
   "execution_count": 19,
   "metadata": {},
   "outputs": [
    {
     "name": "stdout",
     "output_type": "stream",
     "text": [
      "Scores:\n",
      "precision: 0.9120879120879121, recall: 0.9030662710187932, \n",
      " f_measure: 0.9075546719681908, accuracy: 0.9111323459149546\n",
      "Scores:\n",
      "precision: 0.9076773566569485, recall: 0.923837784371909, \n",
      " f_measure: 0.9156862745098039, accuracy: 0.917821309125657\n",
      "Scores:\n",
      "precision: 0.8955078125, recall: 0.9070227497527201, \n",
      " f_measure: 0.9012285012285013, accuracy: 0.9039655996177736\n",
      "Scores:\n",
      "precision: 0.5965559655596556, recall: 0.4797230464886251, \n",
      " f_measure: 0.5317982456140351, accuracy: 0.5917782026768642\n",
      "Scores:\n",
      "precision: 0.5692307692307692, recall: 0.3659742828882295, \n",
      " f_measure: 0.4455147501505117, accuracy: 0.5597514340344169\n",
      "----------\n",
      "Averaged values:\n",
      "precision: 0.776211963207057, recall: 0.7159248269040555, \n",
      " f_measure: 0.7403564886942086, accuracy: 0.7768897782739332\n"
     ]
    }
   ],
   "source": [
    "clf_SGD = SGDClassifier(max_iter=100)  \n",
    "\n",
    "skf = StratifiedKFold(n_splits = 5, shuffle= False, random_state = 4222)\n",
    "scores_avg = [0,0,0,0]\n",
    "for train, test in skf.split(X_ds3,y_ds3):\n",
    "    X_train, X_test = X_ds3[train],X_ds3[test]\n",
    "    y_train, y_test  = y_ds3[train],y_ds3[test]\n",
    "        \n",
    "    clf_SGD.fit(X_train, y_train)\n",
    "    y_star = clf_SGD.predict(X_test)\n",
    "    scores = get_Scores(y_test, y_star)\n",
    "    scores_avg = [scores_avg[i]+ scores[i] for i in range(4)]\n",
    "scores_avg = [i/5 for i in scores_avg]\n",
    "\n",
    "print('----------')\n",
    "print('Averaged values:')\n",
    "print('precision: {}, recall: {}, \\n f_measure: {}, accuracy: {}'.format(scores_avg[0],scores_avg[1],scores_avg[2],scores_avg[3]))\n"
   ]
  },
  {
   "cell_type": "code",
   "execution_count": null,
   "metadata": {},
   "outputs": [],
   "source": []
  },
  {
   "cell_type": "code",
   "execution_count": null,
   "metadata": {},
   "outputs": [],
   "source": []
  }
 ],
 "metadata": {
  "kernelspec": {
   "display_name": "Python 3",
   "language": "python",
   "name": "python3"
  },
  "language_info": {
   "codemirror_mode": {
    "name": "ipython",
    "version": 3
   },
   "file_extension": ".py",
   "mimetype": "text/x-python",
   "name": "python",
   "nbconvert_exporter": "python",
   "pygments_lexer": "ipython3",
   "version": "3.6.4"
  }
 },
 "nbformat": 4,
 "nbformat_minor": 2
}
