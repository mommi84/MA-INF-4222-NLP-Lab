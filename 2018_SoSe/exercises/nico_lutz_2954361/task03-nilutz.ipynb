{
 "cells": [
  {
   "cell_type": "code",
   "execution_count": 29,
   "metadata": {
    "collapsed": false
   },
   "outputs": [
    {
     "name": "stdout",
     "output_type": "stream",
     "text": [
      "                                                text sentiment\n",
      "0  RT @NancyLeeGrahn: How did everyone feel about...   Neutral\n",
      "1  RT @ScottWalker: Didn't catch the full #GOPdeb...  Positive\n",
      "2  RT @TJMShow: No mention of Tamir Rice and the ...   Neutral\n",
      "3  RT @RobGeorge: That Carly Fiorina is trending ...  Positive\n",
      "4  RT @DanScavino: #GOPDebate w/ @realDonaldTrump...  Positive\n",
      "5  RT @GregAbbott_TX: @TedCruz: \"On my first day ...  Positive\n",
      "6  RT @warriorwoman91: I liked her and was happy ...  Negative\n",
      "7  Going on #MSNBC Live with @ThomasARoberts arou...   Neutral\n",
      "8  Deer in the headlights RT @lizzwinstead: Ben C...  Negative\n",
      "9  RT @NancyOsborne180: Last night's debate prove...  Negative\n"
     ]
    }
   ],
   "source": [
    "import numpy as np \n",
    "import pandas as pd \n",
    "from sklearn.feature_extraction.text import CountVectorizer\n",
    "from keras.preprocessing.text import Tokenizer\n",
    "from keras.preprocessing.sequence import pad_sequences\n",
    "from keras.models import Sequential\n",
    "from keras.layers import Dense, Embedding, LSTM, SpatialDropout1D\n",
    "from sklearn.model_selection import train_test_split\n",
    "from keras.utils.np_utils import to_categorical\n",
    "from keras.models import Sequential\n",
    "from keras.layers import Flatten\n",
    "from keras.layers.convolutional import Conv1D\n",
    "from keras.layers.convolutional import MaxPooling1D\n",
    "from keras.layers.embeddings import Embedding\n",
    "import re\n",
    "\n",
    "'''\n",
    "Task 3: playing with NN framwork/keras and basic sentiment analysis\n",
    "- use the following model as a baseline and improve it!\n",
    "- export your metadata (just basic hyperparameters and outcomes for test data!)\n",
    "- test data = 0.3 (not in this example, change it!)\n",
    "- random_state = 4222\n",
    "- no need to cross-validation!\n",
    "'''\n",
    "\n",
    "# parameters\n",
    "max_features = 500\n",
    "embed_dim = 256\n",
    "lstm_out = 196\n",
    "dropout = 0.2\n",
    "dropout_1d = 0.4\n",
    "recurrent_dropout = 0.1\n",
    "random_state = 1324\n",
    "validation_size = 1000\n",
    "batch_size = 16\n",
    "epochs=2\n",
    "verbose= 2\n",
    "\n",
    "df = pd.read_csv('dataset_sentiment.csv')\n",
    "df = df[['text','sentiment']]\n",
    "print(df[0:10])\n",
    "\n",
    "df = df[df.sentiment != \"Neutral\"]\n",
    "df['text'] = df['text'].apply(lambda x: x.lower())\n",
    "df['text'] = df['text'].apply(lambda x: x.replace('rt',' '))\n",
    "df['text'] = df['text'].apply((lambda x: re.sub('[^a-zA-z0-9\\s]','',x)))\n",
    "    \n",
    "tok = Tokenizer(num_words=max_features, split=' ')\n",
    "tok.fit_on_texts(df['text'].values)\n",
    "X = tok.texts_to_sequences(df['text'].values)\n",
    "X = pad_sequences(X)"
   ]
  },
  {
   "cell_type": "code",
   "execution_count": 22,
   "metadata": {
    "collapsed": true
   },
   "outputs": [],
   "source": [
    "def lstm():\n",
    "    nn = Sequential()\n",
    "    nn.add(Embedding(max_features, embed_dim, input_length = X.shape[1]))\n",
    "    nn.add(SpatialDropout1D(dropout_1d))\n",
    "    nn.add(LSTM(lstm_out, dropout=dropout, recurrent_dropout=recurrent_dropout))\n",
    "    nn.add(Dense(2, activation='softmax'))\n",
    "    nn.compile(loss = 'categorical_crossentropy', optimizer='adam', metrics = ['accuracy'])\n",
    "    print(nn.summary())\n",
    "    return nn"
   ]
  },
  {
   "cell_type": "code",
   "execution_count": 23,
   "metadata": {
    "collapsed": true
   },
   "outputs": [],
   "source": [
    "def conv():\n",
    "    #https://machinelearningmastery.com/predict-sentiment-movie-reviews-using-deep-learning/\n",
    "    nn = Sequential()\n",
    "    nn.add(Embedding(max_features, embed_dim, input_length= X.shape[1]))\n",
    "    nn.add(Conv1D(filters=32, kernel_size=3, padding='same', activation='relu'))\n",
    "    nn.add(MaxPooling1D(pool_size=2))\n",
    "    nn.add(Flatten())\n",
    "    nn.add(Dense(250, activation='relu'))\n",
    "    nn.add(Dense(2, activation='softmax'))\n",
    "    nn.compile(loss='categorical_crossentropy', optimizer='adam', metrics=['accuracy'])\n",
    "    print(nn.summary())\n",
    "    return nn"
   ]
  },
  {
   "cell_type": "code",
   "execution_count": 24,
   "metadata": {
    "collapsed": true
   },
   "outputs": [],
   "source": [
    "def evaluation(nn):\n",
    "    nn.fit(X_train, Y_train, epochs = epochs, batch_size=batch_size, verbose=verbose)\n",
    "    score, accuracy = nn.evaluate(X_test, Y_test, verbose = 2, batch_size = batch_size)\n",
    "    print(\"score: %.2f\" % (score))\n",
    "    print(\"acc: %.2f\" % (accuracy))\n",
    "\n",
    "    pos_cnt, neg_cnt, pos_ok, neg_ok = 0, 0, 0, 0\n",
    "    for x in range(len(X_validate)):\n",
    "        result = nn.predict(X_validate[x].reshape(1,X_test.shape[1]),batch_size=1,verbose = 2)[0]\n",
    "        if np.argmax(result) == np.argmax(Y_validate[x]):\n",
    "            if np.argmax(Y_validate[x]) == 0: neg_ok += 1\n",
    "            else: pos_ok += 1\n",
    "        if np.argmax(Y_validate[x]) == 0: neg_cnt += 1\n",
    "        else: pos_cnt += 1\n",
    "\n",
    "    print(\"pos_acc\", pos_ok/pos_cnt*100, \"%\")\n",
    "    print(\"neg_acc\", neg_ok/neg_cnt*100, \"%\")\n",
    "\n",
    "    X2 = ['what are u going to say about that? the truth, wassock?!']\n",
    "    X2 = tok.texts_to_sequences(X2)\n",
    "    X2 = pad_sequences(X2, maxlen=26, dtype='int32', value=0)\n",
    "    print(X2)\n",
    "    print(nn.predict(X2, batch_size=1, verbose = 2)[0])"
   ]
  },
  {
   "cell_type": "code",
   "execution_count": 25,
   "metadata": {
    "collapsed": true
   },
   "outputs": [],
   "source": [
    "Y = pd.get_dummies(df['sentiment']).values\n",
    "X_train, X_test, Y_train, Y_test = train_test_split(X, Y, test_size = 0.30, random_state = random_state)\n",
    "X_validate = X_test[-validation_size:]\n",
    "Y_validate = Y_test[-validation_size:]\n",
    "X_test = X_test[:-validation_size]\n",
    "Y_test = Y_test[:-validation_size]"
   ]
  },
  {
   "cell_type": "code",
   "execution_count": 26,
   "metadata": {
    "collapsed": false
   },
   "outputs": [
    {
     "name": "stdout",
     "output_type": "stream",
     "text": [
      "_________________________________________________________________\n",
      "Layer (type)                 Output Shape              Param #   \n",
      "=================================================================\n",
      "embedding_7 (Embedding)      (None, 26, 256)           128000    \n",
      "_________________________________________________________________\n",
      "spatial_dropout1d_7 (Spatial (None, 26, 256)           0         \n",
      "_________________________________________________________________\n",
      "lstm_7 (LSTM)                (None, 196)               355152    \n",
      "_________________________________________________________________\n",
      "dense_7 (Dense)              (None, 2)                 394       \n",
      "=================================================================\n",
      "Total params: 483,546\n",
      "Trainable params: 483,546\n",
      "Non-trainable params: 0\n",
      "_________________________________________________________________\n",
      "None\n"
     ]
    }
   ],
   "source": [
    "nn = lstm()"
   ]
  },
  {
   "cell_type": "code",
   "execution_count": 27,
   "metadata": {
    "collapsed": false
   },
   "outputs": [
    {
     "name": "stdout",
     "output_type": "stream",
     "text": [
      "Epoch 1/2\n",
      " - 38s - loss: 0.4289 - acc: 0.8198\n",
      "Epoch 2/2\n",
      " - 37s - loss: 0.3591 - acc: 0.8531\n",
      "score: 0.40\n",
      "acc: 0.83\n",
      "pos_acc 54.6875 %\n",
      "neg_acc 91.58415841584159 %\n",
      "[[  0   0   0   0   0   0   0   0   0   0   0   0   0   0   0   0  48  37\n",
      "  311 189   4 144  22  16   1 281]]\n",
      "[0.8772479  0.12275206]\n"
     ]
    }
   ],
   "source": [
    "evaluation(nn)"
   ]
  },
  {
   "cell_type": "code",
   "execution_count": 30,
   "metadata": {
    "collapsed": false
   },
   "outputs": [
    {
     "name": "stdout",
     "output_type": "stream",
     "text": [
      "_________________________________________________________________\n",
      "Layer (type)                 Output Shape              Param #   \n",
      "=================================================================\n",
      "embedding_9 (Embedding)      (None, 26, 256)           128000    \n",
      "_________________________________________________________________\n",
      "conv1d_1 (Conv1D)            (None, 26, 32)            24608     \n",
      "_________________________________________________________________\n",
      "max_pooling1d_1 (MaxPooling1 (None, 13, 32)            0         \n",
      "_________________________________________________________________\n",
      "flatten_1 (Flatten)          (None, 416)               0         \n",
      "_________________________________________________________________\n",
      "dense_8 (Dense)              (None, 250)               104250    \n",
      "_________________________________________________________________\n",
      "dense_9 (Dense)              (None, 2)                 502       \n",
      "=================================================================\n",
      "Total params: 257,360\n",
      "Trainable params: 257,360\n",
      "Non-trainable params: 0\n",
      "_________________________________________________________________\n",
      "None\n",
      "Epoch 1/2\n",
      " - 5s - loss: 0.4179 - acc: 0.8240\n",
      "Epoch 2/2\n",
      " - 4s - loss: 0.3092 - acc: 0.8708\n",
      "score: 0.40\n",
      "acc: 0.84\n",
      "pos_acc 42.70833333333333 %\n",
      "neg_acc 95.79207920792079 %\n",
      "[[  0   0   0   0   0   0   0   0   0   0   0   0   0   0   0   0  48  37\n",
      "  311 189   4 144  22  16   1 281]]\n",
      "[0.9136317 0.0863683]\n"
     ]
    }
   ],
   "source": [
    "nn2 = conv()\n",
    "evaluation(nn2)"
   ]
  },
  {
   "cell_type": "code",
   "execution_count": 11,
   "metadata": {
    "collapsed": true
   },
   "outputs": [],
   "source": [
    "from rdflib import Namespace, Graph, Literal\n",
    "from rdflib.namespace import FOAF, OWL, XSD, RDFS, DCTERMS, DOAP, DC\n",
    "\n",
    "\n",
    "prov = Namespace('http://www.w3.org/ns/prov#')\n",
    "dcat = Namespace('http://www.w3.org/ns/dcat#')\n",
    "mexalgo = Namespace('http://mex.aksw.org/mex-algo#')\n",
    "mexperf = Namespace('http://mex.aksw.org/mex-perf#')\n",
    "mexcore = Namespace('http://mex.aksw.org/mex-core#')\n",
    "this = Namespace('http://mex.aksw.org/examples/')"
   ]
  },
  {
   "cell_type": "code",
   "execution_count": 24,
   "metadata": {
    "collapsed": false
   },
   "outputs": [],
   "source": [
    "g = Graph()\n",
    "# Create Binding\n",
    "g.bind('dct',DCTERMS)\n",
    "g.bind('owl',OWL)\n",
    "g.bind('foaf',FOAF)\n",
    "g.bind('xsd', XSD)\n",
    "g.bind('rdfs', RDFS)\n",
    "g.bind('doap', DOAP)\n",
    "g.bind('dc', DC)\n",
    "g.bind('prov', prov)\n",
    "g.bind('dcat', dcat)\n",
    "g.bind('mexalgo',mexalgo)\n",
    "g.bind('mexperf',mexperf)\n",
    "g.bind('mexcore',mexcore)\n",
    "g.bind('this',this)"
   ]
  },
  {
   "cell_type": "code",
   "execution_count": 25,
   "metadata": {
    "collapsed": true
   },
   "outputs": [],
   "source": [
    "g.add((this.nlp_ex3_nilutz,mexcore.Experiment, prov.Entity))\n",
    "g.add((this.nlp_ex3_nilutz,mexcore.ApplicationContext, prov.Entity))\n",
    "g.add((this.nlp_ex3_nilutz,DCTERMS.date, Literal('2018-05-25',datatype=XSD.date)))\n",
    "g.add((this.nlp_ex3_nilutz,FOAF.givenName, Literal('Nico')))\n",
    "\n",
    "#Configuration-1\n",
    "g.add((this.configuration1,mexcore.ExperimentConfiguration, prov.Entity))\n",
    "g.add((this.configuration1,prov.used, this.model1))\n",
    "g.add((this.configuration1,prov.wasStartedBy, this.nlp_ex3_nilutz))\n",
    "\n",
    "#Configuration-2\n",
    "g.add((this.configuration2,mexcore.ExperimentConfiguration, prov.Entity))\n",
    "g.add((this.configuration2,prov.used, this.model2))\n",
    "g.add((this.configuration2,prov.wasStartedBy, this.nlp_ex3_nilutz))\n",
    "\n",
    "#hyperparam1\n",
    "g.add((this.hyerparameter_model1,mexalgo.HyperParameterCollection,prov.Entity))\n",
    "g.add((this.hyerparameter1,RDFS.label,Literal('HyperParameterCollection')))\n",
    "g.add((this.hyerparameter_model1,prov.hadMember,this.hyerparameter11))\n",
    "\n",
    "\n",
    "#hyperparam11\n",
    "g.add((this.hyerparameter1,mexalgo.HyperParameter,prov.Entity))\n",
    "g.add((this.hyerparameter1,RDFS.label, Literal('LSTM')))\n",
    "g.add((this.hyerparameter1,DCTERMS.identifier, Literal('LSTM')))\n",
    "g.add((this.hyerparameter1,prov.value, Literal('196',datatype=XSD.float)))\n",
    "\n",
    "\n",
    "\n",
    "#hyperparam2\n",
    "g.add((this.hyerparameter_model2,mexalgo.HyperParameterCollection,prov.Entity))\n",
    "g.add((this.hyerparameter2,RDFS.label,Literal('HyperParameterCollection')))\n",
    "g.add((this.hyerparameter_model2,prov.hadMember,this.hyerparameter2))\n",
    "\n",
    "g.add((this.hyerparameter2,mexalgo.HyperParameter,prov.Entity))\n",
    "g.add((this.hyerparameter2,RDFS.label, Literal('conv')))\n",
    "g.add((this.hyerparameter2,DCTERMS.identifier, Literal('conv')))\n",
    "g.add((this.hyerparameter2,prov.value, Literal('26,32',datatype=XSD.float)))\n",
    "\n",
    "#measure1\n",
    "g.add((this.execution1,mexcore.ExecutionOverall,prov.Entity))\n",
    "g.add((this.execution1,prov.generated,this.performance_measures1))\n",
    "g.add((this.execution1,prov.used,this.test))\n",
    "g.add((this.execution1,prov.used,this.hyerparameter_model1))\n",
    "g.add((this.execution1,prov.used,this.model1))\n",
    "\n",
    "g.add((this.performance_measures1,mexcore.PerformanceMeasure,prov.Entity))\n",
    "g.add((this.performance_measures1,mexperf.score,Literal('0.40',datatype=XSD.float)))\n",
    "g.add((this.performance_measures1,mexperf.accuracy,Literal('0.83',datatype=XSD.float)))\n",
    "g.add((this.performance_measures1,prov.wasGeneratedBy,this.execution1))\n",
    "\n",
    "#measure2\n",
    "g.add((this.execution2,mexcore.ExecutionOverall,prov.Entity))\n",
    "g.add((this.execution2,prov.generated,this.performance_measures2))\n",
    "g.add((this.execution2,prov.used,this.test))\n",
    "g.add((this.execution2,prov.used,this.model2))\n",
    "\n",
    "g.add((this.performance_measures2,mexcore.PerformanceMeasure,prov.Entity))\n",
    "g.add((this.performance_measures2,mexperf.score,Literal('0.40',datatype=XSD.float)))\n",
    "g.add((this.performance_measures2,mexperf.accuracy,Literal('0.84',datatype=XSD.float)))\n",
    "g.add((this.performance_measures2,prov.wasGeneratedBy,this.execution2))\n",
    "\n",
    "#Model\n",
    "g.add((this.model1,mexalgo.Algorithm,prov.Entity))\n",
    "g.add((this.model1,RDFS.label,Literal('Keras-LSTM-NET')))\n",
    "g.add((this.model1,mexalgo.hasHyperParameter,this.hyerparameter1))\n",
    "\n",
    "g.add((this.model2,mexalgo.Algorithm,prov.Entity))\n",
    "g.add((this.model2,RDFS.label,Literal('Keras-CONV-NET')))\n",
    "g.add((this.model2,mexalgo.hasHyperParameter,this.hyerparameter2))"
   ]
  },
  {
   "cell_type": "code",
   "execution_count": 26,
   "metadata": {
    "collapsed": false
   },
   "outputs": [],
   "source": [
    "g.serialize('task3.ttl')"
   ]
  },
  {
   "cell_type": "code",
   "execution_count": null,
   "metadata": {
    "collapsed": true
   },
   "outputs": [],
   "source": []
  }
 ],
 "metadata": {
  "kernelspec": {
   "display_name": "Python 3",
   "language": "python",
   "name": "python3"
  },
  "language_info": {
   "codemirror_mode": {
    "name": "ipython",
    "version": 3
   },
   "file_extension": ".py",
   "mimetype": "text/x-python",
   "name": "python",
   "nbconvert_exporter": "python",
   "pygments_lexer": "ipython3",
   "version": "3.6.0"
  }
 },
 "nbformat": 4,
 "nbformat_minor": 2
}
