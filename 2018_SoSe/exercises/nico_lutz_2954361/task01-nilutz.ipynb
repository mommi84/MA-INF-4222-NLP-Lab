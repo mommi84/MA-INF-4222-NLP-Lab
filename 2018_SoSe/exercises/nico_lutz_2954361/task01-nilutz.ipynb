{
 "cells": [
  {
   "cell_type": "markdown",
   "metadata": {},
   "source": [
    "# Exercise 1\n",
    "for NLP lab SoSe18 by Nico Lutz\n",
    "\n",
    "#### Env:\n",
    "* python 3\n",
    "* nltk\n",
    "\n",
    "#### Resources:\n",
    "* https://nlpforhackers.io/training-pos-tagger/"
   ]
  },
  {
   "cell_type": "markdown",
   "metadata": {},
   "source": [
    "### In this lab you will learn how to train your own POS tagger classifier and test it against some pre-trained models\n",
    "\n",
    "#### Pleases implement your code and upload it to git using (jupyter notebook format)\n",
    "\n",
    "#### Classifiers\n",
    "\n",
    "1. ``model1`` = your POS tagger model (english)\n",
    "2. ``model2`` = pre-trained POS tagger model using NLTK (maxentropy english)\n",
    "3. ``model3.x`` = rule-based classifiers (x = 1 to 5)\n",
    "\n",
    "4. ``model4`` = your POS tagger model (not english)\n",
    "5. ``model5`` = pre-trained POS tagger model using RDRPOSTagger [1](http://rdrpostagger.sourceforge.net/) or TreeTagger [2](http://www.cis.uni-muenchen.de/~schmid/tools/TreeTagger/) (not english)\n",
    "\n",
    "note: for ``model1`` and ``model3`` you can try different classifiers: Hidden Markov Model, Logistic Regression, Maximum Entropy Markov Models, Decision Trees, Naive Bayes, etc..**choose one**!\n",
    "\n",
    "#### Corpora\n",
    "1. ``X1`` = nltk.corpus.treebank (english)\n",
    "2. ``X2`` = nltk.corpus.brown (english)\n",
    "3. ``X3`` = other language (not english)\n",
    "\n",
    "**note**: data split for training/test = 0.8/0.2 (sequencial)\n",
    "\n",
    "#### Task 1\n",
    "- get results for english (**plot a graph with all classifiers x results**)\n",
    "    - ``performance 1.1`` = ``model1`` in ``X1``\n",
    "    - ``performance 1.2`` = ``model2`` in ``X1``\n",
    "    - ``performance 1.3.x`` = ``model3.x`` in ``X1``\n",
    "    \n",
    "    - ``performance 1.4`` = ``model1`` in ``X2``\n",
    "    - ``performance 1.5`` = ``model2`` in ``X2``\n",
    "    - ``performance 1.6.x`` = ``model3.x`` in ``X2``\n",
    "\n",
    "#### Task 2\n",
    "- train your model with standard features (**plot a graph with all classifiers x results**)\n",
    "    - ``performance 2.1`` = ``model4`` in ``X3``\n",
    "    - ``performance 2.2`` = ``model5`` in ``X3``\n",
    "\n",
    "### notes:\n",
    "\n",
    "#### 1. you can save your trained models using pickle (import pickle)\n",
    "#### 2. please upload your jupyter file to git\n",
    "#### 3. this script just gives a general idea, please organize and comment your code accordingly\n",
    "#### 4. you have to make sure the language you choose is supported for one of the classifiers suggested (see above) AND you are able to find a corpus in that language (example: [Tiger Corpus for German](http://www.ims.uni-stuttgart.de/forschung/ressourcen/korpora/TIGERCorpus/download/start.html)). You can also search the Web in order to try to find a pre-trained classifier in your language. If that is not possible, just choose one existing. Please also make sure the language you have choosen _does not_ overlap with other students.\n",
    "#### 5. If you are able to find an annotated corpus and format is CoNLL, you can easly read it using the following method in NLTK:\n",
    "```corp = nltk.corpus.ConllCorpusReader()```\n",
    "#### 6. a nice library to create charts: https://plot.ly/python/bar-charts/"
   ]
  },
  {
   "cell_type": "code",
   "execution_count": 1,
   "metadata": {
    "collapsed": true
   },
   "outputs": [],
   "source": [
    "import nltk\n",
    "from nltk import word_tokenize, pos_tag\n",
    "# maybe you need to download NLTK data\n",
    "# nltk.download('all')\n",
    "# nltk.download('punkt')\n",
    "# nltk.download('averaged_perceptron_tagger')"
   ]
  },
  {
   "cell_type": "markdown",
   "metadata": {},
   "source": [
    "## Datasets/Corpora"
   ]
  },
  {
   "cell_type": "code",
   "execution_count": 2,
   "metadata": {
    "collapsed": true
   },
   "outputs": [],
   "source": [
    "split=0.8"
   ]
  },
  {
   "cell_type": "code",
   "execution_count": 3,
   "metadata": {
    "collapsed": true
   },
   "outputs": [],
   "source": [
    "def features(sentence, index):\n",
    "    \"\"\" sentence: [w1, w2, ...], index: the index of the word \"\"\"\n",
    "    return {\n",
    "        'word': sentence[index],\n",
    "        'is_first': index == 0,\n",
    "        'is_last': index == len(sentence) - 1,\n",
    "        'is_capitalized': sentence[index][0].upper() == sentence[index][0],\n",
    "        'is_all_caps': sentence[index].upper() == sentence[index],\n",
    "        'is_all_lower': sentence[index].lower() == sentence[index],\n",
    "        'prefix-1': sentence[index][0],\n",
    "        'prefix-2': sentence[index][:2],\n",
    "        'prefix-3': sentence[index][:3],\n",
    "        'suffix-1': sentence[index][-1],\n",
    "        'suffix-2': sentence[index][-2:],\n",
    "        'suffix-3': sentence[index][-3:],\n",
    "        'prev_word': '' if index == 0 else sentence[index - 1],\n",
    "        'next_word': '' if index == len(sentence) - 1 else sentence[index + 1],\n",
    "        'has_hyphen': '-' in sentence[index],\n",
    "        'is_numeric': sentence[index].isdigit(),\n",
    "        'capitals_inside': sentence[index][1:].lower() != sentence[index][1:],\n",
    "        \n",
    "    }"
   ]
  },
  {
   "cell_type": "code",
   "execution_count": 4,
   "metadata": {
    "collapsed": false
   },
   "outputs": [],
   "source": [
    "def untag(tagged_sentence):\n",
    "    return [w for w, t in tagged_sentence]\n",
    " "
   ]
  },
  {
   "cell_type": "code",
   "execution_count": 5,
   "metadata": {
    "collapsed": false
   },
   "outputs": [],
   "source": [
    "def transform_to_dataset(tagged_sentences):\n",
    "    X, y = [], []\n",
    " \n",
    "    for tagged in tagged_sentences:\n",
    "        for index in range(len(tagged)):\n",
    "            X.append(features(untag(tagged), index))\n",
    "            y.append(tagged[index][1])\n",
    " \n",
    "    return X, y"
   ]
  },
  {
   "cell_type": "code",
   "execution_count": 6,
   "metadata": {
    "collapsed": true
   },
   "outputs": [],
   "source": [
    "def pos_tag(clf, sentence):\n",
    "    print('checking...')\n",
    "    tagged_sentence = []\n",
    "    tags = clf.predict([features(sentence, index) for index in range(len(sentence))])\n",
    "    return zip(sentence, tags)"
   ]
  },
  {
   "cell_type": "markdown",
   "metadata": {},
   "source": [
    "### X1: Corpus TreeBank"
   ]
  },
  {
   "cell_type": "code",
   "execution_count": 7,
   "metadata": {
    "collapsed": false
   },
   "outputs": [
    {
     "name": "stdout",
     "output_type": "stream",
     "text": [
      "[('Pierre', 'NNP'), ('Vinken', 'NNP'), (',', ','), ('61', 'CD'), ('years', 'NNS'), ('old', 'JJ'), (',', ','), ('will', 'MD'), ('join', 'VB'), ('the', 'DT'), ('board', 'NN'), ('as', 'IN'), ('a', 'DT'), ('nonexecutive', 'JJ'), ('director', 'NN'), ('Nov.', 'NNP'), ('29', 'CD'), ('.', '.')]\n"
     ]
    }
   ],
   "source": [
    "#load treebank corpus\n",
    "#nltk.download('treebank')\n",
    "X1_tagged_sents = nltk.corpus.treebank.tagged_sents()\n",
    "print(X1_tagged_sents[0])"
   ]
  },
  {
   "cell_type": "code",
   "execution_count": 8,
   "metadata": {
    "collapsed": false
   },
   "outputs": [
    {
     "name": "stdout",
     "output_type": "stream",
     "text": [
      "3131\n",
      "783\n"
     ]
    }
   ],
   "source": [
    "# Split the dataset for training and testing\n",
    "cutoff = int(split * len(X1_tagged_sents))\n",
    "training_sentences = X1_tagged_sents[:cutoff]\n",
    "test_sentences = X1_tagged_sents[cutoff:]\n",
    "X1_test_sents = nltk.corpus.treebank.sents()[cutoff:]\n",
    "\n",
    "print(len(training_sentences))   \n",
    "print(len(test_sentences))         \n",
    "X1, y1 = transform_to_dataset(training_sentences)\n",
    "X1_test, y1_test = transform_to_dataset(test_sentences)"
   ]
  },
  {
   "cell_type": "markdown",
   "metadata": {},
   "source": [
    "### X2: Corpus Brown"
   ]
  },
  {
   "cell_type": "code",
   "execution_count": 9,
   "metadata": {
    "collapsed": false
   },
   "outputs": [
    {
     "name": "stdout",
     "output_type": "stream",
     "text": [
      "[('The', 'AT'), ('Fulton', 'NP-TL'), ('County', 'NN-TL'), ('Grand', 'JJ-TL'), ('Jury', 'NN-TL'), ('said', 'VBD'), ('Friday', 'NR'), ('an', 'AT'), ('investigation', 'NN'), ('of', 'IN'), (\"Atlanta's\", 'NP$'), ('recent', 'JJ'), ('primary', 'NN'), ('election', 'NN'), ('produced', 'VBD'), ('``', '``'), ('no', 'AT'), ('evidence', 'NN'), (\"''\", \"''\"), ('that', 'CS'), ('any', 'DTI'), ('irregularities', 'NNS'), ('took', 'VBD'), ('place', 'NN'), ('.', '.')]\n"
     ]
    }
   ],
   "source": [
    "#load brown corpus\n",
    "#nltk.download('brown')\n",
    "X2_tagged_sents = nltk.corpus.brown.tagged_sents()\n",
    "print(X2_tagged_sents[0])"
   ]
  },
  {
   "cell_type": "code",
   "execution_count": 10,
   "metadata": {
    "collapsed": false
   },
   "outputs": [
    {
     "name": "stdout",
     "output_type": "stream",
     "text": [
      "45872\n",
      "11468\n"
     ]
    }
   ],
   "source": [
    "# Split the dataset for training and testing\n",
    "cutoff = int(split * len(X2_tagged_sents))\n",
    "training_sentences = X2_tagged_sents[:cutoff]\n",
    "test_sentences = X2_tagged_sents[cutoff:]\n",
    "X2_test_sents = nltk.corpus.brown.sents()[cutoff:]\n",
    "\n",
    " \n",
    "print(len(training_sentences))   \n",
    "print(len(test_sentences))      \n",
    "X2, y2 = transform_to_dataset(training_sentences)\n",
    "X2_test, y2_test = transform_to_dataset(test_sentences)"
   ]
  },
  {
   "cell_type": "markdown",
   "metadata": {},
   "source": [
    "### X3: other language: universal treebank finnish Corpus"
   ]
  },
  {
   "cell_type": "code",
   "execution_count": 11,
   "metadata": {
    "collapsed": false
   },
   "outputs": [],
   "source": [
    "from nltk.corpus import universal_treebanks as ut\n",
    "#ut.fileids()"
   ]
  },
  {
   "cell_type": "code",
   "execution_count": 37,
   "metadata": {
    "collapsed": false
   },
   "outputs": [],
   "source": [
    "# The Set is already split into train and test set...\n",
    "ut_test = ut.tagged_sents('ch/fi/fi-universal-ch-test.conll')\n",
    "ut_test_raw = ut.sents('ch/fi/fi-universal-ch-test.conll')\n",
    "ut_train = ut.tagged_sents('ch/fi/fi-universal-ch-train.conll')"
   ]
  },
  {
   "cell_type": "code",
   "execution_count": 38,
   "metadata": {
    "collapsed": false
   },
   "outputs": [
    {
     "name": "stdout",
     "output_type": "stream",
     "text": [
      "length train set 163953\n",
      "length test set 9279\n"
     ]
    }
   ],
   "source": [
    "X3, y3 = transform_to_dataset(ut_train)\n",
    "X3_test, y3_test = transform_to_dataset(ut_test)\n",
    "\n",
    "print('length train set',len(X3))\n",
    "print('length test set',len(X3_test))"
   ]
  },
  {
   "cell_type": "markdown",
   "metadata": {},
   "source": [
    "## Classifiers"
   ]
  },
  {
   "cell_type": "markdown",
   "metadata": {},
   "source": [
    "### 1. ``model1`` = your POS tagger model (english)\n",
    "Naive Bayes"
   ]
  },
  {
   "cell_type": "code",
   "execution_count": 22,
   "metadata": {
    "collapsed": true
   },
   "outputs": [],
   "source": [
    "from sklearn.naive_bayes import MultinomialNB\n",
    "from sklearn.pipeline import Pipeline\n",
    "from sklearn.feature_extraction.text import TfidfVectorizer, CountVectorizer\n",
    "from sklearn.feature_extraction import DictVectorizer"
   ]
  },
  {
   "cell_type": "markdown",
   "metadata": {},
   "source": [
    "#### Train and test on X1"
   ]
  },
  {
   "cell_type": "code",
   "execution_count": 23,
   "metadata": {
    "collapsed": false
   },
   "outputs": [
    {
     "name": "stdout",
     "output_type": "stream",
     "text": [
      "Training complete for dataset X1\n"
     ]
    }
   ],
   "source": [
    "clf1 = Pipeline([\n",
    "    ('vectorizer', DictVectorizer()),\n",
    "    ('classifier', MultinomialNB(alpha=0.05)),\n",
    "])\n",
    "size = 10000\n",
    "clf1.fit(X1[:size],y1[:size])\n",
    "print('Training complete for dataset X1')"
   ]
  },
  {
   "cell_type": "code",
   "execution_count": 24,
   "metadata": {
    "collapsed": false
   },
   "outputs": [
    {
     "name": "stdout",
     "output_type": "stream",
     "text": [
      "Accuracy model1 on X1: 0.89814861021\n"
     ]
    }
   ],
   "source": [
    "acc_model1_on_X1 = clf1.score(X1_test, y1_test)\n",
    "print(\"Accuracy model1 on X1:\", acc_model1_on_X1)"
   ]
  },
  {
   "cell_type": "code",
   "execution_count": 31,
   "metadata": {
    "collapsed": false
   },
   "outputs": [
    {
     "name": "stdout",
     "output_type": "stream",
     "text": [
      "Accuracy model1 on X2: 0.524737532086\n"
     ]
    }
   ],
   "source": [
    "acc_model1_on_X2 = clf1.score(X2_test, y2_test)\n",
    "print(\"Accuracy model1 on X2:\", acc_model1_on_X2)"
   ]
  },
  {
   "cell_type": "code",
   "execution_count": 26,
   "metadata": {
    "collapsed": false
   },
   "outputs": [
    {
     "name": "stdout",
     "output_type": "stream",
     "text": [
      "checking...\n",
      "[('Hello', 'NNP'), ('world', 'NN'), (',', ','), ('lets', 'NNS'), ('do', 'VBP'), ('something', 'VBG'), ('awesome', 'VBP'), ('today', 'NN'), ('!', '.')]\n"
     ]
    }
   ],
   "source": [
    "print(list(pos_tag(clf1, word_tokenize('Hello world, lets do something awesome today!'))))"
   ]
  },
  {
   "cell_type": "markdown",
   "metadata": {},
   "source": [
    "# 2. ``model2`` = pre-trained POS tagger model using NLTK (maxentropy english)\n",
    "https://explosion.ai/blog/dead-code-should-be-buried\n",
    "\n",
    "using a simple nltk.pos_tag"
   ]
  },
  {
   "cell_type": "code",
   "execution_count": 27,
   "metadata": {
    "collapsed": true
   },
   "outputs": [],
   "source": [
    "import numpy as np"
   ]
  },
  {
   "cell_type": "code",
   "execution_count": 28,
   "metadata": {
    "collapsed": false
   },
   "outputs": [
    {
     "name": "stdout",
     "output_type": "stream",
     "text": [
      "Accuracy model2 on X1: 0.893707270822\n"
     ]
    }
   ],
   "source": [
    "_, model2_X1 = transform_to_dataset(nltk.pos_tag_sents(X1_test_sents))\n",
    "acc_model2_on_X1 = np.mean(np.array(y1_test) == model2_X1)\n",
    "print(\"Accuracy model2 on X1:\", acc_model2_on_X1)"
   ]
  },
  {
   "cell_type": "code",
   "execution_count": 30,
   "metadata": {
    "collapsed": false
   },
   "outputs": [
    {
     "name": "stdout",
     "output_type": "stream",
     "text": [
      "Accuracy model2 on X2: 0.606221012856\n"
     ]
    }
   ],
   "source": [
    "_, model2_X2 = transform_to_dataset(nltk.pos_tag_sents(X2_test_sents))\n",
    "acc_model2_on_X2 = np.mean(np.array(y2_test) == model2_X2)\n",
    "print(\"Accuracy model2 on X2:\", acc_model2_on_X2)"
   ]
  },
  {
   "cell_type": "markdown",
   "metadata": {},
   "source": [
    "# 3. ``model3.x`` = rule-based classifiers (x = 1 to 5)\n",
    "\n",
    "* 3.1 = Default\n",
    "* 3.2 = Unigram\n",
    "* 3.3 = Bigram\n",
    "* 3.4 = Trigram\n",
    "* 3.5 = Regex"
   ]
  },
  {
   "cell_type": "code",
   "execution_count": 32,
   "metadata": {
    "collapsed": false
   },
   "outputs": [],
   "source": [
    "patterns = [(r'.*ing$', 'VBG'), (r'.*ed$', 'VBD'), (r'.*es$', 'VBZ'), (r'.*ould$', 'MD'), (r'.*\\'s$', 'NN$'),               \n",
    "             (r'.*s$', 'NNS'), (r'^-?[0-9]+(.[0-9]+)?$', 'CD'), (r'.*', 'NN')]\n",
    "\n",
    "def_tagger = nltk.DefaultTagger('NN')\n",
    "uni_tagger = nltk.UnigramTagger(X1_tagged_sents)\n",
    "big_tagger = nltk.BigramTagger(X1_tagged_sents)\n",
    "tri_tagger = nltk.TrigramTagger(X1_tagged_sents)\n",
    "reg_tagger = nltk.RegexpTagger(patterns)"
   ]
  },
  {
   "cell_type": "code",
   "execution_count": 33,
   "metadata": {
    "collapsed": false
   },
   "outputs": [
    {
     "name": "stdout",
     "output_type": "stream",
     "text": [
      "X1\n",
      "Default Tagger\n",
      "0.12729888264692388\n",
      "0.1447677029791906\n",
      "\n",
      "Unigram Tagger\n",
      "0.9591502660069199\n",
      "0.1447677029791906\n",
      "\n",
      "Bigram Tagger\n",
      "0.9134392400510931\n",
      "0.9225011228105194\n",
      "\n",
      "Trigram Tagger\n",
      "0.9078958790629612\n",
      "0.9225011228105194\n",
      "\n",
      "Regex Tagger\n",
      "0.2138472413408237\n",
      "0.24232746145017217\n",
      "\n"
     ]
    }
   ],
   "source": [
    "cutoff = int(split * len(X1_tagged_sents))\n",
    "\n",
    "train_sents = X1_tagged_sents[:cutoff]\n",
    "test_sents = X1_tagged_sents[cutoff:]\n",
    "\n",
    "print('X1')\n",
    "# performance of Default Tagger\n",
    "print('Default Tagger')\n",
    "print(def_tagger.evaluate(train_sents))\n",
    "acc_model31_on_X1 = def_tagger.evaluate(test_sents)\n",
    "print(acc_model31_on_X1)\n",
    "print()\n",
    "# performance of Unigram Tagger\n",
    "print('Unigram Tagger')\n",
    "print(uni_tagger.evaluate(train_sents))\n",
    "acc_model32_on_X1 = uni_tagger.evaluate(test_sents)\n",
    "print(acc_model31_on_X1)\n",
    "print()\n",
    "# performance of Bigram Tagger\n",
    "print('Bigram Tagger')\n",
    "print(big_tagger.evaluate(train_sents))\n",
    "acc_model33_on_X1 = big_tagger.evaluate(test_sents)\n",
    "print(acc_model33_on_X1)\n",
    "print()\n",
    "# performance of Trigram Tagger\n",
    "print('Trigram Tagger')\n",
    "print(tri_tagger.evaluate(train_sents))\n",
    "acc_model34_on_X1 = tri_tagger.evaluate(test_sents)\n",
    "print(acc_model33_on_X1)\n",
    "print()\n",
    "# performance of Regex Tagger\n",
    "print('Regex Tagger')\n",
    "print(reg_tagger.evaluate(train_sents))\n",
    "acc_model35_on_X1 = reg_tagger.evaluate(test_sents)\n",
    "print(acc_model35_on_X1)\n",
    "print()"
   ]
  },
  {
   "cell_type": "code",
   "execution_count": 34,
   "metadata": {
    "collapsed": false
   },
   "outputs": [
    {
     "name": "stdout",
     "output_type": "stream",
     "text": [
      "X2\n",
      "Default Tagger\n",
      "0.13525702141385765\n",
      "0.10997763652187324\n",
      "\n",
      "Unigram Tagger\n",
      "0.5047925475120605\n",
      "0.10997763652187324\n",
      "\n",
      "Bigram Tagger\n",
      "0.0471037497218383\n",
      "0.059131019135646064\n",
      "\n",
      "Trigram Tagger\n",
      "0.02495595347707233\n",
      "0.059131019135646064\n",
      "\n",
      "Regex Tagger\n",
      "0.1989790189517438\n",
      "0.17594438874995869\n",
      "\n"
     ]
    }
   ],
   "source": [
    "cutoff = int(split * len(X2_tagged_sents))\n",
    "\n",
    "train_sents = X2_tagged_sents[:cutoff]\n",
    "test_sents = X2_tagged_sents[cutoff:]\n",
    "\n",
    "print('X2')\n",
    "# performance of Default Tagger\n",
    "print('Default Tagger')\n",
    "print(def_tagger.evaluate(train_sents))\n",
    "acc_model31_on_X2 = def_tagger.evaluate(test_sents)\n",
    "print(acc_model31_on_X2)\n",
    "print()\n",
    "# performance of Unigram Tagger\n",
    "print('Unigram Tagger')\n",
    "print(uni_tagger.evaluate(train_sents))\n",
    "acc_model32_on_X2 = uni_tagger.evaluate(test_sents)\n",
    "print(acc_model31_on_X2)\n",
    "print()\n",
    "# performance of Bigram Tagger\n",
    "print('Bigram Tagger')\n",
    "print(big_tagger.evaluate(train_sents))\n",
    "acc_model33_on_X2 = big_tagger.evaluate(test_sents)\n",
    "print(acc_model33_on_X2)\n",
    "print()\n",
    "# performance of Trigram Tagger\n",
    "print('Trigram Tagger')\n",
    "print(tri_tagger.evaluate(train_sents))\n",
    "acc_model34_on_X2 = tri_tagger.evaluate(test_sents)\n",
    "print(acc_model33_on_X2)\n",
    "print()\n",
    "# performance of Regex Tagger\n",
    "print('Regex Tagger')\n",
    "print(reg_tagger.evaluate(train_sents))\n",
    "acc_model35_on_X2 = reg_tagger.evaluate(test_sents)\n",
    "print(acc_model35_on_X2)\n",
    "print()"
   ]
  },
  {
   "cell_type": "markdown",
   "metadata": {},
   "source": [
    "# 4. ``model4`` = your POS tagger model (not english)"
   ]
  },
  {
   "cell_type": "code",
   "execution_count": 39,
   "metadata": {
    "collapsed": false
   },
   "outputs": [
    {
     "name": "stdout",
     "output_type": "stream",
     "text": [
      "Training complete for dataset X3\n"
     ]
    }
   ],
   "source": [
    "clf2 = Pipeline([\n",
    "    ('vectorizer', DictVectorizer()),\n",
    "    ('classifier', MultinomialNB(alpha=0.05)),\n",
    "])\n",
    "size = 10000\n",
    "clf2.fit(X3[:size],y3[:size])\n",
    "print('Training complete for dataset X3')"
   ]
  },
  {
   "cell_type": "code",
   "execution_count": 40,
   "metadata": {
    "collapsed": false
   },
   "outputs": [
    {
     "name": "stdout",
     "output_type": "stream",
     "text": [
      "Accuracy: 0.811294320509\n"
     ]
    }
   ],
   "source": [
    "acc_model4_on_X3 = clf2.score(X3_test, y3_test)\n",
    "print(\"Accuracy:\", acc_model4_on_X3)"
   ]
  },
  {
   "cell_type": "markdown",
   "metadata": {},
   "source": [
    "# 5. ``model5`` = pre-trained POS tagger model using RDRPOSTagger [1](http://rdrpostagger.sourceforge.net/) or TreeTagger [2](http://www.cis.uni-muenchen.de/~schmid/tools/TreeTagger/) (not english)\n",
    "\n",
    "\n",
    "I am using [treetagger](http://www.cis.uni-muenchen.de/~schmid/tools/TreeTagger/) with a [wrapper](http://treetaggerwrapper.readthedocs.io/en/latest/) to load the Treetagger more easily."
   ]
  },
  {
   "cell_type": "code",
   "execution_count": 41,
   "metadata": {
    "collapsed": false
   },
   "outputs": [],
   "source": [
    "import treetaggerwrapper"
   ]
  },
  {
   "cell_type": "code",
   "execution_count": 42,
   "metadata": {
    "collapsed": false
   },
   "outputs": [],
   "source": [
    "tagger = treetaggerwrapper.TreeTagger(TAGDIR='/Users/nicolutz/UNI Bonn/SS18/NLP/task1/', TAGLANG='fi')"
   ]
  },
  {
   "cell_type": "code",
   "execution_count": 43,
   "metadata": {
    "collapsed": false
   },
   "outputs": [
    {
     "name": "stdout",
     "output_type": "stream",
     "text": [
      "Pelkkää tyhjyyttä Kävin tänään katsomassa Suomen Perinteisen Teatterin näytelmän Ranta . Jo teatteri\n"
     ]
    }
   ],
   "source": [
    "x3_test_raw = \"\"\n",
    "for each in X3_test:\n",
    "    x3_test_raw+=each['word']+\" \"\n",
    "print(x3_test_raw[:100])"
   ]
  },
  {
   "cell_type": "code",
   "execution_count": 44,
   "metadata": {
    "collapsed": false
   },
   "outputs": [
    {
     "data": {
      "text/plain": [
       "66804"
      ]
     },
     "execution_count": 44,
     "metadata": {},
     "output_type": "execute_result"
    }
   ],
   "source": [
    "len(x3_test_raw)"
   ]
  },
  {
   "cell_type": "code",
   "execution_count": 45,
   "metadata": {
    "collapsed": false
   },
   "outputs": [],
   "source": [
    "tt = tagger.tag_text(x3_test_raw)"
   ]
  },
  {
   "cell_type": "code",
   "execution_count": 46,
   "metadata": {
    "collapsed": false
   },
   "outputs": [],
   "source": [
    "mt = treetaggerwrapper.make_tags(tt,exclude_nottags=True)"
   ]
  },
  {
   "cell_type": "markdown",
   "metadata": {
    "collapsed": false
   },
   "source": [
    "Since treetagger pos is much more fine grained([info](http://www.ling.helsinki.fi/kieliteknologia/tutkimus/treebank/sources/FinnTreeBankManual.pdf)) then the test sets annotations we need a way to compare them: I choose to simplyify the tags and only choose the first annotation and not take tense, person, etc into account"
   ]
  },
  {
   "cell_type": "code",
   "execution_count": 47,
   "metadata": {
    "collapsed": false
   },
   "outputs": [],
   "source": [
    "formated_mt=[each.pos.split(\"_\")[0] for each in mt]"
   ]
  },
  {
   "cell_type": "markdown",
   "metadata": {},
   "source": [
    "Have a look at the set of annotations:"
   ]
  },
  {
   "cell_type": "code",
   "execution_count": 48,
   "metadata": {
    "collapsed": false
   },
   "outputs": [
    {
     "name": "stdout",
     "output_type": "stream",
     "text": [
      "{'SENT', 'PrfPrc', 'V', 'Abbr', 'Adv', 'PrsPrc', 'Num', 'Pron', 'NON-TWOL', 'A', 'Punct', 'CC', 'Interj', 'Adp', 'AgPcp', 'CS', 'N'}\n"
     ]
    }
   ],
   "source": [
    "formated_mt_set = set(formated_mt)\n",
    "print (formated_mt_set)"
   ]
  },
  {
   "cell_type": "code",
   "execution_count": 49,
   "metadata": {
    "collapsed": false
   },
   "outputs": [
    {
     "name": "stdout",
     "output_type": "stream",
     "text": [
      "{'V', 'Adv', 'C', 'Num', 'Symb', 'Pron', 'Foreign', 'A', 'Punct', 'Interj', 'Adp', 'N'}\n"
     ]
    }
   ],
   "source": [
    "y3_test_set = set(y3_test)\n",
    "print (y3_test_set)"
   ]
  },
  {
   "cell_type": "markdown",
   "metadata": {},
   "source": [
    "Still it seems to be impossible to compare the nltk.corpus test set to the taggers set. Since the Treetager uses much more annotations then the nltk test set."
   ]
  },
  {
   "cell_type": "markdown",
   "metadata": {},
   "source": [
    "# Performance\n",
    "graphs and plots..."
   ]
  },
  {
   "cell_type": "code",
   "execution_count": 50,
   "metadata": {
    "collapsed": false
   },
   "outputs": [],
   "source": [
    "%matplotlib inline\n",
    "\n",
    "import matplotlib\n",
    "import matplotlib.pyplot as plt\n",
    "import seaborn #beautiful matplolib plots\n",
    "from collections import namedtuple\n"
   ]
  },
  {
   "cell_type": "markdown",
   "metadata": {},
   "source": [
    "## Task 1"
   ]
  },
  {
   "cell_type": "code",
   "execution_count": 56,
   "metadata": {
    "collapsed": false
   },
   "outputs": [
    {
     "data": {
      "image/png": "[encoded data removed]",
      "text/plain": [
       "<matplotlib.figure.Figure at 0x143b3eb38>"
      ]
     },
     "metadata": {},
     "output_type": "display_data"
    }
   ],
   "source": [
    "\n",
    "acc_X1 = (acc_model1_on_X1, acc_model2_on_X1, acc_model31_on_X1, acc_model32_on_X1, acc_model33_on_X1, acc_model34_on_X1, acc_model35_on_X1)\n",
    "acc_X2 = (acc_model1_on_X2, acc_model2_on_X2, acc_model31_on_X2, acc_model32_on_X2, acc_model33_on_X2, acc_model34_on_X2, acc_model35_on_X2)\n",
    "n_groups = 7\n",
    "\n",
    "fig, ax = plt.subplots()\n",
    "\n",
    "index = np.arange(n_groups)\n",
    "bar_width = 0.45\n",
    "\n",
    "opacity = 0.4\n",
    "error_config = {'ecolor': '0.3'}\n",
    "\n",
    "rects1 = ax.bar(index, acc_X1, bar_width,\n",
    "                alpha=opacity, color='b', error_kw=error_config,\n",
    "                label='X1')\n",
    "\n",
    "rects2 = ax.bar(index + bar_width, acc_X2, bar_width,\n",
    "                alpha=opacity, color='r', error_kw=error_config,\n",
    "                label='X2')\n",
    "\n",
    "ax.set_xlabel('Model')\n",
    "ax.set_ylabel('Accuracy')\n",
    "ax.set_title('Accuracy of model(1-3) with Datasets(X1,X2)')\n",
    "ax.set_xticks(index + bar_width / 2)\n",
    "ax.set_xticklabels(('model1', 'model2', 'model3.1', 'model3.2', 'model3.3', 'model3.4', 'model3.5'))\n",
    "ax.legend()\n",
    "\n",
    "fig.tight_layout()\n",
    "plt.show()\n"
   ]
  },
  {
   "cell_type": "markdown",
   "metadata": {},
   "source": [
    "## Task2"
   ]
  },
  {
   "cell_type": "code",
   "execution_count": 57,
   "metadata": {
    "collapsed": false
   },
   "outputs": [
    {
     "data": {
      "image/png": "[encoded data removed]",
      "text/plain": [
       "<matplotlib.figure.Figure at 0x14568b470>"
      ]
     },
     "metadata": {},
     "output_type": "display_data"
    }
   ],
   "source": [
    "acc_model5_on_X3=np.nan\n",
    "\n",
    "acc_X1 = (acc_model4_on_X3, acc_model5_on_X3)\n",
    "n_groups = 2\n",
    "\n",
    "fig, ax = plt.subplots()\n",
    "\n",
    "index = np.arange(n_groups)\n",
    "bar_width = 0.45\n",
    "\n",
    "opacity = 0.4\n",
    "error_config = {'ecolor': '0.3'}\n",
    "\n",
    "rects1 = ax.bar(index, acc_X1, bar_width,\n",
    "                alpha=opacity, color='b', error_kw=error_config,\n",
    "                label='X3')\n",
    "\n",
    "ax.set_xlabel('Model')\n",
    "ax.set_ylabel('Accuracy')\n",
    "ax.set_title('Accuracy of model(4-5) with Dataset3(X3)')\n",
    "ax.set_xticks(index + bar_width / 2)\n",
    "ax.set_xticklabels(('model4', 'model5\\n(no meaningful accuracy)'))\n",
    "ax.legend()\n",
    "\n",
    "fig.tight_layout()\n",
    "plt.show()\n"
   ]
  },
  {
   "cell_type": "code",
   "execution_count": null,
   "metadata": {
    "collapsed": true
   },
   "outputs": [],
   "source": []
  }
 ],
 "metadata": {
  "kernelspec": {
   "display_name": "Python 3",
   "language": "python",
   "name": "python3"
  },
  "language_info": {
   "codemirror_mode": {
    "name": "ipython",
    "version": 3
   },
   "file_extension": ".py",
   "mimetype": "text/x-python",
   "name": "python",
   "nbconvert_exporter": "python",
   "pygments_lexer": "ipython3",
   "version": "3.6.0"
  }
 },
 "nbformat": 4,
 "nbformat_minor": 2
}
