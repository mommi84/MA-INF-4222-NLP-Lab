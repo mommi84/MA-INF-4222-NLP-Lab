{
 "cells": [
  {
   "cell_type": "markdown",
   "metadata": {},
   "source": [
    "## Exercise 02\n",
    "#### Agajan Torayev\n",
    "<a src=\"https://github.com/torayeff/NLPLab\">Github: @torayeff</a>"
   ]
  },
  {
   "cell_type": "code",
   "execution_count": 1,
   "metadata": {},
   "outputs": [],
   "source": [
    "import pandas as pd\n",
    "import numpy as np\n",
    "from sklearn.feature_extraction.text import CountVectorizer, TfidfTransformer, TfidfVectorizer\n",
    "from sklearn.model_selection import train_test_split, GridSearchCV, StratifiedKFold\n",
    "from sklearn.svm import SVC\n",
    "from sklearn.naive_bayes import MultinomialNB\n",
    "from sklearn.tree import DecisionTreeClassifier\n",
    "from sklearn.linear_model import SGDClassifier\n",
    "from sklearn.ensemble import RandomForestClassifier\n",
    "from sklearn.neighbors import NearestNeighbors\n",
    "from sklearn.pipeline import Pipeline\n",
    "from sklearn import metrics\n",
    "import matplotlib.pyplot as plt\n",
    "import seaborn as sns\n",
    "import pickle\n",
    "import pprint\n",
    "%matplotlib inline"
   ]
  },
  {
   "cell_type": "code",
   "execution_count": 2,
   "metadata": {},
   "outputs": [],
   "source": [
    "# global count vectorizer for data transfer between models\n",
    "#count_vec = CountVectorizer()\n",
    "count_vec = TfidfVectorizer(stop_words='english')"
   ]
  },
  {
   "cell_type": "markdown",
   "metadata": {},
   "source": [
    "## Helper Functions"
   ]
  },
  {
   "cell_type": "code",
   "execution_count": 3,
   "metadata": {},
   "outputs": [],
   "source": [
    "def plot_confusion_matrix(cm, classes):\n",
    "    \"\"\"Plot confusion matrix from metrics.confusion_matrix numpy.ndarray\n",
    "    \n",
    "    Args:\n",
    "        cm: numpy.ndarray confusion matrix which is returned from metrics.confusion matrix\n",
    "        classes: list of class names\n",
    "    \"\"\"\n",
    "    if len(classes) == 2:\n",
    "        # the count of true negatives is C_{0,0}, \n",
    "        # false negatives is C_{1,0}, \n",
    "        # true positives is C_{1,1}, \n",
    "        # false positives is C_{0,1}.\n",
    "        classes = [classes[0]+\": (- class)\", classes[1]+\": (+ class)\"]\n",
    "        \n",
    "    cm_df = pd.DataFrame(cm, index=classes, columns=classes)\n",
    "    fig = plt.figure()\n",
    "    heatmap = sns.heatmap(cm_df, annot=True, fmt=\"d\", cmap=\"Blues\")\n",
    "    heatmap.xaxis.set_ticklabels(heatmap.xaxis.get_ticklabels())\n",
    "    heatmap.yaxis.set_ticklabels(heatmap.yaxis.get_ticklabels())\n",
    "    plt.xlabel(\"PREDICTED LABEL\")\n",
    "    plt.ylabel(\"TRUE LABEL\")\n",
    "\n",
    "def get_scores(cm):\n",
    "    \"\"\"Return precision, recall, accuracy, f1-score from confusion matrix.\n",
    "       the count of true negatives is cm[0,0]\n",
    "       the count of false negatives is cm[1, 0]\n",
    "       the count of true positives is cm[1, 1]\n",
    "       the count of false positives is cm[0, 1]\n",
    "    \n",
    "    Args:\n",
    "        cm: numpy.ndarray confusion matrix which is returned from metrics.confusion matrix\n",
    "    \n",
    "    Returns:\n",
    "        scores: dictionary of scores\n",
    "    \"\"\"\n",
    "    tn, fp, fn, tp = cm.ravel()\n",
    "    \n",
    "    scores = {}\n",
    "    scores['precision'] = tp/(tp + fp)\n",
    "    scores['recall'] = tp/(tp + fn)\n",
    "    scores['accuracy'] = (tp + tn)/(tp + tn + fp + fn)\n",
    "    scores['f1'] = 2*scores['precision']*scores['recall']/(scores['precision'] + scores['recall'])\n",
    "    \n",
    "    return scores\n",
    "\n",
    "def cm_scores(model, data, y_true, labels=['false', 'true']):\n",
    "    \"\"\"Plot confusion matrix and print scores.\n",
    "    \n",
    "    Args:\n",
    "        model: Scipy classifier.\n",
    "        data: Count vectorized data.\n",
    "        y_true: True labels.\n",
    "        labels: Class labels.\n",
    "    \"\"\"\n",
    "\n",
    "    y_pred = model.predict(data)\n",
    "\n",
    "    cm = metrics.confusion_matrix(y_true, y_pred, labels=labels)\n",
    "    print(get_scores(cm))\n",
    "    plot_confusion_matrix(cm, classes=labels)\n",
    "\n",
    "def do_cross_val(model, X, y, n_splits=5, random_state=4222):\n",
    "    \"\"\"Do Cross validation and report scores.\n",
    "        \n",
    "    Args:\n",
    "        model: Scipy classifier.\n",
    "        X: vectorized data.\n",
    "        y: labels.\n",
    "        n_split: number of splits.\n",
    "        random_state: random state.\n",
    "    \"\"\"\n",
    "    \n",
    "    fold = 1\n",
    "    avg_prec = 0\n",
    "    avg_recall = 0\n",
    "    avg_f1 = 0\n",
    "    avg_acc = 0\n",
    "\n",
    "    skf = StratifiedKFold(n_splits=n_splits, random_state=random_state)\n",
    "    for train_index, test_index in skf.split(X, y):\n",
    "        X_train, X_test = X[train_index], X[test_index]\n",
    "        y_train, y_test = y[train_index], y[test_index]\n",
    "\n",
    "        model_a.fit(X_train, y_train)\n",
    "        y_preds = model_a.predict(X_test)\n",
    "\n",
    "        # treat false as positive class\n",
    "        precision = metrics.precision_score(y_test, y_preds, labels=['false'], average=None)[0]\n",
    "        recall = metrics.recall_score(y_test, y_preds, labels=['false'], average=None)[0]\n",
    "        f1 = metrics.f1_score(y_test, y_preds, labels=['false'], average=None)[0]\n",
    "        accuracy = metrics.accuracy_score(y_test, y_preds)\n",
    "\n",
    "        print(\"Fold #: \", fold)\n",
    "        cm = metrics.confusion_matrix(y_test, y_preds, labels=['false', 'true'])\n",
    "        scores = get_scores(cm)\n",
    "        print(scores)\n",
    "        avg_prec += scores['precision']\n",
    "        avg_recall += scores['recall']\n",
    "        avg_f1 += scores['f1']\n",
    "        avg_acc += scores['accuracy']\n",
    "        fold = fold + 1\n",
    "        print(\"---------------------------\")\n",
    "\n",
    "    print(\"Average precision: \", avg_prec/n_splits)\n",
    "    print(\"Average recall: \", avg_recall/n_splits)\n",
    "    print(\"Average f1: \", avg_f1/n_splits)\n",
    "    print(\"Average accuracy: \", avg_acc/n_splits)"
   ]
  },
  {
   "cell_type": "markdown",
   "metadata": {},
   "source": [
    "## Configuration 1: model a => dataset1 (train / test split)"
   ]
  },
  {
   "cell_type": "markdown",
   "metadata": {},
   "source": [
    "### Exploring and Preprocessing"
   ]
  },
  {
   "cell_type": "code",
   "execution_count": 4,
   "metadata": {},
   "outputs": [
    {
     "data": {
      "text/html": [
       "<div>\n",
       "<style scoped>\n",
       "    .dataframe tbody tr th:only-of-type {\n",
       "        vertical-align: middle;\n",
       "    }\n",
       "\n",
       "    .dataframe tbody tr th {\n",
       "        vertical-align: top;\n",
       "    }\n",
       "\n",
       "    .dataframe thead th {\n",
       "        text-align: right;\n",
       "    }\n",
       "</style>\n",
       "<table border=\"1\" class=\"dataframe\">\n",
       "  <thead>\n",
       "    <tr style=\"text-align: right;\">\n",
       "      <th></th>\n",
       "      <th>Unnamed: 0</th>\n",
       "      <th>title</th>\n",
       "      <th>text</th>\n",
       "      <th>label</th>\n",
       "    </tr>\n",
       "  </thead>\n",
       "  <tbody>\n",
       "    <tr>\n",
       "      <th>0</th>\n",
       "      <td>8476</td>\n",
       "      <td>You Can Smell Hillary’s Fear</td>\n",
       "      <td>Daniel Greenfield, a Shillman Journalism Fello...</td>\n",
       "      <td>FAKE</td>\n",
       "    </tr>\n",
       "    <tr>\n",
       "      <th>1</th>\n",
       "      <td>10294</td>\n",
       "      <td>Watch The Exact Moment Paul Ryan Committed Pol...</td>\n",
       "      <td>Google Pinterest Digg Linkedin Reddit Stumbleu...</td>\n",
       "      <td>FAKE</td>\n",
       "    </tr>\n",
       "    <tr>\n",
       "      <th>2</th>\n",
       "      <td>3608</td>\n",
       "      <td>Kerry to go to Paris in gesture of sympathy</td>\n",
       "      <td>U.S. Secretary of State John F. Kerry said Mon...</td>\n",
       "      <td>REAL</td>\n",
       "    </tr>\n",
       "    <tr>\n",
       "      <th>3</th>\n",
       "      <td>10142</td>\n",
       "      <td>Bernie supporters on Twitter erupt in anger ag...</td>\n",
       "      <td>— Kaydee King (@KaydeeKing) November 9, 2016 T...</td>\n",
       "      <td>FAKE</td>\n",
       "    </tr>\n",
       "    <tr>\n",
       "      <th>4</th>\n",
       "      <td>875</td>\n",
       "      <td>The Battle of New York: Why This Primary Matters</td>\n",
       "      <td>It's primary day in New York and front-runners...</td>\n",
       "      <td>REAL</td>\n",
       "    </tr>\n",
       "  </tbody>\n",
       "</table>\n",
       "</div>"
      ],
      "text/plain": [
       "   Unnamed: 0                                              title  \\\n",
       "0        8476                       You Can Smell Hillary’s Fear   \n",
       "1       10294  Watch The Exact Moment Paul Ryan Committed Pol...   \n",
       "2        3608        Kerry to go to Paris in gesture of sympathy   \n",
       "3       10142  Bernie supporters on Twitter erupt in anger ag...   \n",
       "4         875   The Battle of New York: Why This Primary Matters   \n",
       "\n",
       "                                                text label  \n",
       "0  Daniel Greenfield, a Shillman Journalism Fello...  FAKE  \n",
       "1  Google Pinterest Digg Linkedin Reddit Stumbleu...  FAKE  \n",
       "2  U.S. Secretary of State John F. Kerry said Mon...  REAL  \n",
       "3  — Kaydee King (@KaydeeKing) November 9, 2016 T...  FAKE  \n",
       "4  It's primary day in New York and front-runners...  REAL  "
      ]
     },
     "execution_count": 4,
     "metadata": {},
     "output_type": "execute_result"
    }
   ],
   "source": [
    "df = pd.read_csv(\"data/fake_or_real_news.csv\")\n",
    "df.head()"
   ]
  },
  {
   "cell_type": "code",
   "execution_count": 5,
   "metadata": {},
   "outputs": [],
   "source": [
    "df.loc[df['label'] == 'REAL', 'label'] = 'true'\n",
    "df.loc[df['label'] == 'FAKE', 'label'] = 'false'"
   ]
  },
  {
   "cell_type": "code",
   "execution_count": 6,
   "metadata": {},
   "outputs": [],
   "source": [
    "X_ds1 = count_vec.fit_transform(df['text'])\n",
    "y_ds1 = df['label']"
   ]
  },
  {
   "cell_type": "markdown",
   "metadata": {},
   "source": [
    "### Building a model"
   ]
  },
  {
   "cell_type": "code",
   "execution_count": 7,
   "metadata": {},
   "outputs": [
    {
     "name": "stdout",
     "output_type": "stream",
     "text": [
      "Fold #:  1\n",
      "{'precision': 0.8945783132530121, 'recall': 0.9354330708661417, 'accuracy': 0.9124605678233438, 'f1': 0.9145496535796767}\n",
      "---------------------------\n",
      "Fold #:  2\n",
      "{'precision': 0.8794642857142857, 'recall': 0.9321766561514195, 'accuracy': 0.9021310181531176, 'f1': 0.9050535987748852}\n",
      "---------------------------\n",
      "Fold #:  3\n",
      "{'precision': 0.8729689807976366, 'recall': 0.9321766561514195, 'accuracy': 0.8981846882399369, 'f1': 0.9016018306636155}\n",
      "---------------------------\n",
      "Fold #:  4\n",
      "{'precision': 0.875366568914956, 'recall': 0.9416403785488959, 'accuracy': 0.9037095501183899, 'f1': 0.9072948328267477}\n",
      "---------------------------\n",
      "Fold #:  5\n",
      "{'precision': 0.8596237337192475, 'recall': 0.9369085173501577, 'accuracy': 0.891785150078989, 'f1': 0.8966037735849056}\n",
      "---------------------------\n",
      "Average precision:  0.8764003764798275\n",
      "Average recall:  0.9356670558136069\n",
      "Average f1:  0.9050207378859663\n",
      "Average accuracy:  0.9016541948827556\n"
     ]
    }
   ],
   "source": [
    "model_a = MultinomialNB(alpha=0.05)\n",
    "do_cross_val(model_a, X_ds1, y_ds1, n_splits=5, random_state=4222)"
   ]
  },
  {
   "cell_type": "markdown",
   "metadata": {},
   "source": [
    "### Fitting model with best parameters"
   ]
  },
  {
   "cell_type": "code",
   "execution_count": 8,
   "metadata": {},
   "outputs": [
    {
     "data": {
      "text/plain": [
       "MultinomialNB(alpha=0.05, class_prior=None, fit_prior=True)"
      ]
     },
     "execution_count": 8,
     "metadata": {},
     "output_type": "execute_result"
    }
   ],
   "source": [
    "model_a.fit(X_ds1, y_ds1)"
   ]
  },
  {
   "cell_type": "markdown",
   "metadata": {},
   "source": [
    "## Configuration 2) model b => dataset2 (train / validation / test split)"
   ]
  },
  {
   "cell_type": "code",
   "execution_count": 9,
   "metadata": {},
   "outputs": [],
   "source": [
    "data_path = \"data/liar_liar_paints_on_fire/liar_dataset/\"\n",
    "\n",
    "# read the sets into dataframes\n",
    "train_df_ds2 = pd.read_csv(f'{data_path}train.tsv', sep='\\t', \n",
    "                       usecols=[1, 2], names=['label', 'statement'])\n",
    "\n",
    "valid_df_ds2 = pd.read_csv(f'{data_path}valid.tsv', sep='\\t', \n",
    "                       usecols=[1, 2], names=['label', 'statement'])\n",
    "\n",
    "test_df_ds2 = pd.read_csv(f'{data_path}test.tsv', sep='\\t', \n",
    "                       usecols=[1, 2], names=['label', 'statement'])\n",
    "\n",
    "# replace all no-true values as false\n",
    "train_df_ds2.loc[train_df_ds2['label'] != 'true', 'label'] = 'false'\n",
    "valid_df_ds2.loc[valid_df_ds2['label'] != 'true', 'label'] = 'false'\n",
    "test_df_ds2.loc[test_df_ds2['label'] != 'true', 'label'] = 'false'\n",
    "\n",
    "# Count vectorize\n",
    "train_X_vec_ds2 = count_vec.transform(train_df_ds2['statement'])\n",
    "valid_X_vec_ds2 = count_vec.transform(valid_df_ds2['statement'])\n",
    "test_X_vec_ds2 = count_vec.transform(test_df_ds2['statement'])"
   ]
  },
  {
   "cell_type": "markdown",
   "metadata": {},
   "source": [
    "### Building a model"
   ]
  },
  {
   "cell_type": "code",
   "execution_count": 10,
   "metadata": {},
   "outputs": [
    {
     "data": {
      "text/plain": [
       "SGDClassifier(alpha=0.0001, average=False, class_weight=None, epsilon=0.1,\n",
       "       eta0=0.0, fit_intercept=True, l1_ratio=0.15,\n",
       "       learning_rate='optimal', loss='squared_hinge', max_iter=1000,\n",
       "       n_iter=None, n_jobs=1, penalty='l2', power_t=0.5, random_state=None,\n",
       "       shuffle=True, tol=None, verbose=0, warm_start=False)"
      ]
     },
     "execution_count": 10,
     "metadata": {},
     "output_type": "execute_result"
    }
   ],
   "source": [
    "model_b = SGDClassifier(max_iter=1000, loss='squared_hinge')\n",
    "model_b.fit(train_X_vec_ds2, train_df_ds2['label'])"
   ]
  },
  {
   "cell_type": "markdown",
   "metadata": {},
   "source": [
    "### Training Set"
   ]
  },
  {
   "cell_type": "code",
   "execution_count": 11,
   "metadata": {},
   "outputs": [
    {
     "name": "stdout",
     "output_type": "stream",
     "text": [
      "{'precision': 0.5065055762081785, 'recall': 0.32517899761336516, 'accuracy': 0.8376953125, 'f1': 0.3960755813953489}\n"
     ]
    },
    {
     "data": {
      "image/png": "[encoded data removed]",
      "text/plain": [
       "<matplotlib.figure.Figure at 0x11603ceb8>"
      ]
     },
     "metadata": {},
     "output_type": "display_data"
    }
   ],
   "source": [
    "cm_scores(model_b, train_X_vec_ds2, train_df_ds2['label'])"
   ]
  },
  {
   "cell_type": "markdown",
   "metadata": {},
   "source": [
    "### Validation Set"
   ]
  },
  {
   "cell_type": "code",
   "execution_count": 12,
   "metadata": {},
   "outputs": [
    {
     "name": "stdout",
     "output_type": "stream",
     "text": [
      "{'precision': 0.21052631578947367, 'recall': 0.16568047337278108, 'accuracy': 0.8084112149532711, 'f1': 0.18543046357615897}\n"
     ]
    },
    {
     "data": {
      "image/png": "[encoded data removed]",
      "text/plain": [
       "<matplotlib.figure.Figure at 0x1130cf080>"
      ]
     },
     "metadata": {},
     "output_type": "display_data"
    }
   ],
   "source": [
    "cm_scores(model_b, valid_X_vec_ds2, valid_df_ds2['label'])"
   ]
  },
  {
   "cell_type": "markdown",
   "metadata": {},
   "source": [
    "### Test Set"
   ]
  },
  {
   "cell_type": "code",
   "execution_count": 13,
   "metadata": {},
   "outputs": [
    {
     "name": "stdout",
     "output_type": "stream",
     "text": [
      "{'precision': 0.20945945945945946, 'recall': 0.14903846153846154, 'accuracy': 0.7679558011049724, 'f1': 0.17415730337078653}\n"
     ]
    },
    {
     "data": {
      "image/png": "[encoded data removed]",
      "text/plain": [
       "<matplotlib.figure.Figure at 0x113034160>"
      ]
     },
     "metadata": {},
     "output_type": "display_data"
    }
   ],
   "source": [
    "cm_scores(model_b, test_X_vec_ds2, test_df_ds2['label'])"
   ]
  },
  {
   "cell_type": "markdown",
   "metadata": {},
   "source": [
    "## Configuration 3) model a => dataset2 | model2 => dataset1 (test)"
   ]
  },
  {
   "cell_type": "markdown",
   "metadata": {},
   "source": [
    "### Model a, dataset 2"
   ]
  },
  {
   "cell_type": "code",
   "execution_count": 14,
   "metadata": {},
   "outputs": [
    {
     "name": "stdout",
     "output_type": "stream",
     "text": [
      "{'precision': 0.16105263157894736, 'recall': 0.7355769230769231, 'accuracy': 0.3275453827940016, 'f1': 0.26424870466321243}\n"
     ]
    },
    {
     "data": {
      "image/png": "[encoded data removed]",
      "text/plain": [
       "<matplotlib.figure.Figure at 0x11304c898>"
      ]
     },
     "metadata": {},
     "output_type": "display_data"
    }
   ],
   "source": [
    "cm_scores(model_a, test_X_vec_ds2, test_df_ds2['label'])"
   ]
  },
  {
   "cell_type": "markdown",
   "metadata": {},
   "source": [
    "### Model b, dataset 1"
   ]
  },
  {
   "cell_type": "code",
   "execution_count": 15,
   "metadata": {},
   "outputs": [
    {
     "name": "stdout",
     "output_type": "stream",
     "text": [
      "{'precision': 0.670196671709531, 'recall': 0.6985178177231157, 'accuracy': 0.6770323599052881, 'f1': 0.6840642371834467}\n"
     ]
    },
    {
     "data": {
      "image/png": "[encoded data removed]",
      "text/plain": [
       "<matplotlib.figure.Figure at 0x1a17bd2f28>"
      ]
     },
     "metadata": {},
     "output_type": "display_data"
    }
   ],
   "source": [
    "cm_scores(model_b, X_ds1, y_ds1)"
   ]
  },
  {
   "cell_type": "markdown",
   "metadata": {},
   "source": [
    "## Configuration 4) model c => dataset3 (train / test split)"
   ]
  },
  {
   "cell_type": "code",
   "execution_count": 16,
   "metadata": {},
   "outputs": [
    {
     "name": "stdout",
     "output_type": "stream",
     "text": [
      "processing datasets\n",
      "ds1= data/fake_or_real_news.csv\n",
      "ds2= data/liar_liar_paints_on_fire/liar_dataset/train.tsv\n",
      "-- fake news\n",
      "Index(['y', 'claim'], dtype='object')\n",
      "3171\n",
      "3164\n",
      "6335\n",
      "-- liar liar\n",
      "Index(['y', 'claim'], dtype='object')\n",
      "{'true', 'half-true', 'pants-fire', 'false', 'barely-true', 'mostly-true'} 10240\n",
      "1676\n",
      "1995\n",
      "{'false', 'true'} 3671\n",
      "false    5159\n",
      "true     4847\n",
      "Name: y, dtype: int64\n",
      "done\n"
     ]
    }
   ],
   "source": [
    "import random\n",
    "def get_dataset3_split(dataset1_in, dataset2_in):\n",
    "    \"\"\"Credits https://github.com/diegoesteves\n",
    "    \"\"\"\n",
    "    try:\n",
    "        print('processing datasets')\n",
    "        print('ds1=', dataset1_in)\n",
    "        print('ds2=', dataset2_in)\n",
    "\n",
    "        print('-- fake news')\n",
    "        df1 = pd.read_csv(dataset1_in, sep=',', usecols=['title','text','label'])\n",
    "        df1['claim'] = df1[['title', 'text']].apply(lambda x: '. '.join(x), axis=1)\n",
    "        del df1['title']\n",
    "        del df1['text']\n",
    "        df1.rename(index=str, columns={'label': 'y'}, inplace=True)\n",
    "        print(df1.keys())\n",
    "        print(len(df1[df1['y']=='REAL']))\n",
    "        print(len(df1[df1['y']=='FAKE']))\n",
    "        df1['y'] = np.where(df1['y'] == 'FAKE', 'false', 'true')\n",
    "        print(len(df1))\n",
    "\n",
    "        print('-- liar liar')\n",
    "        df2 = pd.read_csv(dataset2_in, sep='\\t', header=None, usecols=[1,2], names=['y', 'claim'])\n",
    "        print(df2.keys())\n",
    "        print(set(df2.y), len(df2))\n",
    "        print(len(df2[df2['y'] == 'true']))\n",
    "        print(len(df2[df2['y'] == 'false']))\n",
    "        df2=df2[(df2['y'] == 'true') | (df2['y'] == 'false')]\n",
    "        print(set(df2.y), len(df2))\n",
    "\n",
    "        df3=pd.concat([df1, df2], ignore_index=True)\n",
    "\n",
    "        print(df3['y'].value_counts())\n",
    "        print('done')\n",
    "        #return train_test_split(df3['claim'], df3['y'], test_size=0.30, random_state=4222)\n",
    "        return df3['claim'], df3['y']\n",
    "    except Exception as e:\n",
    "        print(e)\n",
    "\n",
    "\n",
    "ds1 = \"data/fake_or_real_news.csv\"\n",
    "ds2 = \"data/liar_liar_paints_on_fire/liar_dataset/train.tsv\"\n",
    "X_ds3, y_ds3 = get_dataset3_split(ds1,ds2)"
   ]
  },
  {
   "cell_type": "code",
   "execution_count": 17,
   "metadata": {},
   "outputs": [
    {
     "data": {
      "text/plain": [
       "0    You Can Smell Hillary’s Fear. Daniel Greenfiel...\n",
       "1    Watch The Exact Moment Paul Ryan Committed Pol...\n",
       "2    Kerry to go to Paris in gesture of sympathy. U...\n",
       "3    Bernie supporters on Twitter erupt in anger ag...\n",
       "4    The Battle of New York: Why This Primary Matte...\n",
       "Name: claim, dtype: object"
      ]
     },
     "execution_count": 17,
     "metadata": {},
     "output_type": "execute_result"
    }
   ],
   "source": [
    "X_ds3.head()"
   ]
  },
  {
   "cell_type": "code",
   "execution_count": 18,
   "metadata": {},
   "outputs": [],
   "source": [
    "# vectorize\n",
    "X_vec_ds3 = count_vec.transform(X_ds3)"
   ]
  },
  {
   "cell_type": "code",
   "execution_count": 19,
   "metadata": {},
   "outputs": [
    {
     "name": "stdout",
     "output_type": "stream",
     "text": [
      "Fold #:  1\n",
      "{'precision': 0.9020979020979021, 'recall': 0.9309278350515464, 'accuracy': 0.9175824175824175, 'f1': 0.9162861491628616}\n",
      "---------------------------\n",
      "Fold #:  2\n",
      "{'precision': 0.8864758144126358, 'recall': 0.9257731958762887, 'accuracy': 0.9065934065934066, 'f1': 0.9056984367120525}\n",
      "---------------------------\n",
      "Fold #:  3\n",
      "{'precision': 0.881139489194499, 'recall': 0.9256965944272446, 'accuracy': 0.9035482258870565, 'f1': 0.902868646200302}\n",
      "---------------------------\n",
      "Fold #:  4\n",
      "{'precision': 0.5474293989862419, 'recall': 0.7801857585139319, 'accuracy': 0.5812093953023488, 'f1': 0.643404255319149}\n",
      "---------------------------\n",
      "Fold #:  5\n",
      "{'precision': 0.4867807153965785, 'recall': 0.6460268317853457, 'accuracy': 0.4985, 'f1': 0.555210643015521}\n",
      "---------------------------\n",
      "Average precision:  0.7407846640175715\n",
      "Average recall:  0.8417220431308715\n",
      "Average f1:  0.7846936260819771\n",
      "Average accuracy:  0.761486689073046\n"
     ]
    }
   ],
   "source": [
    "model_c = RandomForestClassifier(n_estimators=50, criterion='entropy')\n",
    "do_cross_val(model_a, X_vec_ds3, y_ds3, n_splits=5, random_state=4222)"
   ]
  },
  {
   "cell_type": "markdown",
   "metadata": {},
   "source": [
    "### Fitting model with best parameters"
   ]
  },
  {
   "cell_type": "code",
   "execution_count": 20,
   "metadata": {},
   "outputs": [
    {
     "data": {
      "text/plain": [
       "RandomForestClassifier(bootstrap=True, class_weight=None, criterion='entropy',\n",
       "            max_depth=None, max_features='auto', max_leaf_nodes=None,\n",
       "            min_impurity_decrease=0.0, min_impurity_split=None,\n",
       "            min_samples_leaf=1, min_samples_split=2,\n",
       "            min_weight_fraction_leaf=0.0, n_estimators=50, n_jobs=1,\n",
       "            oob_score=False, random_state=None, verbose=0,\n",
       "            warm_start=False)"
      ]
     },
     "execution_count": 20,
     "metadata": {},
     "output_type": "execute_result"
    }
   ],
   "source": [
    "model_c.fit(X_vec_ds3, y_ds3)"
   ]
  }
 ],
 "metadata": {
  "kernelspec": {
   "display_name": "Python 3",
   "language": "python",
   "name": "python3"
  },
  "language_info": {
   "codemirror_mode": {
    "name": "ipython",
    "version": 3
   },
   "file_extension": ".py",
   "mimetype": "text/x-python",
   "name": "python",
   "nbconvert_exporter": "python",
   "pygments_lexer": "ipython3",
   "version": "3.6.4"
  }
 },
 "nbformat": 4,
 "nbformat_minor": 2
}
