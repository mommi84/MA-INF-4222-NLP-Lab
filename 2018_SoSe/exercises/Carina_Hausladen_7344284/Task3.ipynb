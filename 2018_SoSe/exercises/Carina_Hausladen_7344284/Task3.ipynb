{
 "cells": [
  {
   "cell_type": "code",
   "execution_count": 1,
   "metadata": {},
   "outputs": [
    {
     "name": "stderr",
     "output_type": "stream",
     "text": [
      "C:\\Users\\carin\\Anaconda3\\lib\\site-packages\\h5py\\__init__.py:34: FutureWarning: Conversion of the second argument of issubdtype from `float` to `np.floating` is deprecated. In future, it will be treated as `np.float64 == np.dtype(float).type`.\n",
      "  from ._conv import register_converters as _register_converters\n",
      "Using TensorFlow backend.\n"
     ]
    }
   ],
   "source": [
    "import numpy as np \n",
    "import pandas as pd \n",
    "from sklearn.feature_extraction.text import CountVectorizer\n",
    "from keras.preprocessing.text import Tokenizer\n",
    "from keras.preprocessing.sequence import pad_sequences\n",
    "from keras.models import Sequential\n",
    "from keras.layers import Dense, Embedding, LSTM, SpatialDropout1D\n",
    "from keras.wrappers.scikit_learn import KerasClassifier\n",
    "from sklearn.model_selection import train_test_split\n",
    "from keras.utils.np_utils import to_categorical\n",
    "import re\n",
    "import os\n",
    "from sklearn.model_selection import GridSearchCV"
   ]
  },
  {
   "cell_type": "markdown",
   "metadata": {},
   "source": [
    "## Parameters"
   ]
  },
  {
   "cell_type": "code",
   "execution_count": 5,
   "metadata": {},
   "outputs": [],
   "source": [
    "max_fatures = 500\n",
    "embed_dim = 128 #can be changed\n",
    "lstm_out = 196 #can be changed\n",
    "dropout = 0.1 #can be changed\n",
    "dropout_1d = 0.4 #can be changed\n",
    "recurrent_dropout = 0.1\n",
    "random_state = 4222\n",
    "validation_size = 1000\n",
    "# batch_size = 16 #can be changed\n",
    "# epochs=2 #I increased the number of epochs to 7\n",
    "# verbose= 2"
   ]
  },
  {
   "cell_type": "markdown",
   "metadata": {},
   "source": [
    "## Composing the LSTM network"
   ]
  },
  {
   "cell_type": "code",
   "execution_count": 6,
   "metadata": {},
   "outputs": [],
   "source": [
    "def create_model(print_summary=True):\n",
    "    nn = Sequential()\n",
    "    nn.add(Embedding(max_fatures, embed_dim, input_length = X.shape[1]))\n",
    "    nn.add(SpatialDropout1D(dropout_1d))\n",
    "    nn.add(LSTM(lstm_out, dropout=dropout, recurrent_dropout=recurrent_dropout))\n",
    "    nn.add(Dense(2, activation='softmax'))\n",
    "    nn.compile(loss = 'categorical_crossentropy', optimizer='adam', metrics = ['accuracy'])\n",
    "    if print_summary:\n",
    "        print(nn.summary())\n",
    "    return nn\n",
    "\n",
    "def evaluate_model(nn, hyperparams, verbose=2):\n",
    "    nn.fit(X_train, Y_train, epochs=hyperparams['epochs'], batch_size=hyperparams['batch_size'], verbose=verbose)\n",
    "    score, accuracy = nn.evaluate(X_test, Y_test, verbose = verbose, batch_size = hyperparams['batch_size'])\n",
    "\n",
    "    #measuring the number of correct guesses\n",
    "    pos_cnt, neg_cnt, pos_ok, neg_ok = 0, 0, 0, 0\n",
    "    for x in range(len(X_validate)):\n",
    "        result = nn.predict(X_validate[x].reshape(1,X_test.shape[1]),batch_size=1,verbose = 2)[0]\n",
    "        if np.argmax(result) == np.argmax(Y_validate[x]):\n",
    "            if np.argmax(Y_validate[x]) == 0: neg_ok += 1\n",
    "            else: pos_ok += 1\n",
    "        if np.argmax(Y_validate[x]) == 0: neg_cnt += 1\n",
    "        else: pos_cnt += 1\n",
    "            \n",
    "    pos_acc = pos_ok/pos_cnt\n",
    "    neg_acc = neg_ok/neg_cnt\n",
    "    \n",
    "    return score, accuracy, pos_acc, neg_acc"
   ]
  },
  {
   "cell_type": "code",
   "execution_count": 7,
   "metadata": {},
   "outputs": [
    {
     "name": "stdout",
     "output_type": "stream",
     "text": [
      "                                                text sentiment\n",
      "0  RT @NancyLeeGrahn: How did everyone feel about...   Neutral\n",
      "1  RT @ScottWalker: Didn't catch the full #GOPdeb...  Positive\n",
      "2  RT @TJMShow: No mention of Tamir Rice and the ...   Neutral\n",
      "3  RT @RobGeorge: That Carly Fiorina is trending ...  Positive\n",
      "4  RT @DanScavino: #GOPDebate w/ @realDonaldTrump...  Positive\n",
      "5  RT @GregAbbott_TX: @TedCruz: \"On my first day ...  Positive\n",
      "6  RT @warriorwoman91: I liked her and was happy ...  Negative\n",
      "7  Going on #MSNBC Live with @ThomasARoberts arou...   Neutral\n",
      "8  Deer in the headlights RT @lizzwinstead: Ben C...  Negative\n",
      "9  RT @NancyOsborne180: Last night's debate prove...  Negative\n",
      "_________________________________________________________________\n",
      "Layer (type)                 Output Shape              Param #   \n",
      "=================================================================\n",
      "embedding_1 (Embedding)      (None, 26, 128)           64000     \n",
      "_________________________________________________________________\n",
      "spatial_dropout1d_1 (Spatial (None, 26, 128)           0         \n",
      "_________________________________________________________________\n",
      "lstm_1 (LSTM)                (None, 196)               254800    \n",
      "_________________________________________________________________\n",
      "dense_1 (Dense)              (None, 2)                 394       \n",
      "=================================================================\n",
      "Total params: 319,194\n",
      "Trainable params: 319,194\n",
      "Non-trainable params: 0\n",
      "_________________________________________________________________\n",
      "None\n",
      "Epoch 1/2\n",
      " - 27s - loss: 0.4376 - acc: 0.8170\n",
      "Epoch 2/2\n",
      " - 34s - loss: 0.3698 - acc: 0.8455\n",
      "score: 0.37\n",
      "acc: 0.85\n",
      "pos_acc 47.80487804878049 %\n",
      "neg_acc 94.33962264150944 %\n"
     ]
    }
   ],
   "source": [
    "df = pd.read_csv('dataset_sentiment.csv')\n",
    "df = df[['text','sentiment']]\n",
    "print(df[0:10])\n",
    "\n",
    "df = df[df.sentiment != \"Neutral\"]\n",
    "df['text'] = df['text'].apply(lambda x: x.lower())\n",
    "df['text'] = df['text'].apply(lambda x: x.replace('rt',' '))\n",
    "df['text'] = df['text'].apply((lambda x: re.sub('[^a-zA-z0-9\\s]','',x)))\n",
    "\n",
    "tok = Tokenizer(num_words=max_fatures, split=' ')\n",
    "tok.fit_on_texts(df['text'].values)\n",
    "X = tok.texts_to_sequences(df['text'].values)\n",
    "X = pad_sequences(X)\n",
    "\n",
    "Y = pd.get_dummies(df['sentiment']).values\n",
    "X_train, X_test, Y_train, Y_test = train_test_split(X, Y, test_size = 0.30, random_state = random_state)\n",
    "\n",
    "#extracting validation set\n",
    "X_validate = X_test[-validation_size:]\n",
    "Y_validate = Y_test[-validation_size:]\n",
    "X_test = X_test[:-validation_size]\n",
    "Y_test = Y_test[:-validation_size]\n",
    "\n",
    "\n",
    "nn = create_model()\n",
    "score, accuracy, pos_acc, neg_acc = evaluate_model(nn, {'epochs':2, 'batch_size':16})\n",
    "\n",
    "print(\"score: %.2f\" % (score))\n",
    "print(\"acc: %.2f\" % (accuracy))\n",
    "print(\"pos_acc\", pos_acc*100, \"%\")\n",
    "print(\"neg_acc\", neg_acc*100, \"%\")"
   ]
  },
  {
   "cell_type": "markdown",
   "metadata": {},
   "source": [
    "The pos_acc is very bad compared to the neg_acc. My guess: The positive training set is much smaller than the negative.\n",
    "Methods to improve the predictions:\n",
    "- get more data\n",
    "- use other dataset\n",
    "- use pre-trained model\n",
    "- weight classes\n",
    "- optimize hyperparameters\n",
    "\n",
    "I chose to optimize hyperparameters. This goal is reached via a grid search  on epochs as well as on batch size."
   ]
  },
  {
   "cell_type": "code",
   "execution_count": 8,
   "metadata": {},
   "outputs": [
    {
     "name": "stdout",
     "output_type": "stream",
     "text": [
      "GridSearch: Calculating 1 of 16\n",
      "16 1\n",
      "GridSearch: Calculating 2 of 16\n",
      "16 2\n",
      "GridSearch: Calculating 3 of 16\n",
      "16 3\n",
      "GridSearch: Calculating 4 of 16\n",
      "16 4\n",
      "GridSearch: Calculating 5 of 16\n",
      "32 1\n",
      "GridSearch: Calculating 6 of 16\n",
      "32 2\n",
      "GridSearch: Calculating 7 of 16\n",
      "32 3\n",
      "GridSearch: Calculating 8 of 16\n",
      "32 4\n",
      "GridSearch: Calculating 9 of 16\n",
      "64 1\n",
      "GridSearch: Calculating 10 of 16\n",
      "64 2\n",
      "GridSearch: Calculating 11 of 16\n",
      "64 3\n",
      "GridSearch: Calculating 12 of 16\n",
      "64 4\n",
      "GridSearch: Calculating 13 of 16\n",
      "128 1\n",
      "GridSearch: Calculating 14 of 16\n",
      "128 2\n",
      "GridSearch: Calculating 15 of 16\n",
      "128 3\n",
      "GridSearch: Calculating 16 of 16\n",
      "128 4\n"
     ]
    }
   ],
   "source": [
    "from sklearn.model_selection import ParameterGrid\n",
    "\n",
    "hp_epochs = [1,2,3,4]\n",
    "hp_batch_size = [16, 32, 64, 128]\n",
    "param_grid = ParameterGrid(dict(epochs=hp_epochs, batch_size=hp_batch_size))\n",
    "\n",
    "results = list()\n",
    "for i, p in enumerate(param_grid):\n",
    "    print(\"GridSearch: Calculating %s of %s\" % (i+1, len(param_grid)))\n",
    "    model = create_model(print_summary=False)\n",
    "    print(p['batch_size'], p['epochs'])\n",
    "    score, acc, pos_acc, neg_acc = evaluate_model(model, {'epochs':p['epochs'], 'batch_size':p['batch_size']}, verbose=0)\n",
    "    results.append({\n",
    "        'hyperparams': {'batch_size': p['batch_size'], 'epochs': p['epochs']},\n",
    "        'score': score,\n",
    "        'acc': acc,\n",
    "        'pos_acc': pos_acc,\n",
    "        'neg_acc': neg_acc,\n",
    "        }\n",
    "    )"
   ]
  },
  {
   "cell_type": "markdown",
   "metadata": {},
   "source": [
    "## Plot\n",
    "The plot shows basic performance measures dependent on batch size (b) and epoch (e).\n",
    "While there is no big variation in accuracy, negative accuracy, and score, positive accuracy shows considerable variation. The best score is 43,9 (b= 16, e=4) the worst 16,6. "
   ]
  },
  {
   "cell_type": "code",
   "execution_count": 15,
   "metadata": {},
   "outputs": [
    {
     "data": {
      "text/plain": [
       "[Text(0,0,'b=16, e=1'),\n",
       " Text(0,0,'b=16, e=2'),\n",
       " Text(0,0,'b=16, e=3'),\n",
       " Text(0,0,'b=16, e=4'),\n",
       " Text(0,0,'b=32, e=1'),\n",
       " Text(0,0,'b=32, e=2'),\n",
       " Text(0,0,'b=32, e=3'),\n",
       " Text(0,0,'b=32, e=4'),\n",
       " Text(0,0,'b=64, e=1')]"
      ]
     },
     "execution_count": 15,
     "metadata": {},
     "output_type": "execute_result"
    },
    {
     "data": {
      "image/png": "[encoded data removed]",
      "text/plain": [
       "<matplotlib.figure.Figure at 0x2171c14d048>"
      ]
     },
     "metadata": {},
     "output_type": "display_data"
    }
   ],
   "source": [
    "%matplotlib inline\n",
    "import matplotlib\n",
    "df = pd.DataFrame(results)\n",
    "\n",
    "names = df.hyperparams\n",
    "names = names.tolist()\n",
    "names = pd.DataFrame(names)\n",
    "names[\"label\"] = \"b=\" + names[\"batch_size\"].map(str) + \", e=\" + names[\"epochs\"].map(str)\n",
    "\n",
    "ax = df.plot(rot=0, figsize= (17,7) )\n",
    "ax.set_xticklabels(names.label, rotation = 45)"
   ]
  },
  {
   "cell_type": "code",
   "execution_count": null,
   "metadata": {},
   "outputs": [],
   "source": []
  }
 ],
 "metadata": {
  "kernelspec": {
   "display_name": "Python 3",
   "language": "python",
   "name": "python3"
  },
  "language_info": {
   "codemirror_mode": {
    "name": "ipython",
    "version": 3
   },
   "file_extension": ".py",
   "mimetype": "text/x-python",
   "name": "python",
   "nbconvert_exporter": "python",
   "pygments_lexer": "ipython3",
   "version": "3.6.3"
  }
 },
 "nbformat": 4,
 "nbformat_minor": 2
}
