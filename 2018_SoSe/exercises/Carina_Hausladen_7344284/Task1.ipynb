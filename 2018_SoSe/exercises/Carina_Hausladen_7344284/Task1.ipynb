{
 "cells": [
  {
   "cell_type": "markdown",
   "metadata": {},
   "source": [
    "# NLP Exercise 1\n",
    "\n",
    "#### by Carina Hausladen / 7344284"
   ]
  },
  {
   "cell_type": "code",
   "execution_count": 1,
   "metadata": {},
   "outputs": [],
   "source": [
    "# Define local path of the RDRPOSTagger Repo (see: https://github.com/jacopofar/RDRPOSTagger-python-3)\n",
    "\n",
    "# RDRPOS_PATH = r'C:\\Users\\carin\\Desktop\\NLP\\RDRPOSTagger'\n",
    "RDRPOS_PATH = r'C:\\carina\\RDRPOSTagger'"
   ]
  },
  {
   "cell_type": "code",
   "execution_count": 2,
   "metadata": {},
   "outputs": [],
   "source": [
    "import os \n",
    "import sys\n",
    "\n",
    "import pprint \n",
    "import nltk\n",
    "from nltk import word_tokenize, pos_tag\n",
    "\n",
    "import matplotlib.pyplot as plt\n",
    "import numpy as np\n",
    "\n",
    "from sklearn.tree import DecisionTreeClassifier\n",
    "from sklearn.feature_extraction import DictVectorizer\n",
    "from sklearn.pipeline import Pipeline\n",
    "\n",
    "from nltk.corpus import brown, conll2002\n",
    "from nltk import DefaultTagger as df\n",
    "from nltk import UnigramTagger as ut\n",
    "from nltk import BigramTagger as bt\n",
    "from nltk import TrigramTagger as tg"
   ]
  },
  {
   "cell_type": "code",
   "execution_count": 3,
   "metadata": {},
   "outputs": [],
   "source": [
    "pretrained = nltk.data.load('taggers/maxent_treebank_pos_tagger/english.pickle')\n",
    "\n",
    "def features(sentence, index):\n",
    "    return {\n",
    "        'word': sentence[index],\n",
    "        'is_capitalized': sentence[index][0].upper() == sentence[index][0],\n",
    "        'prefix-1': sentence[index][0],\n",
    "        'suffix-1': sentence[index][-1],\n",
    "        'prev_word': '' if index == 0 else sentence[index - 1],\n",
    "        'next_word': '' if index == len(sentence) - 1 else sentence[index + 1]\n",
    "    }\n",
    "\n",
    "def my_features(sentence, index): # optimized feature extraction\n",
    "    return {\n",
    "        'word': sentence[index],\n",
    "        'is_first': index == 0,\n",
    "        'is_last': index == len(sentence) - 1,\n",
    "        'is_capitalized': sentence[index][0].upper() == sentence[index][0],\n",
    "        'is_all_caps': sentence[index].upper() == sentence[index],\n",
    "        'is_all_lower': sentence[index].lower() == sentence[index],\n",
    "        'prefix-1': sentence[index][0],\n",
    "        'prefix-2': sentence[index][:2],\n",
    "        'prefix-3': sentence[index][:3],\n",
    "        'suffix-1': sentence[index][-1],\n",
    "        'suffix-2': sentence[index][-2:],\n",
    "        'suffix-3': sentence[index][-3:],\n",
    "        'prev_word': '' if index == 0 else sentence[index - 1],\n",
    "        'next_word': '' if index == len(sentence) - 1 else sentence[index + 1],\n",
    "        'has_hyphen': '-' in sentence[index],\n",
    "        'is_numeric': sentence[index].isdigit(),\n",
    "        'capitals_inside': sentence[index][1:].lower() != sentence[index][1:]\n",
    "    }\n",
    "\n",
    "def untag(tagged_sentence):\n",
    "    return [w for w, t in tagged_sentence]\n",
    "\n",
    "def transform_to_dataset(tagged_sentences, use_optimized=True):\n",
    "    X, y = [], []\n",
    "    for tagged in tagged_sentences:\n",
    "        for index in range(len(tagged)):\n",
    "            X.append(my_features(untag(tagged), index) if use_optimized else features(untag(tagged), index))\n",
    "            y.append(tagged[index][1])\n",
    " \n",
    "    return X, y"
   ]
  },
  {
   "cell_type": "markdown",
   "metadata": {},
   "source": [
    "# Task 1"
   ]
  },
  {
   "cell_type": "code",
   "execution_count": 4,
   "metadata": {},
   "outputs": [],
   "source": [
    "corpus_list = [nltk.corpus.treebank,\n",
    "               nltk.corpus.brown ]  \n",
    "name_list = ['1.1', '1.2', '1.3.1', '1.3.2', '1.3.3', '1.3.4', '1.3.5', '1.4', '1.5', '1.6.1', '1.6.2', '1.6.3', '1.6.4', '1.6.5']\n",
    "accuracies = []\n",
    "\n",
    "for corpus in corpus_list:\n",
    "    #split in training and test \n",
    "    annotated_sent = corpus.tagged_sents()\n",
    "    cutoff = int(.75 * len(annotated_sent))\n",
    "    training_sentences = annotated_sent[:cutoff] #0.8\n",
    "    test_sentences = annotated_sent[cutoff:] #0.2\n",
    "    \n",
    "    #create dataset\n",
    "    X, y = transform_to_dataset(training_sentences)\n",
    "\n",
    "    ##########################\n",
    "    #Model 1\n",
    "    ##########################\n",
    "    size=10000\n",
    "    clf = Pipeline([\n",
    "        ('vectorizer', DictVectorizer(sparse=False)),\n",
    "        ('classifier', DecisionTreeClassifier(criterion='entropy')) #OTHER OPTIONS: Hidden Markov Model, Logistic Regression, Maximum Entropy Markov Models, Decision Trees, Naive Bayes\n",
    "    ])\n",
    "\n",
    "    clf.fit(X[:size], y[:size]) #the classifier learns from the training data\n",
    "    X_test, y_test = transform_to_dataset(test_sentences) #this function uses my features\n",
    "    accuracies.append(clf.score(X_test, y_test)) \n",
    "    \n",
    "    #######################\n",
    "    #Model 2\n",
    "    #######################\n",
    "    accuracies.append(pretrained.evaluate(training_sentences))\n",
    "\n",
    "    ##########################\n",
    "    #Model 3.x\n",
    "    ##########################\n",
    "    patterns = [(r'.*ing$', 'VBG'), (r'.*ed$', 'VBD'), (r'.*es$', 'VBZ'), (r'.*ould$', 'MD'), (r'.*\\'s$', 'NN$'),               \n",
    "                 (r'.*s$', 'NNS'), (r'^-?[0-9]+(.[0-9]+)?$', 'CD'), (r'.*', 'NN')]\n",
    "    \n",
    "    def_model       = nltk.DefaultTagger('NN') #backoff: when a more powerful tagger is unable to assign a tag to the word\n",
    "    uni_model       = nltk.UnigramTagger(training_sentences)\n",
    "    bi_model        = nltk.BigramTagger(training_sentences)\n",
    "    tri_model       = nltk.TrigramTagger(training_sentences)\n",
    "    regexp_model    = nltk.RegexpTagger(patterns)\n",
    "    \n",
    "    accuracies.append(def_model.evaluate(test_sentences))\n",
    "    accuracies.append(uni_model.evaluate(test_sentences))\n",
    "    accuracies.append(bi_model.evaluate(test_sentences))\n",
    "    accuracies.append(tri_model.evaluate(test_sentences))\n",
    "    accuracies.append(regexp_model.evaluate(test_sentences))"
   ]
  },
  {
   "cell_type": "code",
   "execution_count": 5,
   "metadata": {},
   "outputs": [
    {
     "data": {
      "image/png": "[encoded data removed]",
      "text/plain": [
       "<Figure size 720x432 with 1 Axes>"
      ]
     },
     "metadata": {},
     "output_type": "display_data"
    }
   ],
   "source": [
    "plt.rcParams[\"figure.figsize\"] = [10,6]\n",
    "fig, ax = plt.subplots()\n",
    "index = np.arange(len(name_list))\n",
    "y = ax.bar(index, accuracies)\n",
    "ax.set_xlabel('Performance')\n",
    "ax.set_ylabel('Accuracy')\n",
    "ax.set_xticks(np.arange(len(name_list)))\n",
    "ax.set_xticklabels(name_list)\n",
    "fig.tight_layout()\n",
    "\n",
    "plt.show()"
   ]
  },
  {
   "cell_type": "markdown",
   "metadata": {},
   "source": [
    "## Task 2"
   ]
  },
  {
   "cell_type": "markdown",
   "metadata": {},
   "source": [
    "### Prepare X3 "
   ]
  },
  {
   "cell_type": "code",
   "execution_count": 6,
   "metadata": {},
   "outputs": [],
   "source": [
    "X3= nltk.corpus.conll2002\n",
    "name_list = ['2.1', '2.2']\n",
    "accuracies2 = []\n",
    "\n",
    "#split in training and test \n",
    "annotated_sent = X3.tagged_sents('ned.testa') #dutch and spanish, only use dutch\n",
    "cutoff = int(.75 * len(annotated_sent))\n",
    "training_sentences = annotated_sent[:cutoff] #0.8\n",
    "test_sentences = annotated_sent[cutoff:] #0.2"
   ]
  },
  {
   "cell_type": "markdown",
   "metadata": {},
   "source": [
    "### Model 4"
   ]
  },
  {
   "cell_type": "code",
   "execution_count": 7,
   "metadata": {},
   "outputs": [],
   "source": [
    "X, y = transform_to_dataset(training_sentences, use_optimized=False) # use standard features\n",
    "\n",
    "size=10000\n",
    "clf = Pipeline([\n",
    "    ('vectorizer', DictVectorizer(sparse=False)),\n",
    "    ('classifier', DecisionTreeClassifier(criterion='entropy')) #OTHER OPTIONS: Hidden Markov Model, Logistic Regression, Maximum Entropy Markov Models, Decision Trees, Naive Bayes\n",
    "])\n",
    "\n",
    "clf.fit(X[:size], y[:size]) #the classifier learns from the training data\n",
    "X_test, y_test = transform_to_dataset(test_sentences) #this function uses my features\n",
    "accuracies2.append(clf.score(X_test, y_test)) "
   ]
  },
  {
   "cell_type": "markdown",
   "metadata": {},
   "source": [
    "### Model 5"
   ]
  },
  {
   "cell_type": "code",
   "execution_count": 8,
   "metadata": {},
   "outputs": [],
   "source": [
    "os.chdir(RDRPOS_PATH + '\\pSCRDRtagger')\n",
    "sys.path.insert(0, RDRPOS_PATH + '\\pSCRDRtagger')\n",
    "\n",
    "import RDRPOSTagger as rpt\n",
    "import nltk\n",
    "\n",
    "def tagged_tuples(tagged_str):\n",
    "    tagged_tuples = []\n",
    "    for t in tagged_str.split():\n",
    "        x, y = t.split('/')\n",
    "        tagged_tuples.append((x,y))\n",
    "    \n",
    "    return tagged_tuples\n",
    "\n",
    "def readDictionary2(inputFile): #change to utf8 encoding\n",
    "    dictionary = {}\n",
    "    lines = open(inputFile, encoding= \"utf8\").readlines()\n",
    "    for line in lines:\n",
    "        wordtag = line.strip().split()\n",
    "        dictionary[wordtag[0]] = wordtag[1]\n",
    "    return dictionary"
   ]
  },
  {
   "cell_type": "code",
   "execution_count": 9,
   "metadata": {},
   "outputs": [
    {
     "name": "stdout",
     "output_type": "stream",
     "text": [
      "['Node', '__builtins__', '__cached__', '__doc__', '__file__', '__loader__', '__name__', '__package__', '__spec__', 'tabStr']\n"
     ]
    }
   ],
   "source": [
    "r = rpt.RDRPOSTagger()\n",
    "r.constructSCRDRtreeFromRDRfile(RDRPOS_PATH + r\"\\Models\\MORPH\\Dutch.RDR\")\n",
    "DICT = readDictionary2(RDRPOS_PATH + r\"\\Models\\MORPH\\Dutch.DICT\")"
   ]
  },
  {
   "cell_type": "code",
   "execution_count": 10,
   "metadata": {},
   "outputs": [],
   "source": [
    "def transform_to_dataset(tagged_sentences, use_optimized=True):\n",
    "    X, y = [], []\n",
    "    for tagged in tagged_sentences:\n",
    "        for index in range(len(tagged)):\n",
    "            X.append(features(untag(tagged), index))\n",
    "            y.append(tagged[index][1])\n",
    " \n",
    "    return X, y"
   ]
  },
  {
   "cell_type": "code",
   "execution_count": 11,
   "metadata": {},
   "outputs": [
    {
     "name": "stdout",
     "output_type": "stream",
     "text": [
      "0.06255478524185194\n"
     ]
    }
   ],
   "source": [
    "#choose corpus\n",
    "tagged_sents    = X3.tagged_sents('ned.testa')\n",
    "sents           = X3.sents('ned.testa')\n",
    "text = [' '.join(i) for i in sents]\n",
    "text = ' '.join(text)\n",
    "\n",
    "tagged_text = r.tagRawSentence(DICT, text)  #use the RDRPOS tagger\n",
    "\n",
    "tagged_tuples = []\n",
    "for t in tagged_text.split():\n",
    "    tup = t.split('/')\n",
    "    if len(tup) >= 3:  # drop data with more than 3 entries\n",
    "        continue\n",
    "    else:\n",
    "        tup = tuple(tup)\n",
    "    tagged_tuples.append(tup)\n",
    "    \n",
    "#convert tuples to list\n",
    "list_of_lists = [list(elem) for elem in tagged_tuples]\n",
    "\n",
    "#Change appearance of the tag\n",
    "for i in range(len(list_of_lists)): \n",
    "    str = list_of_lists[i][1]\n",
    "    temp = str.split(\".\",1)\n",
    "    temp2 = temp[1].split(\"(\",1)\n",
    "    list_of_lists[i][1]= temp2[0]\n",
    "    \n",
    "#convert back to tuples\n",
    "tagged_tuples = [tuple(l) for l in list_of_lists]\n",
    "\n",
    "predicted_tuples = [tagged_tuples]\n",
    "\n",
    "#get accuracy\n",
    "X_pred, y_pred = transform_to_dataset(predicted_tuples, use_optimized=False)\n",
    "X, y = transform_to_dataset(tagged_sents, use_optimized=False)\n",
    "total_count = len(y_pred)\n",
    "match_count = 0\n",
    "\n",
    "for i in range(total_count):\n",
    "    if y[i] == y_pred[i]:\n",
    "        match_count = match_count + 1\n",
    "    \n",
    "print(match_count * 1.0/total_count)\n",
    "    \n",
    "accuracies2.append(match_count * 1.0/total_count)"
   ]
  },
  {
   "cell_type": "code",
   "execution_count": 12,
   "metadata": {},
   "outputs": [
    {
     "data": {
      "image/png": "[encoded data removed]",
      "text/plain": [
       "<Figure size 360x360 with 1 Axes>"
      ]
     },
     "metadata": {},
     "output_type": "display_data"
    }
   ],
   "source": [
    "plt.rcParams[\"figure.figsize\"] = [5,5]\n",
    "fig, ax = plt.subplots()\n",
    "index = np.arange(len(name_list))\n",
    "y = ax.bar(index, accuracies2)\n",
    "ax.set_xlabel('Performance')\n",
    "ax.set_ylabel('Accuracy')\n",
    "ax.set_xticks(np.arange(len(name_list)))\n",
    "ax.set_xticklabels(name_list)\n",
    "fig.tight_layout()\n",
    "\n",
    "plt.show()"
   ]
  }
 ],
 "metadata": {
  "celltoolbar": "Raw Cell Format",
  "kernelspec": {
   "display_name": "Python 3",
   "language": "python",
   "name": "python3"
  },
  "language_info": {
   "codemirror_mode": {
    "name": "ipython",
    "version": 3
   },
   "file_extension": ".py",
   "mimetype": "text/x-python",
   "name": "python",
   "nbconvert_exporter": "python",
   "pygments_lexer": "ipython3",
   "version": "3.6.5"
  }
 },
 "nbformat": 4,
 "nbformat_minor": 2
}
