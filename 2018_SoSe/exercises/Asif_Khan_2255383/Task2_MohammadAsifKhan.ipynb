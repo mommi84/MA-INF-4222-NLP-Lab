{
 "cells": [
  {
   "cell_type": "markdown",
   "metadata": {},
   "source": [
    "## Fact Checking"
   ]
  },
  {
   "cell_type": "code",
   "execution_count": 1,
   "metadata": {
    "collapsed": true
   },
   "outputs": [],
   "source": [
    "import pandas as pd\n",
    "import numpy as np\n",
    "import itertools\n",
    "from sklearn.feature_extraction.text import CountVectorizer, TfidfVectorizer, HashingVectorizer\n",
    "from sklearn.model_selection import train_test_split\n",
    "from sklearn.linear_model import PassiveAggressiveClassifier\n",
    "from sklearn.naive_bayes import MultinomialNB\n",
    "from sklearn.model_selection import StratifiedKFold\n",
    "import matplotlib.pyplot as plt\n",
    "from sklearn.metrics import precision_score, recall_score, accuracy_score, confusion_matrix"
   ]
  },
  {
   "cell_type": "code",
   "execution_count": 2,
   "metadata": {
    "collapsed": true
   },
   "outputs": [],
   "source": [
    "# Read Data\n",
    "df = pd.read_csv('dataset/fake_or_real_news/fake_or_real_news.csv')\n",
    "data_fake = df[['title', 'text']].apply(lambda x: '. '.join(x), axis=1).values\n",
    "label_fake = np.where(df['label']=='FAKE', 0, 1)\n",
    "del df"
   ]
  },
  {
   "cell_type": "code",
   "execution_count": null,
   "metadata": {
    "collapsed": true
   },
   "outputs": [],
   "source": []
  },
  {
   "cell_type": "code",
   "execution_count": 3,
   "metadata": {
    "collapsed": true
   },
   "outputs": [],
   "source": [
    "def transform_to_feature(X_train, X_test, X_valid=None, feature='tfidf'):\n",
    "    if feature=='count':\n",
    "        vectorizer = CountVectorizer(stop_words='english')\n",
    "        features_train = vectorizer.fit_transform(X_train)\n",
    "        features_test = vectorizer.transform(X_test)\n",
    "        try:\n",
    "            features_valid = vectorizer.transform(X_valid)\n",
    "        except:\n",
    "            features_valid = None\n",
    "            print('No-Validation-Set')\n",
    "    else:\n",
    "        vectorizer = TfidfVectorizer(stop_words='english', max_df=0.7)\n",
    "        features_train = vectorizer.fit_transform(X_train)\n",
    "        features_test = vectorizer.transform(X_test)\n",
    "        try:\n",
    "            features_valid = vectorizer.transform(X_valid)\n",
    "        except:\n",
    "            features_valid = None            \n",
    "            print('No-Validation-Set')\n",
    "            \n",
    "    return features_train, features_test, vectorizer, features_valid\n",
    "\n",
    "def classifier(name):\n",
    "    if name == 'logistic':\n",
    "        from sklearn.linear_model import LogisticRegression\n",
    "        clf = LogisticRegression()       \n",
    "    elif name == 'decision-tree':\n",
    "        from sklearn.tree import DecisionTreeClassifier\n",
    "        clf = DecisionTreeClassifier()       \n",
    "    elif name =='MLP':\n",
    "        from sklearn.neural_network import MLPClassifier\n",
    "        clf = MLPClassifier(alpha=1)\n",
    "    elif name == 'GaussianNB':\n",
    "        from sklearn.naive_bayes import GaussianNB\n",
    "        clf = GaussianNB()\n",
    "    elif name == 'MultinomialNB':\n",
    "        from sklearn.naive_bayes import MultinomialNB\n",
    "        clf = MultinomialNB()\n",
    "    else:\n",
    "        raise NotImplementedError('Classifier not implemented.')    \n",
    "    \n",
    "    return clf\n",
    "\n",
    "def plot_confusion_matrix(cm, classes,\n",
    "                          normalize=False,\n",
    "                          title='Confusion matrix',\n",
    "                          cmap=plt.cm.Blues):\n",
    "    \"\"\"\n",
    "    See full source and example: \n",
    "    http://scikit-learn.org/stable/auto_examples/model_selection/plot_confusion_matrix.html\n",
    "    \n",
    "    This function prints and plots the confusion matrix.\n",
    "    Normalization can be applied by setting `normalize=True`.\n",
    "    \"\"\"\n",
    "    plt.imshow(cm, interpolation='nearest', cmap=cmap)\n",
    "    plt.title(title)\n",
    "    plt.colorbar()\n",
    "    tick_marks = np.arange(len(classes))\n",
    "    plt.xticks(tick_marks, classes, rotation=45)\n",
    "    plt.yticks(tick_marks, classes)\n",
    "\n",
    "    if normalize:\n",
    "        cm = cm.astype('float') / cm.sum(axis=1)[:, np.newaxis]\n",
    "        print(\"Normalized confusion matrix\")\n",
    "    else:\n",
    "        print('Confusion matrix, without normalization')\n",
    "\n",
    "    thresh = cm.max() / 2.\n",
    "    for i, j in itertools.product(range(cm.shape[0]), range(cm.shape[1])):\n",
    "        plt.text(j, i, cm[i, j],\n",
    "                 horizontalalignment=\"center\",\n",
    "                 color=\"white\" if cm[i, j] > thresh else \"black\")\n",
    "\n",
    "    plt.tight_layout()\n",
    "    plt.ylabel('True label')\n",
    "    plt.xlabel('Predicted label')\n",
    "    plt.show()\n"
   ]
  },
  {
   "cell_type": "markdown",
   "metadata": {},
   "source": [
    "## Configuration-1"
   ]
  },
  {
   "cell_type": "code",
   "execution_count": 4,
   "metadata": {
    "collapsed": true
   },
   "outputs": [],
   "source": [
    "def cross_validation(model, features_train, train_label, features_test, test_label, K=5, random_state=4222):\n",
    "    k_fold = StratifiedKFold(n_splits=K,random_state=random_state)\n",
    "    accuracy_train, accuracy_validation, accuracy_test = np.empty(5), np.empty(5), np.empty(5)\n",
    "    precision_train, precision_validation, precision_test  = np.empty(5), np.empty(5), np.empty(5)\n",
    "    recall_train, recall_validation, recall_test  = np.empty(5), np.empty(5), np.empty(5)\n",
    "\n",
    "    for k, (train, validation) in enumerate(k_fold.split(features_train, train_label)):\n",
    "        model.fit(features_train[train], train_label[train])\n",
    "        print(\"[fold {0}], Validation Score: {1:.5f}\".format(k, model.score(features_train[validation], train_label[validation])))\n",
    "        train_pred = model.predict(features_train[train])\n",
    "        accuracy_train[k]= accuracy_score(train_label[train], train_pred)\n",
    "        precision_train[k]= precision_score(train_label[train], train_pred)\n",
    "        recall_train[k] = recall_score(train_label[train], train_pred)\n",
    "\n",
    "        validation_pred = model.predict(features_train[validation])\n",
    "        accuracy_validation[k]= accuracy_score(train_label[validation], validation_pred)\n",
    "        precision_validation[k]= precision_score(train_label[validation], validation_pred)\n",
    "        recall_validation[k] = recall_score(train_label[validation], validation_pred)\n",
    "\n",
    "        test_pred = model.predict(features_test)\n",
    "        accuracy_test[k]= accuracy_score(test_pred, test_label)\n",
    "        precision_test[k]= precision_score(test_pred, test_label)\n",
    "        recall_test[k] = recall_score(test_pred, test_label)\n",
    "\n",
    "    print(\"Accuracy Training Set: {0:.2f} (+/- {1:.2f})\".format(accuracy_train.mean(), accuracy_train.std() * 2))\n",
    "    print(\"Precision Training Set: {0:.2f} (+/- {1:.2f})\".format(precision_train.mean(), precision_train.std() * 2))\n",
    "    print(\"Recall Training Set: {0:.2f} (+/- {1:.2f})\".format(recall_train.mean(), recall_train.std() * 2))\n",
    "    \n",
    "    print(\"Accuracy Validation Set: {0:.2f} (+/- {1:.2f})\".format(accuracy_validation.mean(), accuracy_validation.std() * 2))\n",
    "    print(\"Precision Validation Set: {0:.2f} (+/- {1:.2f})\".format(precision_validation.mean(), precision_validation.std() * 2))\n",
    "    print(\"Recall Validation Set: {0:.2f} (+/- {1:.2f})\".format(recall_validation.mean(), recall_validation.std() * 2))\n",
    "    \n",
    "    print(\"Accuracy Test Set: {0:.2f} (+/- {1:.2f})\".format(accuracy_test.mean(), accuracy_test.std() * 2))\n",
    "    print(\"Precision Test Set: {0:.2f} (+/- {1:.2f})\".format(precision_test.mean(), precision_test.std() * 2))\n",
    "    print(\"Recall Test Set: {0:.2f} (+/- {1:.2f})\".format(recall_test.mean(), recall_test.std() * 2))\n"
   ]
  },
  {
   "cell_type": "code",
   "execution_count": 5,
   "metadata": {},
   "outputs": [
    {
     "name": "stdout",
     "output_type": "stream",
     "text": [
      "No-Validation-Set\n",
      "[fold 0], Validation Score: 0.83281\n",
      "[fold 1], Validation Score: 0.84316\n",
      "[fold 2], Validation Score: 0.84316\n",
      "[fold 3], Validation Score: 0.82000\n",
      "[fold 4], Validation Score: 0.81579\n",
      "Accuracy Training Set: 0.90 (+/- 0.00)\n",
      "Precision Training Set: 0.84 (+/- 0.01)\n",
      "Recall Training Set: 0.99 (+/- 0.00)\n",
      "Accuracy Validation Set: 0.83 (+/- 0.02)\n",
      "Precision Validation Set: 0.75 (+/- 0.02)\n",
      "Recall Validation Set: 0.98 (+/- 0.01)\n",
      "Accuracy Test Set: 0.84 (+/- 0.01)\n",
      "Precision Test Set: 0.98 (+/- 0.01)\n",
      "Recall Test Set: 0.76 (+/- 0.01)\n",
      "Confusion matrix, without normalization\n"
     ]
    },
    {
     "data": {
      "image/png": "[encoded data removed]",
      "text/plain": [
       "<matplotlib.figure.Figure at 0x7fefe31bfef0>"
      ]
     },
     "metadata": {},
     "output_type": "display_data"
    }
   ],
   "source": [
    "model_a = classifier('MultinomialNB')\n",
    "# Split Data\n",
    "train_data_fake, test_data_fake, train_label_fake, test_label_fake = train_test_split(data_fake, label_fake, test_size=0.25, shuffle=True)\n",
    "features_train_fake, features_test_fake, vectorizer_fake,_ = transform_to_feature(train_data_fake, test_data_fake, feature='tfidf')\n",
    "cross_validation(model_a, features_train_fake, train_label_fake, features_test_fake, test_label_fake, K=5)\n",
    "\n",
    "model_a.fit(features_train_fake, train_label_fake)\n",
    "y_pred_fake = model_a.predict(features_test_fake)\n",
    "cm = confusion_matrix(test_label_fake, y_pred_fake)\n",
    "plot_confusion_matrix(cm, classes=['FAKE', 'REAL'])"
   ]
  },
  {
   "cell_type": "code",
   "execution_count": 6,
   "metadata": {},
   "outputs": [
    {
     "data": {
      "text/plain": [
       "MultinomialNB(alpha=1.0, class_prior=None, fit_prior=True)"
      ]
     },
     "execution_count": 6,
     "metadata": {},
     "output_type": "execute_result"
    }
   ],
   "source": [
    "model_a"
   ]
  },
  {
   "cell_type": "markdown",
   "metadata": {},
   "source": [
    "## Configuration 2"
   ]
  },
  {
   "cell_type": "code",
   "execution_count": 7,
   "metadata": {
    "collapsed": true
   },
   "outputs": [],
   "source": [
    "df_train = pd.read_csv('dataset/liar_dataset/train.tsv', sep='\\t', header=None)\n",
    "train_label_liar, train_data_liar = df_train[1].values, df_train[2].values\n",
    "train_label_liar = np.where(train_label_liar=='false',0,1)\n",
    "\n",
    "df_valid = pd.read_csv('dataset/liar_dataset/valid.tsv', sep='\\t', header=None)\n",
    "valid_label_liar, valid_data_liar = df_valid[1].values, df_valid[2].values\n",
    "valid_label_liar = np.where(valid_label_liar=='false',0,1)\n",
    "\n",
    "\n",
    "df_test = pd.read_csv('dataset/liar_dataset/test.tsv', sep='\\t', header=None)\n",
    "test_label_liar, test_data_liar = df_test[1].values, df_test[2].values\n",
    "test_label_liar = np.where(test_label_liar=='false',0,1)\n",
    "\n",
    "features_train_liar, features_test_liar, vectorizer_liar, features_valid_liar = transform_to_feature(train_data_liar, test_data_liar, valid_data_liar, feature='tfidf')"
   ]
  },
  {
   "cell_type": "code",
   "execution_count": 8,
   "metadata": {},
   "outputs": [
    {
     "data": {
      "text/plain": [
       "array([0, 1, 1, ..., 1, 0, 1])"
      ]
     },
     "execution_count": 8,
     "metadata": {},
     "output_type": "execute_result"
    }
   ],
   "source": [
    "train_label_liar"
   ]
  },
  {
   "cell_type": "code",
   "execution_count": 9,
   "metadata": {},
   "outputs": [
    {
     "name": "stdout",
     "output_type": "stream",
     "text": [
      "Accuracy Training Set: 1.00 \n",
      "Precision Training Set: 1.00 \n",
      "Recall Training Set: 1.00 \n",
      "Accuracy Validation Set: 0.71 \n",
      "Precision Validation Set: 0.84 \n",
      "Recall Validation Set: 0.81 \n",
      "Accuracy Test Set: 0.72 \n",
      "Precision Test Set: 0.85 \n",
      "Recall Test Set: 0.81 \n",
      "Confusion matrix, without normalization\n"
     ]
    },
    {
     "data": {
      "image/png": "[encoded data removed]",
      "text/plain": [
       "<matplotlib.figure.Figure at 0x7fefdeff8cc0>"
      ]
     },
     "metadata": {},
     "output_type": "display_data"
    }
   ],
   "source": [
    "model_b = classifier('decision-tree')\n",
    "\n",
    "model_b.fit(features_train_liar, train_label_liar)\n",
    "train_pred_liar = model_b.predict(features_train_liar)\n",
    "print(\"Accuracy Training Set: {0:.2f} \".format(accuracy_score(train_pred_liar, train_label_liar)))\n",
    "print(\"Precision Training Set: {0:.2f} \".format(precision_score(train_pred_liar, train_label_liar)))\n",
    "print(\"Recall Training Set: {0:.2f} \".format(recall_score(train_pred_liar, train_label_liar)))\n",
    "                                                          \n",
    "valid_pred_liar = model_b.predict(features_valid_liar)\n",
    "print(\"Accuracy Validation Set: {0:.2f} \".format(accuracy_score(valid_pred_liar, valid_label_liar)))\n",
    "print(\"Precision Validation Set: {0:.2f} \".format(precision_score(valid_pred_liar, valid_label_liar)))\n",
    "print(\"Recall Validation Set: {0:.2f} \".format(recall_score(valid_pred_liar, valid_label_liar)))\n",
    "\n",
    "test_pred_liar = model_b.predict(features_test_liar)\n",
    "print(\"Accuracy Test Set: {0:.2f} \".format(accuracy_score(test_pred_liar, test_label_liar)))\n",
    "print(\"Precision Test Set: {0:.2f} \".format(precision_score(test_pred_liar, test_label_liar)))\n",
    "print(\"Recall Test Set: {0:.2f} \".format(recall_score(test_pred_liar, test_label_liar)))\n",
    "                                                    \n",
    "cm = confusion_matrix(test_pred_liar, test_label_liar)\n",
    "plot_confusion_matrix(cm, classes=['false', 'true'])"
   ]
  },
  {
   "cell_type": "code",
   "execution_count": 10,
   "metadata": {},
   "outputs": [
    {
     "data": {
      "text/plain": [
       "DecisionTreeClassifier(class_weight=None, criterion='gini', max_depth=None,\n",
       "            max_features=None, max_leaf_nodes=None,\n",
       "            min_impurity_decrease=0.0, min_impurity_split=None,\n",
       "            min_samples_leaf=1, min_samples_split=2,\n",
       "            min_weight_fraction_leaf=0.0, presort=False, random_state=None,\n",
       "            splitter='best')"
      ]
     },
     "execution_count": 10,
     "metadata": {},
     "output_type": "execute_result"
    }
   ],
   "source": [
    "model_b"
   ]
  },
  {
   "cell_type": "markdown",
   "metadata": {},
   "source": [
    "## Confuguration-3"
   ]
  },
  {
   "cell_type": "code",
   "execution_count": 11,
   "metadata": {},
   "outputs": [
    {
     "name": "stdout",
     "output_type": "stream",
     "text": [
      "Accuracy Test Set: 0.74)\n",
      "Precision Test Set: 0.88)\n",
      "Recall Test Set: 0.81)\n",
      "Confusion matrix, without normalization\n"
     ]
    },
    {
     "data": {
      "image/png": "[encoded data removed]",
      "text/plain": [
       "<matplotlib.figure.Figure at 0x7fefe3931358>"
      ]
     },
     "metadata": {},
     "output_type": "display_data"
    }
   ],
   "source": [
    "# Check Model_a on Dataset 2\n",
    "features_test_liar2 = vectorizer_fake.transform(test_data_liar)\n",
    "test_pred_liar_2 = model_a.predict(features_test_liar2)\n",
    "print(\"Accuracy Test Set: {0:.2f})\".format(accuracy_score(test_pred_liar_2, test_label_liar)))\n",
    "print(\"Precision Test Set: {0:.2f})\".format(precision_score(test_pred_liar_2, test_label_liar)))\n",
    "print(\"Recall Test Set: {0:.2f})\".format(recall_score(test_pred_liar_2, test_label_liar)))\n",
    "cm = confusion_matrix(test_pred_liar_2, test_label_liar)\n",
    "plot_confusion_matrix(cm, classes=['false', 'true'])"
   ]
  },
  {
   "cell_type": "code",
   "execution_count": null,
   "metadata": {
    "collapsed": true
   },
   "outputs": [],
   "source": []
  },
  {
   "cell_type": "code",
   "execution_count": 12,
   "metadata": {},
   "outputs": [
    {
     "name": "stdout",
     "output_type": "stream",
     "text": [
      "Accuracy Test Set: 0.50)\n",
      "Precision Test Set: 0.85)\n",
      "Recall Test Set: 0.50)\n",
      "Confusion matrix, without normalization\n"
     ]
    },
    {
     "data": {
      "image/png": "[encoded data removed]",
      "text/plain": [
       "<matplotlib.figure.Figure at 0x7fefdef26160>"
      ]
     },
     "metadata": {},
     "output_type": "display_data"
    }
   ],
   "source": [
    "# Check Model_b on Dataset 1\n",
    "features_test_fake2 = vectorizer_liar.transform(test_data_fake)\n",
    "test_pred_fake_2 = model_b.predict(features_test_fake2)\n",
    "print(\"Accuracy Test Set: {0:.2f})\".format(accuracy_score(test_pred_fake_2, test_label_fake)))\n",
    "print(\"Precision Test Set: {0:.2f})\".format(precision_score(test_pred_fake_2, test_label_fake)))\n",
    "print(\"Recall Test Set: {0:.2f})\".format(recall_score(test_pred_fake_2, test_label_fake)))\n",
    "cm = confusion_matrix(test_pred_fake_2, test_label_fake)\n",
    "plot_confusion_matrix(cm, classes=['false', 'true'])"
   ]
  },
  {
   "cell_type": "markdown",
   "metadata": {},
   "source": [
    "## Configuration 4"
   ]
  },
  {
   "cell_type": "code",
   "execution_count": 13,
   "metadata": {},
   "outputs": [
    {
     "name": "stdout",
     "output_type": "stream",
     "text": [
      "No-Validation-Set\n"
     ]
    }
   ],
   "source": [
    "dataset3 = np.concatenate((train_data_liar, valid_data_liar, data_fake), axis=0)\n",
    "label3 = np.concatenate((train_label_liar, valid_label_liar, label_fake), axis=0)\n",
    "\n",
    "train_data, test_data, train_label, test_label = train_test_split(dataset3, label3, test_size=0.25, shuffle=True)\n",
    "test_data = np.concatenate((test_data, test_data_liar), axis=0)\n",
    "test_label = np.concatenate((test_label, test_label_liar), axis=0)\n",
    "features_train, features_test, vectorizer, _ = transform_to_feature(train_data, test_data, feature='tfidf')"
   ]
  },
  {
   "cell_type": "code",
   "execution_count": 14,
   "metadata": {},
   "outputs": [
    {
     "name": "stdout",
     "output_type": "stream",
     "text": [
      "Accuracy Training Set: 0.86 \n",
      "Precision Training Set: 0.99 \n",
      "Recall Training Set: 0.83 \n",
      "Accuracy Test Set: 0.81 \n",
      "Precision Test Set: 0.98 \n",
      "Recall Test Set: 0.80 \n",
      "Confusion matrix, without normalization\n"
     ]
    },
    {
     "data": {
      "image/png": "[encoded data removed]",
      "text/plain": [
       "<matplotlib.figure.Figure at 0x7fefff82b128>"
      ]
     },
     "metadata": {},
     "output_type": "display_data"
    }
   ],
   "source": [
    "model_c = classifier('logistic')\n",
    "\n",
    "model_c.fit(features_train.todense(), train_label)\n",
    "train_pred = model_c.predict(features_train.todense())\n",
    "print(\"Accuracy Training Set: {0:.2f} \".format(accuracy_score(train_pred, train_label)))\n",
    "print(\"Precision Training Set: {0:.2f} \".format(precision_score(train_pred, train_label)))\n",
    "print(\"Recall Training Set: {0:.2f} \".format(recall_score(train_pred, train_label)))\n",
    "\n",
    "test_pred = model_c.predict(features_test.todense())\n",
    "print(\"Accuracy Test Set: {0:.2f} \".format(accuracy_score(test_pred, test_label)))\n",
    "print(\"Precision Test Set: {0:.2f} \".format(precision_score(test_pred, test_label)))\n",
    "print(\"Recall Test Set: {0:.2f} \".format(recall_score(test_pred, test_label)))\n",
    "                                                    \n",
    "cm = confusion_matrix(test_pred, test_label)\n",
    "plot_confusion_matrix(cm, classes=['false', 'true'])"
   ]
  },
  {
   "cell_type": "code",
   "execution_count": 15,
   "metadata": {},
   "outputs": [
    {
     "data": {
      "text/plain": [
       "LogisticRegression(C=1.0, class_weight=None, dual=False, fit_intercept=True,\n",
       "          intercept_scaling=1, max_iter=100, multi_class='ovr', n_jobs=1,\n",
       "          penalty='l2', random_state=None, solver='liblinear', tol=0.0001,\n",
       "          verbose=0, warm_start=False)"
      ]
     },
     "execution_count": 15,
     "metadata": {},
     "output_type": "execute_result"
    }
   ],
   "source": [
    "model_c"
   ]
  },
  {
   "cell_type": "markdown",
   "metadata": {},
   "source": [
    "## Saving MetaData as RDF"
   ]
  },
  {
   "cell_type": "code",
   "execution_count": 4,
   "metadata": {
    "collapsed": true
   },
   "outputs": [],
   "source": [
    "from rdflib import Namespace, Graph, Literal\n",
    "from rdflib.namespace import FOAF, OWL, XSD, RDFS, DCTERMS, DOAP, DC, RDF\n",
    "\n",
    "\n",
    "prov = Namespace('http://www.w3.org/ns/prov#')\n",
    "dcat = Namespace('http://www.w3.org/ns/dcat#')\n",
    "mexalgo = Namespace('http://mex.aksw.org/mex-algo#')\n",
    "mexperf = Namespace('http://mex.aksw.org/mex-perf#')\n",
    "mexcore = Namespace('http://mex.aksw.org/mex-core#')\n",
    "this = Namespace('http://mex.aksw.org/examples/')\n",
    "\n",
    "g = Graph()\n",
    "# Create Binding\n",
    "g.bind('dct',DCTERMS)\n",
    "g.bind('owl',OWL)\n",
    "g.bind('foaf',FOAF)\n",
    "g.bind('xsd', XSD)\n",
    "g.bind('rdfs', RDFS)\n",
    "g.bind('doap', DOAP)\n",
    "g.bind('dc', DC)\n",
    "g.bind('prov', prov)\n",
    "g.bind('dcat', dcat)\n",
    "g.bind('mexalgo',mexalgo)\n",
    "g.bind('mexperf',mexperf)\n",
    "g.bind('mexcore',mexcore)\n",
    "g.bind('this',this)\n",
    "\n",
    "g.add((this.khan_task2,RDF.type, mexcore.Experiment))\n",
    "g.add((this.khan_task2,RDF.type, mexcore.ApplicationContext))\n",
    "g.add((this.khan_task2,RDFS.label, Literal('2255383')))\n",
    "g.add((this.khan_task2,DCTERMS.date, Literal('2018-05-15',datatype=XSD.date)))\n",
    "g.add((this.khan_task2,FOAF.givenName, Literal('Asif')))\n",
    "g.add((this.khan_task2,FOAF.mbox, Literal('mak4086@gmail.com')))\n",
    "\n",
    "#Configuration-1\n",
    "g.add((this.configuration1,RDF.type,mexcore.ExperimentConfiguration))\n",
    "g.add((this.configuration1,prov.used, this.model1))\n",
    "g.add((this.configuration1,prov.wasStartedBy, this.khan_task2))\n",
    "\n",
    "#Configuration-2\n",
    "g.add((this.configuration2,RDF.type,mexcore.ExperimentConfiguration))\n",
    "g.add((this.configuration2,prov.used, this.model2))\n",
    "g.add((this.configuration2,prov.wasStartedBy, this.khan_task2))\n",
    "\n",
    "#Configuration-3\n",
    "g.add((this.configuration3,RDF.type,mexcore.ExperimentConfiguration))\n",
    "g.add((this.configuration3,prov.used, this.model2))\n",
    "g.add((this.configuration3,prov.used, this.model1))\n",
    "g.add((this.configuration3,prov.wasStartedBy, this.khan_task2))\n",
    "\n",
    "#Configuration-4\n",
    "g.add((this.configuration4,RDF.type,mexcore.ExperimentConfiguration))\n",
    "g.add((this.configuration4,prov.used, this.model4))\n",
    "g.add((this.configuration4,prov.wasStartedBy, this.khan_task2))\n",
    "\n",
    "g.add((this.test,RDF.type,mexcore.Test))\n",
    "g.add((this.test,RDFS.label,Literal('Test')))\n",
    "\n",
    "g.add((this.hyerparameter_model1,RDF.type,mexalgo.HyperParameterCollection))\n",
    "g.add((this.hyerparameter1,RDFS.label,Literal('HyperParameterCollection')))\n",
    "g.add((this.hyerparameter_model1,prov.hadMember,this.hyerparameter1))\n",
    "\n",
    "g.add((this.hyerparameter_model2,RDF.type,mexalgo.HyperParameterCollection))\n",
    "g.add((this.hyerparameter_model2,RDFS.label,Literal('HyperParameterCollection')))\n",
    "g.add((this.hyerparameter_model2,prov.hadMember,this.hyerparameter2))\n",
    "g.add((this.hyerparameter_model2,prov.hadMember,this.hyerparameter3))\n",
    "g.add((this.hyerparameter_model2,prov.hadMember,this.hyerparameter4))\n",
    "g.add((this.hyerparameter_model2,prov.hadMember,this.hyerparameter5))\n",
    "\n",
    "\n",
    "g.add((this.hyerparameter_model4,RDF.type,mexalgo.HyperParameterCollection))\n",
    "g.add((this.hyerparameter_model4,RDFS.label,Literal('HyperParameterCollection')))\n",
    "g.add((this.hyerparameter_model4,prov.hadMember,this.hyerparameter6))\n",
    "g.add((this.hyerparameter_model4,prov.hadMember,this.hyerparameter7))\n",
    "g.add((this.hyerparameter_model4,prov.hadMember,this.hyerparameter8))\n",
    "\n",
    "\n",
    "\n",
    "g.add((this.hyerparameter1,RDF.type,mexalgo.HyperParameter))\n",
    "g.add((this.hyerparameter1,RDFS.label, Literal('alpha')))\n",
    "g.add((this.hyerparameter1,DCTERMS.identifier, Literal('alpha')))\n",
    "g.add((this.hyerparameter1,prov.value, Literal('1.0',datatype=XSD.float)))\n",
    "\n",
    "g.add((this.hyerparameter2,RDF.type,mexalgo.HyperParameter))\n",
    "g.add((this.hyerparameter2,RDFS.label, Literal('min_samples_split')))\n",
    "g.add((this.hyerparameter2,DCTERMS.identifier, Literal('min_samples_split')))\n",
    "g.add((this.hyerparameter2,prov.value, Literal('2',datatype=XSD.integer)))\n",
    "\n",
    "g.add((this.hyerparameter3,RDF.type,mexalgo.HyperParameter))\n",
    "g.add((this.hyerparameter3,RDFS.label, Literal('min_samples_leaf')))\n",
    "g.add((this.hyerparameter3,DCTERMS.identifier, Literal('min_samples_leaf')))\n",
    "g.add((this.hyerparameter3,prov.value, Literal('1',datatype=XSD.integer)))\n",
    "\n",
    "g.add((this.hyerparameter4,RDF.type,mexalgo.HyperParameter))\n",
    "g.add((this.hyerparameter4,RDFS.label, Literal('splitter')))\n",
    "g.add((this.hyerparameter4,DCTERMS.identifier, Literal('splitter')))\n",
    "g.add((this.hyerparameter4,prov.value, Literal('best')))\n",
    "\n",
    "g.add((this.hyerparameter5,RDF.type,mexalgo.HyperParameter))\n",
    "g.add((this.hyerparameter5,RDFS.label, Literal('criterion')))\n",
    "g.add((this.hyerparameter5,DCTERMS.identifier, Literal('criterion')))\n",
    "g.add((this.hyerparameter5,prov.value, Literal('gini')))\n",
    "\n",
    "g.add((this.hyerparameter6,RDF.type,mexalgo.HyperParameter))\n",
    "g.add((this.hyerparameter6,RDFS.label, Literal('max_iter')))\n",
    "g.add((this.hyerparameter6,DCTERMS.identifier, Literal('max_iter')))\n",
    "g.add((this.hyerparameter6,prov.value, Literal('100',datatype=XSD.integer)))\n",
    "\n",
    "g.add((this.hyerparameter7,RDF.type,mexalgo.HyperParameter))\n",
    "g.add((this.hyerparameter7,RDFS.label, Literal('penalty')))\n",
    "g.add((this.hyerparameter7,DCTERMS.identifier, Literal('penalty')))\n",
    "g.add((this.hyerparameter7,prov.value, Literal('l2')))\n",
    "\n",
    "\n",
    "g.add((this.hyerparameter8,RDF.type,mexalgo.HyperParameter))\n",
    "g.add((this.hyerparameter8,RDFS.label, Literal('C')))\n",
    "g.add((this.hyerparameter8,DCTERMS.identifier, Literal('C')))\n",
    "g.add((this.hyerparameter8,prov.value, Literal('1.0',datatype=XSD.float)))\n",
    "\n",
    "g.add((this.dataset1,RDF.type,mexcore.Dataset))\n",
    "g.add((this.dataset1,RDFS.label,Literal('Fake-News')))\n",
    "g.add((this.dataset1,DCTERMS.landingPage,Literal('https://github.com/GeorgeMcIntire/fake_real_news_dataset')))\n",
    "\n",
    "g.add((this.dataset2,RDF.type,mexcore.Dataset))\n",
    "g.add((this.dataset2,RDFS.label,Literal('Liar-Liar')))\n",
    "g.add((this.dataset2,DCTERMS.landingPage,Literal('https://www.cs.ucsb.edu/william/data/liar_dataset.zip')))\n",
    "\n",
    "g.add((this.dataset3,RDF.type,mexcore.Dataset))\n",
    "g.add((this.dataset3,RDFS.label,Literal('Fake-News+Liar-Liar')))\n",
    "g.add((this.dataset3,DCTERMS.landingPage,Literal('https://www.cs.ucsb.edu/william/data/liar_dataset.zip')))\n",
    "g.add((this.dataset3,DCTERMS.landingPage,Literal('https://github.com/GeorgeMcIntire/fake_real_news_dataset')))\n",
    "\n",
    "\n",
    "g.add((this.cross_validation,RDF.type,mexcore.crossValidation))\n",
    "g.add((this.cross_validation,RDFS.label,Literal('cross validation')))\n",
    "g.add((this.cross_validation,mexcore.folds,Literal('5',datatype=XSD.integer)))\n",
    "g.add((this.cross_validation,mexcore.random_state,Literal('4222',datatype=XSD.integer)))\n",
    "\n",
    "g.add((this.execution1,RDF.type,mexcore.ExecutionOverall))\n",
    "g.add((this.execution1,prov.generated,this.performance_measures1))\n",
    "g.add((this.execution1,prov.used,this.test))\n",
    "g.add((this.execution1,prov.used,this.hyerparameter_model1))\n",
    "g.add((this.execution1,prov.used,this.model1))\n",
    "\n",
    "g.add((this.execution2,RDF.type,mexcore.ExecutionOverall))\n",
    "g.add((this.execution2,prov.generated,this.performance_measures2))\n",
    "g.add((this.execution2,prov.used,this.test))\n",
    "g.add((this.execution2,prov.used,this.hyerparameter_model2))\n",
    "g.add((this.execution2,prov.used,this.model2))\n",
    "\n",
    "g.add((this.execution3,RDF.type,mexcore.ExecutionOverall))\n",
    "g.add((this.execution3,prov.generated,this.performance_measures3))\n",
    "g.add((this.execution3,prov.used,this.test))\n",
    "g.add((this.execution3,prov.used,this.model2))\n",
    "g.add((this.execution3,prov.used,this.model3))\n",
    "\n",
    "g.add((this.execution4,RDF.type,mexcore.ExecutionOverall))\n",
    "g.add((this.execution4,prov.generated,this.performance_measures4))\n",
    "g.add((this.execution4,prov.used,this.test))\n",
    "g.add((this.execution4,prov.used,this.hyerparameter_model4))\n",
    "g.add((this.execution4,prov.used,this.model4))\n",
    "\n",
    "g.add((this.performance_measures1,RDF.type,mexcore.PerformanceMeasure))\n",
    "g.add((this.performance_measures1,mexperf.precision,Literal('0.98',datatype=XSD.float)))\n",
    "g.add((this.performance_measures1,mexperf.recall,Literal('0.76',datatype=XSD.float)))\n",
    "g.add((this.performance_measures1,mexperf.accuracy,Literal('0.84',datatype=XSD.float)))\n",
    "g.add((this.performance_measures1,prov.wasGeneratedBy,this.execution1))\n",
    "\n",
    "g.add((this.performance_measures2,RDF.type,mexcore.PerformanceMeasure))\n",
    "g.add((this.performance_measures2,mexperf.precision,Literal('0.85',datatype=XSD.float)))\n",
    "g.add((this.performance_measures2,mexperf.recall,Literal('0.81',datatype=XSD.float)))\n",
    "g.add((this.performance_measures2,mexperf.accuracy,Literal('0.72',datatype=XSD.float)))\n",
    "g.add((this.performance_measures2,prov.wasGeneratedBy,this.execution2))\n",
    "\n",
    "g.add((this.performance_measures3,RDF.type,mexcore.PerformanceMeasure))\n",
    "g.add((this.performance_measures3,mexperf.precision,Literal('0.88',datatype=XSD.float)))\n",
    "g.add((this.performance_measures3,mexperf.recall,Literal('0.81',datatype=XSD.float)))\n",
    "g.add((this.performance_measures3,mexperf.accuracy,Literal('0.74',datatype=XSD.float)))\n",
    "g.add((this.performance_measures3,prov.wasGeneratedBy,this.execution3))\n",
    "\n",
    "\n",
    "g.add((this.performance_measures4,RDF.type,mexcore.PerformanceMeasure))\n",
    "g.add((this.performance_measures4,mexperf.precision,Literal('0.98',datatype=XSD.float)))\n",
    "g.add((this.performance_measures4,mexperf.recall,Literal('0.80',datatype=XSD.float)))\n",
    "g.add((this.performance_measures4,mexperf.accuracy,Literal('0.81',datatype=XSD.float)))\n",
    "g.add((this.performance_measures4,prov.wasGeneratedBy,this.execution4))\n",
    "\n",
    "\n",
    "g.add((this.model1,RDF.type,mexalgo.Algorithm))\n",
    "g.add((this.model1,RDFS.label,Literal('MultinomialNB')))\n",
    "g.add((this.model1,DCTERMS.identifier,Literal('MultinomialNB')))\n",
    "g.add((this.model1,mexalgo.hasHyperParameter,this.hyerparameter1))\n",
    "\n",
    "g.add((this.model2,RDF.type,mexalgo.Algorithm))\n",
    "g.add((this.model2,RDFS.label,Literal('DecisionTree')))\n",
    "g.add((this.model2,DCTERMS.identifier,Literal('DecisionTree')))\n",
    "g.add((this.model2,mexalgo.hasHyperParameter,this.hyerparameter2))\n",
    "g.add((this.model2,mexalgo.hasHyperParameter,this.hyerparameter3))\n",
    "g.add((this.model2,mexalgo.hasHyperParameter,this.hyerparameter4))\n",
    "g.add((this.model2,mexalgo.hasHyperParameter,this.hyerparameter5))\n",
    "\n",
    "g.add((this.model4,RDF.type,mexalgo.Algorithm))\n",
    "g.add((this.model4,RDFS.label,Literal('LogisticRegression')))\n",
    "g.add((this.model4,DCTERMS.identifier,Literal('LogisticRegression')))\n",
    "g.add((this.model4,mexalgo.hasHyperParameter,this.hyerparameter6))\n",
    "g.add((this.model4,mexalgo.hasHyperParameter,this.hyerparameter7))\n",
    "g.add((this.model4,mexalgo.hasHyperParameter,this.hyerparameter8))\n",
    "\n",
    "with open('task2_metadata.ttl','wb') as f:\n",
    "    f.write(g.serialize(format='turtle'))"
   ]
  },
  {
   "cell_type": "code",
   "execution_count": null,
   "metadata": {
    "collapsed": true
   },
   "outputs": [],
   "source": []
  }
 ],
 "metadata": {
  "kernelspec": {
   "display_name": "Python 3",
   "language": "python",
   "name": "python3"
  },
  "language_info": {
   "codemirror_mode": {
    "name": "ipython",
    "version": 3
   },
   "file_extension": ".py",
   "mimetype": "text/x-python",
   "name": "python",
   "nbconvert_exporter": "python",
   "pygments_lexer": "ipython3",
   "version": "3.6.1"
  }
 },
 "nbformat": 4,
 "nbformat_minor": 2
}
