{
 "cells": [
  {
   "cell_type": "markdown",
   "metadata": {},
   "source": [
    "# Fact-checking\n",
    "\n"
   ]
  },
  {
   "cell_type": "code",
   "execution_count": 1,
   "metadata": {
    "scrolled": true
   },
   "outputs": [
    {
     "name": "stderr",
     "output_type": "stream",
     "text": [
      "C:\\Users\\pc\\Miniconda3\\lib\\site-packages\\sklearn\\cross_validation.py:41: DeprecationWarning: This module was deprecated in version 0.18 in favor of the model_selection module into which all the refactored classes and functions are moved. Also note that the interface of the new CV iterators are different from that of this module. This module will be removed in 0.20.\n",
      "  \"This module will be removed in 0.20.\", DeprecationWarning)\n"
     ]
    }
   ],
   "source": [
    "import pandas as pd\n",
    "import numpy as np\n",
    "import itertools\n",
    "from sklearn.feature_extraction.text import CountVectorizer, TfidfVectorizer, HashingVectorizer\n",
    "from sklearn.model_selection import train_test_split\n",
    "from sklearn.model_selection import ShuffleSplit\n",
    "from sklearn.model_selection import cross_val_score\n",
    "import script_dataset3 as sdt\n",
    "from sklearn.neural_network import MLPClassifier\n",
    "from sklearn.svm import LinearSVC\n",
    "from sklearn.naive_bayes import BernoulliNB\n",
    "from sklearn import metrics\n",
    "from sklearn.metrics import make_scorer, precision_score, recall_score, f1_score, accuracy_score\n",
    "import matplotlib.pyplot as plt"
   ]
  },
  {
   "cell_type": "markdown",
   "metadata": {},
   "source": [
    "## Reading&Extracting the training data"
   ]
  },
  {
   "cell_type": "code",
   "execution_count": 2,
   "metadata": {
    "scrolled": false
   },
   "outputs": [
    {
     "name": "stdout",
     "output_type": "stream",
     "text": [
      "processing datasets\n",
      "('ds1=', './fake_or_real_news.csv')\n",
      "('ds2=', './liar_dataset/train.tsv')\n",
      "-- fake news\n",
      "Index([u'y', u'claim'], dtype='object')\n",
      "3171\n",
      "3164\n",
      "6335\n",
      "-- liar liar\n",
      "Index([u'y', u'claim'], dtype='object')\n",
      "(set(['false', 'half-true', 'mostly-true', 'pants-fire', 'true', 'barely-true']), 10240)\n",
      "1676\n",
      "1995\n",
      "(set(['true', 'false']), 3671)\n",
      "false    5159\n",
      "true     4847\n",
      "Name: y, dtype: int64\n",
      "done\n"
     ]
    }
   ],
   "source": [
    "#Data paths\n",
    "ds1 = './fake_or_real_news.csv'\n",
    "ds2 = './liar_dataset/train.tsv'\n",
    "ds3 = './liar_dataset/valid.tsv'\n",
    "ds4 = './liar_dataset/test.tsv'\n",
    "\n",
    "#Dataframe1\n",
    "df_1 = pd.read_csv(ds1)\n",
    "#df_1 = df_1.sample(50)\n",
    "\n",
    "y_1 = df_1.label\n",
    "df_1 = df_1.drop('label', axis=1)\n",
    "X_1_train, X_1_test, y_1_train, y_1_test = train_test_split(df_1['text'], y_1, test_size=0.33, random_state=53)\n",
    "\n",
    "#Dataframe2\n",
    "df_2 = pd.read_csv(ds2, sep='\\t', usecols=[1, 2], names=['label', 'text'])\n",
    "#df_2 = df_2.sample(50)\n",
    "\n",
    "df_3 = pd.read_csv(ds3, sep='\\t', usecols=[1, 2], names=['label', 'text'])\n",
    "#df_3 = df_3.sample(50)\n",
    "\n",
    "df_4 = pd.read_csv(ds4, sep='\\t', usecols=[1, 2], names=['label', 'text'])\n",
    "#df_4 = df_4.sample(50)\n",
    "\n",
    "y_2_train = df_2.label\n",
    "X_2_train = df_2.drop('label', axis=1)\n",
    "\n",
    "y_2_valid = df_3.label\n",
    "X_2_valid = df_3.drop('label', axis=1)\n",
    "\n",
    "y_2_test = df_4.label\n",
    "X_2_test = df_4.drop('label', axis=1)\n",
    "\n",
    "\n",
    "#Dataframe3\n",
    "#using the given function below \n",
    "X_3_train, X_3_test, y_3_train, y_3_test = sdt.get_dataset3_split(ds1,ds2)\n"
   ]
  },
  {
   "cell_type": "markdown",
   "metadata": {},
   "source": [
    "## Building Vectorizer Classifier"
   ]
  },
  {
   "cell_type": "code",
   "execution_count": 3,
   "metadata": {},
   "outputs": [],
   "source": [
    "#For Dataset1\n",
    "count_vectorizer_1 = CountVectorizer(stop_words='english')\n",
    "count_train_1 = count_vectorizer_1.fit_transform(X_1_train)\n",
    "count_test_1 = count_vectorizer_1.transform(X_1_test)\n",
    "\n",
    "#hash_vectorizer = HashingVectorizer(stop_words='english', non_negative=True)\n",
    "#hash_train = hash_vectorizer.fit_transform(X_1_train)\n",
    "#hash_test = hash_vectorizer.transform(X_1_test)\n",
    "\n",
    "#For Dataset2\n",
    "count_vectorizer_2 = CountVectorizer(stop_words='english')\n",
    "count_train_2 = count_vectorizer_2.fit_transform(X_2_train.text)\n",
    "count_valid_2 = count_vectorizer_2.transform(X_2_valid.text)\n",
    "count_test_2 = count_vectorizer_2.transform(X_2_test.text)\n",
    "\n",
    "#For Dataset3\n",
    "count_vectorizer_3 = CountVectorizer(stop_words='english')\n",
    "count_train_3 = count_vectorizer_3.fit_transform(X_3_train)\n",
    "count_test_3 = count_vectorizer_3.transform(X_3_test)\n"
   ]
  },
  {
   "cell_type": "markdown",
   "metadata": {},
   "source": [
    "#### Confusion Matrix Plot Function"
   ]
  },
  {
   "cell_type": "code",
   "execution_count": 4,
   "metadata": {},
   "outputs": [],
   "source": [
    "def plot_confusion_matrix(cm, classes,\n",
    "                          normalize=False,\n",
    "                          title='Confusion matrix',\n",
    "                          cmap=plt.cm.Blues):\n",
    "    \"\"\"\n",
    "    See full source and example: \n",
    "    http://scikit-learn.org/stable/auto_examples/model_selection/plot_confusion_matrix.html\n",
    "    \n",
    "    This function prints and plots the confusion matrix.\n",
    "    Normalization can be applied by setting `normalize=True`.\n",
    "    \"\"\"\n",
    "    plt.imshow(cm, interpolation='nearest', cmap=cmap)\n",
    "    plt.title(title)\n",
    "    plt.colorbar()\n",
    "    tick_marks = np.arange(len(classes))\n",
    "    plt.xticks(tick_marks, classes, rotation=45)\n",
    "    plt.yticks(tick_marks, classes)\n",
    "\n",
    "    if normalize:\n",
    "        cm = cm.astype('float') / cm.sum(axis=1)[:, np.newaxis]\n",
    "        print(\"Normalized confusion matrix\")\n",
    "    else:\n",
    "        print('Confusion matrix, without normalization')\n",
    "\n",
    "    thresh = cm.max() / 2.\n",
    "    for i, j in itertools.product(range(cm.shape[0]), range(cm.shape[1])):\n",
    "        plt.text(j, i, cm[i, j],\n",
    "                 horizontalalignment=\"center\",\n",
    "                 color=\"white\" if cm[i, j] > thresh else \"black\")\n",
    "\n",
    "    plt.tight_layout()\n",
    "    plt.ylabel('True label')\n",
    "    plt.xlabel('Predicted label')"
   ]
  },
  {
   "cell_type": "markdown",
   "metadata": {},
   "source": [
    "## Configurations"
   ]
  },
  {
   "cell_type": "markdown",
   "metadata": {},
   "source": [
    "### Configuration 1"
   ]
  },
  {
   "cell_type": "code",
   "execution_count": 5,
   "metadata": {},
   "outputs": [
    {
     "data": {
      "text/plain": [
       "MLPClassifier(activation='relu', alpha=1e-05, batch_size='auto', beta_1=0.9,\n",
       "       beta_2=0.999, early_stopping=False, epsilon=1e-08,\n",
       "       hidden_layer_sizes=(5, 1), learning_rate='constant',\n",
       "       learning_rate_init=0.001, max_iter=200, momentum=0.9,\n",
       "       nesterovs_momentum=True, power_t=0.5, random_state=1, shuffle=True,\n",
       "       solver='lbfgs', tol=0.0001, validation_fraction=0.1, verbose=False,\n",
       "       warm_start=False)"
      ]
     },
     "execution_count": 5,
     "metadata": {},
     "output_type": "execute_result"
    }
   ],
   "source": [
    "# Model a\n",
    "mlp_classifier = MLPClassifier(solver='lbfgs', alpha=1e-5,hidden_layer_sizes=(5, 1), random_state=1)\n",
    "\n",
    "mlp_classifier.fit(count_train_1, y_1_train)"
   ]
  },
  {
   "cell_type": "markdown",
   "metadata": {},
   "source": [
    "#### Configuration 1.1"
   ]
  },
  {
   "cell_type": "code",
   "execution_count": 6,
   "metadata": {},
   "outputs": [
    {
     "name": "stdout",
     "output_type": "stream",
     "text": [
      "accuracy for MLP:   0.997\n",
      "Confusion matrix, without normalization\n",
      "accuracy for MLP:   0.997\n",
      "precision for MLP:   0.995\n",
      "recall for MLP:   1.000\n",
      "f1 for MLP:   0.997\n"
     ]
    },
    {
     "data": {
      "image/png": "[encoded data removed]",
      "text/plain": [
       "<Figure size 432x288 with 2 Axes>"
      ]
     },
     "metadata": {},
     "output_type": "display_data"
    }
   ],
   "source": [
    "# Model a - train \n",
    "mlp_prediction = mlp_classifier.predict(count_train_1)\n",
    "mlp_score = metrics.accuracy_score(y_1_train, mlp_prediction)\n",
    "print(\"accuracy for MLP:   %0.3f\" % mlp_score)\n",
    "cm = metrics.confusion_matrix(y_1_train, mlp_prediction, labels=['FAKE', 'REAL'])\n",
    "plot_confusion_matrix(cm, classes=['FAKE', 'REAL'])\n",
    "\n",
    "mlp_accuracy = metrics.accuracy_score(y_1_train, mlp_prediction)\n",
    "print(\"accuracy for MLP:   %0.3f\" % mlp_accuracy)\n",
    "\n",
    "mlp_precision = metrics.precision_score(y_1_train, mlp_prediction, pos_label=\"REAL\")\n",
    "print(\"precision for MLP:   %0.3f\" % mlp_precision)\n",
    "\n",
    "mlp_recall = metrics.recall_score(y_1_train, mlp_prediction, pos_label=\"REAL\")\n",
    "print(\"recall for MLP:   %0.3f\" % mlp_recall)\n",
    "\n",
    "mlp_f1 = metrics.f1_score(y_1_train, mlp_prediction, pos_label=\"REAL\")\n",
    "print(\"f1 for MLP:   %0.3f\" % mlp_f1)"
   ]
  },
  {
   "cell_type": "markdown",
   "metadata": {},
   "source": [
    "#### Configuration 1.2"
   ]
  },
  {
   "cell_type": "code",
   "execution_count": 7,
   "metadata": {},
   "outputs": [
    {
     "name": "stdout",
     "output_type": "stream",
     "text": [
      "accuracy for MLP:   0.902\n",
      "Confusion matrix, without normalization\n",
      "accuracy for MLP:   0.902\n",
      "precision for MLP:   0.919\n",
      "recall for MLP:   0.889\n",
      "f1 for MLP:   0.904\n"
     ]
    },
    {
     "data": {
      "image/png": "[encoded data removed]",
      "text/plain": [
       "<Figure size 432x288 with 2 Axes>"
      ]
     },
     "metadata": {},
     "output_type": "display_data"
    }
   ],
   "source": [
    "# Model a - test\n",
    "mlp_prediction = mlp_classifier.predict(count_test_1)\n",
    "mlp_score = metrics.accuracy_score(y_1_test, mlp_prediction)\n",
    "print(\"accuracy for MLP:   %0.3f\" % mlp_score)\n",
    "cm = metrics.confusion_matrix(y_1_test, mlp_prediction, labels=['FAKE', 'REAL'])\n",
    "plot_confusion_matrix(cm, classes=['FAKE', 'REAL'])\n",
    "\n",
    "\n",
    "mlp_accuracy = metrics.accuracy_score(y_1_test, mlp_prediction)\n",
    "print(\"accuracy for MLP:   %0.3f\" % mlp_accuracy)\n",
    "\n",
    "mlp_precision = metrics.precision_score(y_1_test, mlp_prediction, pos_label=\"REAL\")\n",
    "print(\"precision for MLP:   %0.3f\" % mlp_precision)\n",
    "\n",
    "mlp_recall = metrics.recall_score(y_1_test, mlp_prediction, pos_label=\"REAL\")\n",
    "print(\"recall for MLP:   %0.3f\" % mlp_recall)\n",
    "\n",
    "mlp_f1 = metrics.f1_score(y_1_test, mlp_prediction, pos_label=\"REAL\")\n",
    "print(\"f1 for MLP:   %0.3f\" % mlp_f1)"
   ]
  },
  {
   "cell_type": "markdown",
   "metadata": {},
   "source": [
    "### K-Fold"
   ]
  },
  {
   "cell_type": "code",
   "execution_count": 8,
   "metadata": {},
   "outputs": [
    {
     "name": "stderr",
     "output_type": "stream",
     "text": [
      "C:\\Users\\pc\\Miniconda3\\lib\\site-packages\\sklearn\\model_selection\\_split.py:1639: FutureWarning: From version 0.21, test_size will always complement train_size unless both are specified.\n",
      "  FutureWarning)\n"
     ]
    },
    {
     "name": "stdout",
     "output_type": "stream",
     "text": [
      "('accuracies: ', array([ 0.92113565,  0.91167192,  0.91955836,  0.92902208,  0.91009464]))\n",
      "('precisions: ', array([ 0.94059406,  0.92176871,  0.93690852,  0.92628205,  0.90410959]))\n",
      "('recalls: ', array([ 0.89905363,  0.89144737,  0.9054878 ,  0.92926045,  0.90102389]))\n",
      "('f1: ', array([ 0.91935484,  0.90635452,  0.92093023,  0.92776886,  0.9025641 ]))\n"
     ]
    }
   ],
   "source": [
    "cv = ShuffleSplit(n_splits=5, train_size=0.75, random_state=4222)\n",
    "accuracy_scorer = make_scorer(accuracy_score)\n",
    "precision_scorer = make_scorer(precision_score, pos_label='REAL')\n",
    "recall_scorer = make_scorer(recall_score, pos_label='REAL')\n",
    "f1_scorer = make_scorer(f1_score, pos_label=('REAL'))\n",
    "\n",
    "count_all = count_vectorizer_1.fit_transform(df_1['text'])\n",
    "\n",
    "print(\"accuracies: \", cross_val_score(mlp_classifier, count_all, y_1, cv=cv, scoring=accuracy_scorer))\n",
    "print(\"precisions: \", cross_val_score(mlp_classifier, count_all, y_1, cv=cv, scoring=precision_scorer))\n",
    "print(\"recalls: \", cross_val_score(mlp_classifier, count_all, y_1, cv=cv, scoring=recall_scorer))\n",
    "print(\"f1: \", cross_val_score(mlp_classifier, count_all, y_1, cv=cv, scoring=f1_scorer))"
   ]
  },
  {
   "cell_type": "code",
   "execution_count": 9,
   "metadata": {},
   "outputs": [],
   "source": [
    "\n",
    "\n",
    "#print(\"Stochastic Gradient Descent is training with CountVectorizer...\")\n",
    "#clf_SGD.fit(count_train, y_train)\n",
    "#print(\"SVM is training with CountVectorizer...\")\n",
    "#clf_SVM.fit(count_train, y_train)\n",
    "#print(\"Gaussian NB is training with CountVectorizer...\")\n",
    "#clf_GNB.fit(count_train.toarray(), y_train)"
   ]
  },
  {
   "cell_type": "markdown",
   "metadata": {},
   "source": [
    "### Configuration 2"
   ]
  },
  {
   "cell_type": "code",
   "execution_count": 10,
   "metadata": {},
   "outputs": [
    {
     "data": {
      "text/plain": [
       "LinearSVC(C=1.0, class_weight=None, dual=True, fit_intercept=True,\n",
       "     intercept_scaling=1, loss='squared_hinge', max_iter=1000,\n",
       "     multi_class='ovr', penalty='l2', random_state=None, tol=0.0001,\n",
       "     verbose=0)"
      ]
     },
     "execution_count": 10,
     "metadata": {},
     "output_type": "execute_result"
    }
   ],
   "source": [
    "# Model b\n",
    "svc_classifier = LinearSVC()\n",
    "svc_classifier.fit(count_train_2, y_2_train)"
   ]
  },
  {
   "cell_type": "markdown",
   "metadata": {},
   "source": [
    "#### Configuration 2.1"
   ]
  },
  {
   "cell_type": "code",
   "execution_count": 11,
   "metadata": {},
   "outputs": [
    {
     "name": "stdout",
     "output_type": "stream",
     "text": [
      "Confusion matrix, without normalization\n",
      "accuracy for SVC:   0.979\n",
      "precision for SVC:   0.985\n",
      "recall for SVC:   0.986\n",
      "f1 for SVC:   0.985\n"
     ]
    },
    {
     "data": {
      "image/png": "[encoded data removed]",
      "text/plain": [
       "<Figure size 432x288 with 2 Axes>"
      ]
     },
     "metadata": {},
     "output_type": "display_data"
    }
   ],
   "source": [
    "# Model b - train \n",
    "y_2_train.loc[y_2_train == 'true'] = 'REAL'\n",
    "y_2_train.loc[y_2_train == 'mostly-true'] = 'REAL'\n",
    "y_2_train.loc[y_2_train == 'barely-true'] = 'REAL'\n",
    "y_2_train.loc[y_2_train == 'half-true'] = 'REAL'\n",
    "y_2_train.loc[y_2_train == 'false'] = 'FAKE'\n",
    "y_2_train.loc[y_2_train == 'pants-fire'] = 'FAKE'\n",
    "\n",
    "svc_prediction = svc_classifier.predict(count_train_2)\n",
    "for i in range(len(svc_prediction)):     \n",
    " if (svc_prediction[i] == 'false' or svc_prediction[i] == 'pants-fire'):\n",
    "        svc_prediction[i] = 'FAKE'\n",
    " elif(svc_prediction[i] == 'true' or svc_prediction[i] == 'half-true'or svc_prediction[i] == 'mostly-true' or svc_prediction[i] == 'barely-true'):\n",
    " #else:      \n",
    "    svc_prediction[i] = 'REAL'     \n",
    "\n",
    "cm = metrics.confusion_matrix(y_2_train, svc_prediction, labels=['FAKE', 'REAL'])\n",
    "plot_confusion_matrix(cm, classes=['FAKE', 'REAL'])\n",
    "\n",
    "svc_accuracy = metrics.accuracy_score(y_2_train, svc_prediction)\n",
    "print(\"accuracy for SVC:   %0.3f\" % svc_accuracy)\n",
    "\n",
    "svc_precision = metrics.precision_score(y_2_train, svc_prediction, pos_label=\"REAL\")\n",
    "print(\"precision for SVC:   %0.3f\" % svc_precision)\n",
    "\n",
    "svc_recall = metrics.recall_score(y_2_train, svc_prediction, pos_label=\"REAL\")\n",
    "print(\"recall for SVC:   %0.3f\" % svc_recall)\n",
    "\n",
    "svc_f1 = metrics.f1_score(y_2_train, svc_prediction, pos_label=\"REAL\")\n",
    "print(\"f1 for SVC:   %0.3f\" % svc_f1)"
   ]
  },
  {
   "cell_type": "markdown",
   "metadata": {},
   "source": [
    "#### Configuration 2.2"
   ]
  },
  {
   "cell_type": "code",
   "execution_count": 12,
   "metadata": {},
   "outputs": [
    {
     "name": "stdout",
     "output_type": "stream",
     "text": [
      "accuracy for SVC:   0.627\n",
      "Confusion matrix, without normalization\n",
      "accuracy for SVC:   0.627\n",
      "precision for SVC:   0.732\n",
      "recall for SVC:   0.743\n",
      "f1 for SVC:   0.737\n"
     ]
    },
    {
     "data": {
      "image/png": "[encoded data removed]",
      "text/plain": [
       "<Figure size 432x288 with 2 Axes>"
      ]
     },
     "metadata": {},
     "output_type": "display_data"
    }
   ],
   "source": [
    "# Model b - valid  \n",
    "y_2_valid.loc[y_2_valid == 'true'] = 'REAL'\n",
    "y_2_valid.loc[y_2_valid == 'mostly-true'] = 'REAL'\n",
    "y_2_valid.loc[y_2_valid == 'barely-true'] = 'REAL'\n",
    "y_2_valid.loc[y_2_valid == 'half-true'] = 'REAL'\n",
    "y_2_valid.loc[y_2_valid == 'false'] = 'FAKE'\n",
    "y_2_valid.loc[y_2_valid == 'pants-fire'] = 'FAKE'\n",
    "\n",
    "\n",
    "svc_prediction = svc_classifier.predict(count_valid_2)\n",
    "for i in range(len(svc_prediction)):     \n",
    "    if (svc_prediction[i] == 'false' or svc_prediction[i] == 'pants-fire'):\n",
    "        svc_prediction[i] = 'FAKE'\n",
    "    elif(svc_prediction[i] == 'true' or svc_prediction[i] == 'half-true'or svc_prediction[i] == 'mostly-true' or svc_prediction[i] == 'barely-true'):\n",
    "        svc_prediction[i] = 'REAL'     \n",
    "\n",
    "svc_score = metrics.accuracy_score(y_2_valid, svc_prediction)\n",
    "print(\"accuracy for SVC:   %0.3f\" % svc_score)\n",
    "cm = metrics.confusion_matrix(y_2_valid, svc_prediction, labels=['FAKE', 'REAL'])\n",
    "plot_confusion_matrix(cm, classes=['FAKE', 'REAL'])\n",
    "\n",
    "svc_accuracy = metrics.accuracy_score(y_2_valid, svc_prediction)\n",
    "print(\"accuracy for SVC:   %0.3f\" % svc_accuracy)\n",
    "\n",
    "svc_precision = metrics.precision_score(y_2_valid, svc_prediction, pos_label=\"REAL\")\n",
    "print(\"precision for SVC:   %0.3f\" % svc_precision)\n",
    "\n",
    "svc_recall = metrics.recall_score(y_2_valid, svc_prediction, pos_label=\"REAL\")\n",
    "print(\"recall for SVC:   %0.3f\" % svc_recall)\n",
    "\n",
    "svc_f1 = metrics.f1_score(y_2_valid, svc_prediction, pos_label=\"REAL\")\n",
    "print(\"f1 for SVC:   %0.3f\" % svc_f1)"
   ]
  },
  {
   "cell_type": "markdown",
   "metadata": {},
   "source": [
    "#### Configuration 2.3"
   ]
  },
  {
   "cell_type": "code",
   "execution_count": 13,
   "metadata": {},
   "outputs": [
    {
     "name": "stdout",
     "output_type": "stream",
     "text": [
      "accuracy for SVC:   0.648\n",
      "Confusion matrix, without normalization\n",
      "accuracy for SVC:   0.648\n",
      "precision for SVC:   0.765\n",
      "recall for SVC:   0.747\n",
      "f1 for SVC:   0.756\n"
     ]
    },
    {
     "data": {
      "image/png": "[encoded data removed]",
      "text/plain": [
       "<Figure size 432x288 with 2 Axes>"
      ]
     },
     "metadata": {},
     "output_type": "display_data"
    }
   ],
   "source": [
    "# Model b - test\n",
    "y_2_test.loc[y_2_test == 'true'] = 'REAL'\n",
    "y_2_test.loc[y_2_test == 'mostly-true'] = 'REAL'\n",
    "y_2_test.loc[y_2_test == 'barely-true'] = 'REAL'\n",
    "y_2_test.loc[y_2_test == 'half-true'] = 'REAL'\n",
    "y_2_test.loc[y_2_test == 'false'] = 'FAKE'\n",
    "y_2_test.loc[y_2_test == 'pants-fire'] = 'FAKE'\n",
    "\n",
    "\n",
    "svc_prediction = svc_classifier.predict(count_test_2)\n",
    "for i in range(len(svc_prediction)):     \n",
    "    if (svc_prediction[i] == 'false' or svc_prediction[i] == 'pants-fire'):\n",
    "        svc_prediction[i] = 'FAKE'\n",
    "    elif(svc_prediction[i] == 'true' or svc_prediction[i] == 'half-true'or svc_prediction[i] == 'mostly-true' or svc_prediction[i] == 'barely-true'):\n",
    "        svc_prediction[i] = 'REAL'     \n",
    "\n",
    "svc_score = metrics.accuracy_score(y_2_test, svc_prediction)\n",
    "print(\"accuracy for SVC:   %0.3f\" % svc_score)\n",
    "cm = metrics.confusion_matrix(y_2_test, svc_prediction, labels=['FAKE', 'REAL'])\n",
    "plot_confusion_matrix(cm, classes=['FAKE', 'REAL'])\n",
    "\n",
    "svc_accuracy = metrics.accuracy_score(y_2_test, svc_prediction)\n",
    "print(\"accuracy for SVC:   %0.3f\" % svc_accuracy)\n",
    "\n",
    "svc_precision = metrics.precision_score(y_2_test, svc_prediction, pos_label=\"REAL\")\n",
    "print(\"precision for SVC:   %0.3f\" % svc_precision)\n",
    "\n",
    "svc_recall = metrics.recall_score(y_2_test, svc_prediction, pos_label=\"REAL\")\n",
    "print(\"recall for SVC:   %0.3f\" % svc_recall)\n",
    "\n",
    "svc_f1 = metrics.f1_score(y_2_test, svc_prediction, pos_label=\"REAL\")\n",
    "print(\"f1 for SVC:   %0.3f\" % svc_f1)"
   ]
  },
  {
   "cell_type": "markdown",
   "metadata": {},
   "source": [
    "### Configuration 3"
   ]
  },
  {
   "cell_type": "markdown",
   "metadata": {},
   "source": [
    "#### Configuration 3.1"
   ]
  },
  {
   "cell_type": "code",
   "execution_count": 14,
   "metadata": {},
   "outputs": [
    {
     "name": "stdout",
     "output_type": "stream",
     "text": [
      "Confusion matrix, without normalization\n",
      "accuracy for MLP:   0.646\n",
      "precision for MLP:   0.761\n",
      "recall for MLP:   0.752\n",
      "f1 for MLP:   0.757\n"
     ]
    },
    {
     "data": {
      "image/png": "[encoded data removed]",
      "text/plain": [
       "<Figure size 432x288 with 2 Axes>"
      ]
     },
     "metadata": {},
     "output_type": "display_data"
    }
   ],
   "source": [
    "# model a - test - dataset2 \n",
    "# Model a\n",
    "\n",
    "mlp_classifier2 = MLPClassifier(solver='lbfgs', alpha=1e-5, hidden_layer_sizes=(5, 1), random_state=1)\n",
    "mlp_classifier2.fit(count_train_2, y_2_train)\n",
    "mlp_prediction = mlp_classifier2.predict(count_test_2)\n",
    "\n",
    "y_2_test.loc[y_2_test == 'true'] = 'REAL'\n",
    "y_2_test.loc[y_2_test == 'mostly-true'] = 'REAL'\n",
    "y_2_test.loc[y_2_test == 'barely-true'] = 'REAL'\n",
    "y_2_test.loc[y_2_test == 'half-true'] = 'REAL'\n",
    "y_2_test.loc[y_2_test == 'false'] = 'FAKE'\n",
    "y_2_test.loc[y_2_test == 'pants-fire'] = 'FAKE'\n",
    "\n",
    "for i in range(len(mlp_prediction)):     \n",
    "    if (mlp_prediction[i] == 'false' or mlp_prediction[i] == 'pants-fire'):\n",
    "        mlp_prediction[i] = 'FAKE'\n",
    "    elif(mlp_prediction[i] == 'true' or mlp_prediction[i] == 'half-true'or mlp_prediction[i] == 'mostly-true' or mlp_prediction[i] == 'barely-true'):\n",
    "        mlp_prediction[i] = 'REAL'     \n",
    "\n",
    "cm = metrics.confusion_matrix(y_2_test, svc_prediction, labels=['FAKE', 'REAL'])\n",
    "plot_confusion_matrix(cm, classes=['FAKE', 'REAL'])\n",
    "\n",
    "mlp_accuracy = metrics.accuracy_score(y_2_test, mlp_prediction)\n",
    "print(\"accuracy for MLP:   %0.3f\" % mlp_accuracy)\n",
    "\n",
    "mlp_precision = metrics.precision_score(y_2_test, mlp_prediction, pos_label=\"REAL\")\n",
    "print(\"precision for MLP:   %0.3f\" % mlp_precision)\n",
    "\n",
    "mlp_recall = metrics.recall_score(y_2_test, mlp_prediction, pos_label=\"REAL\")\n",
    "print(\"recall for MLP:   %0.3f\" % mlp_recall)\n",
    "\n",
    "mlp_f1 = metrics.f1_score(y_2_test, mlp_prediction, pos_label=\"REAL\")\n",
    "print(\"f1 for MLP:   %0.3f\" % mlp_f1)"
   ]
  },
  {
   "cell_type": "markdown",
   "metadata": {},
   "source": [
    "#### Configuration 3.2"
   ]
  },
  {
   "cell_type": "code",
   "execution_count": 15,
   "metadata": {},
   "outputs": [
    {
     "name": "stdout",
     "output_type": "stream",
     "text": [
      "accuracy for SVC:   0.902\n",
      "Confusion matrix, without normalization\n",
      "accuracy for SVC:   0.902\n",
      "precision for SVC:   0.919\n",
      "recall for SVC:   0.889\n",
      "f1 for SVC:   0.904\n"
     ]
    },
    {
     "data": {
      "image/png": "[encoded data removed]",
      "text/plain": [
       "<Figure size 432x288 with 2 Axes>"
      ]
     },
     "metadata": {},
     "output_type": "display_data"
    }
   ],
   "source": [
    "#model b - test - dataset1 \n",
    "\n",
    "svc_classifier = LinearSVC()\n",
    "svc_classifier.fit(count_train_1, y_1_train)\n",
    "\n",
    "svc_prediction = mlp_classifier.predict(count_test_1)\n",
    "\n",
    "print(\"accuracy for SVC:   %0.3f\" % mlp_score)\n",
    "cm = metrics.confusion_matrix(y_1_test, svc_prediction, labels=['FAKE', 'REAL'])\n",
    "plot_confusion_matrix(cm, classes=['FAKE', 'REAL'])\n",
    "\n",
    "svc_accuracy = metrics.accuracy_score(y_1_test, svc_prediction)\n",
    "print(\"accuracy for SVC:   %0.3f\" % svc_accuracy)\n",
    "\n",
    "svc_precision = metrics.precision_score(y_1_test, svc_prediction, pos_label=\"REAL\")\n",
    "print(\"precision for SVC:   %0.3f\" % svc_precision)\n",
    "\n",
    "svc_recall = metrics.recall_score(y_1_test, svc_prediction, pos_label=\"REAL\")\n",
    "print(\"recall for SVC:   %0.3f\" % svc_recall)\n",
    "\n",
    "svc_f1 = metrics.f1_score(y_1_test, svc_prediction, pos_label=\"REAL\")\n",
    "print(\"f1 for SVC:   %0.3f\" % svc_f1)\n",
    "\n"
   ]
  },
  {
   "cell_type": "markdown",
   "metadata": {},
   "source": [
    "### Configuration 4"
   ]
  },
  {
   "cell_type": "code",
   "execution_count": 16,
   "metadata": {},
   "outputs": [
    {
     "data": {
      "text/plain": [
       "BernoulliNB(alpha=1.0, binarize=0.0, class_prior=None, fit_prior=True)"
      ]
     },
     "execution_count": 16,
     "metadata": {},
     "output_type": "execute_result"
    }
   ],
   "source": [
    "# Model c\n",
    "nb_classifier = BernoulliNB()\n",
    "nb_classifier.fit(count_train_3, y_3_train)"
   ]
  },
  {
   "cell_type": "markdown",
   "metadata": {},
   "source": [
    "#### Configuration 4.1"
   ]
  },
  {
   "cell_type": "code",
   "execution_count": 17,
   "metadata": {},
   "outputs": [
    {
     "name": "stdout",
     "output_type": "stream",
     "text": [
      "accuracy for NB:   0.749\n",
      "Confusion matrix, without normalization\n",
      "accuracy for NB:   0.749\n",
      "precision for NB:   0.867\n",
      "recall for NB:   0.563\n",
      "f1 for NB:   0.683\n"
     ]
    },
    {
     "data": {
      "image/png": "[encoded data removed]",
      "text/plain": [
       "<Figure size 432x288 with 2 Axes>"
      ]
     },
     "metadata": {},
     "output_type": "display_data"
    }
   ],
   "source": [
    "nb_prediction = nb_classifier.predict(count_train_3)\n",
    "\n",
    "y_3_train.loc[y_3_train == 'true'] = 'REAL'\n",
    "y_3_train.loc[y_3_train == 'mostly-true'] = 'REAL'\n",
    "y_3_train.loc[y_3_train == 'barely-true'] = 'REAL'\n",
    "y_3_train.loc[y_3_train == 'half-true'] = 'REAL'\n",
    "y_3_train.loc[y_3_train == 'false'] = 'FAKE'\n",
    "y_3_train.loc[y_3_train == 'pants-fire'] = 'FAKE'\n",
    "\n",
    "\n",
    "for i in range(len(nb_prediction)):     \n",
    " if (nb_prediction[i] == 'false' or nb_prediction[i] == 'pants-fire'):\n",
    "        nb_prediction[i] = 'FAKE'\n",
    " elif(nb_prediction[i] == 'true' or nb_prediction[i] == 'half-true'or nb_prediction[i] == 'mostly-true' or nb_prediction[i] == 'barely-true'):\n",
    " #else:      \n",
    "    nb_prediction[i] = 'REAL'     \n",
    "\n",
    "\n",
    "nb_score = metrics.accuracy_score(y_3_train, nb_prediction)\n",
    "print(\"accuracy for NB:   %0.3f\" % nb_score)\n",
    "\n",
    "\n",
    "cm = metrics.confusion_matrix(y_3_train, nb_prediction, labels=['FAKE', 'REAL'])\n",
    "plot_confusion_matrix(cm, classes=['FAKE', 'REAL'])\n",
    "\n",
    "nb_accuracy = metrics.accuracy_score(y_3_train, nb_prediction)\n",
    "print(\"accuracy for NB:   %0.3f\" % nb_accuracy)\n",
    "\n",
    "nb_precision = metrics.precision_score(y_3_train, nb_prediction, pos_label=\"REAL\")\n",
    "print(\"precision for NB:   %0.3f\" % nb_precision)\n",
    "\n",
    "nb_recall = metrics.recall_score(y_3_train, nb_prediction, pos_label=\"REAL\")\n",
    "print(\"recall for NB:   %0.3f\" % nb_recall)\n",
    "\n",
    "nb_f1 = metrics.f1_score(y_3_train, nb_prediction, pos_label=\"REAL\")\n",
    "print(\"f1 for NB:   %0.3f\" % nb_f1)"
   ]
  },
  {
   "cell_type": "markdown",
   "metadata": {},
   "source": [
    "#### Configuration 4.2"
   ]
  },
  {
   "cell_type": "code",
   "execution_count": 18,
   "metadata": {},
   "outputs": [
    {
     "name": "stdout",
     "output_type": "stream",
     "text": [
      "accuracy for NB:   0.719\n",
      "Confusion matrix, without normalization\n",
      "accuracy for NB:   0.719\n",
      "precision for NB:   0.809\n",
      "recall for NB:   0.563\n",
      "f1 for NB:   0.664\n"
     ]
    },
    {
     "data": {
      "image/png": "[encoded data removed]",
      "text/plain": [
       "<Figure size 432x288 with 2 Axes>"
      ]
     },
     "metadata": {},
     "output_type": "display_data"
    }
   ],
   "source": [
    "nb_prediction = nb_classifier.predict(count_test_3)\n",
    "\n",
    "y_3_test.loc[y_3_test == 'true'] = 'REAL'\n",
    "y_3_test.loc[y_3_test == 'mostly-true'] = 'REAL'\n",
    "y_3_test.loc[y_3_test == 'barely-true'] = 'REAL'\n",
    "y_3_test.loc[y_3_test == 'half-true'] = 'REAL'\n",
    "y_3_test.loc[y_3_test == 'false'] = 'FAKE'\n",
    "y_3_test.loc[y_3_test == 'pants-fire'] = 'FAKE'\n",
    "\n",
    "\n",
    "for i in range(len(nb_prediction)):     \n",
    " if (nb_prediction[i] == 'false' or nb_prediction[i] == 'pants-fire'):\n",
    "        nb_prediction[i] = 'FAKE'\n",
    " elif(nb_prediction[i] == 'true' or nb_prediction[i] == 'half-true'or nb_prediction[i] == 'mostly-true' or nb_prediction[i] == 'barely-true'):\n",
    " #else:      \n",
    "    nb_prediction[i] = 'REAL'     \n",
    "\n",
    "\n",
    "nb_score = metrics.accuracy_score(y_3_test, nb_prediction)\n",
    "print(\"accuracy for NB:   %0.3f\" % nb_score)\n",
    "\n",
    "\n",
    "cm = metrics.confusion_matrix(y_3_test, nb_prediction, labels=['FAKE', 'REAL'])\n",
    "plot_confusion_matrix(cm, classes=['FAKE', 'REAL'])\n",
    "\n",
    "nb_accuracy = metrics.accuracy_score(y_3_test, nb_prediction)\n",
    "print(\"accuracy for NB:   %0.3f\" % nb_accuracy)\n",
    "\n",
    "nb_precision = metrics.precision_score(y_3_test, nb_prediction, pos_label=\"REAL\")\n",
    "print(\"precision for NB:   %0.3f\" % nb_precision)\n",
    "\n",
    "nb_recall = metrics.recall_score(y_3_test, nb_prediction, pos_label=\"REAL\")\n",
    "print(\"recall for NB:   %0.3f\" % nb_recall)\n",
    "\n",
    "nb_f1 = metrics.f1_score(y_3_test, nb_prediction, pos_label=\"REAL\")\n",
    "print(\"f1 for NB:   %0.3f\" % nb_f1)"
   ]
  },
  {
   "cell_type": "markdown",
   "metadata": {},
   "source": [
    "### K-Fold"
   ]
  },
  {
   "cell_type": "code",
   "execution_count": 19,
   "metadata": {},
   "outputs": [
    {
     "name": "stdout",
     "output_type": "stream",
     "text": [
      "[ 'If we had been on Obamacare and a bureaucrat was trying to tell me when I could get that CAT scan, that would have delayed my treatment.'\n",
      " \"Clinton clearing primary field for potential 2016 run could leave her vulnerable. Hillary Clinton appears to have scared away much of the competition should she seek the Democratic nomination for president in 2016. But her early and practically all-encompassing effort also presents the potential liability that she will sail through the primary season largely untested for the bare-knuckled general election.\\n\\nAnd it could deny Democrats the chance to define themselves to Americans, strategists say.\\n\\n\\xe2\\x80\\x9cIt's not good for a party because the Democratic Party needs a real debate about what it's for, who it's for, what it's about and where we'll take the country,\\xe2\\x80\\x9d says Dennis Kucinich, a former Democratic congressman, presidential candidate and a Fox News contributor.\\n\\nThe 67-year-old Clinton plans to make an official announcement in early 2015, leaving some doubt about whether she will indeed run. But her frontrunner status is unquestionable.\\n\\nShe has roughly 62 percent of the likely vote and leads all potential Democratic challengers by a numbing 49.5 percentage points.\\n\\nAnd those numbers combined with an ambitious public-speaking schedule and the fundraising and cheerleading group Ready for Hillary are making it difficult for potential primary challengers to raise money.\\n\\nIn addition, Clinton\\xe2\\x80\\x99s most formidable, likely primary challenger now, Massachusetts Sen. Elizabeth Warren, insists she\\xe2\\x80\\x99s not running, leaving the Democratic field so wide open that 73-year-old Bernie Sanders, an independent and junior senator from Vermont, is now fourth behind Clinton, Warren and Vice President Biden, according an averaging of polls by RealClearPolitics.com\\n\\n\\xe2\\x80\\x9cI think you miss the chance to vet ideals,\\xe2\\x80\\x9d says Richard Fowler, a Democrat and host of the progressive-leaning \\xe2\\x80\\x9cRichard Fowler Talk Show.\\xe2\\x80\\x9d \\xe2\\x80\\x9cI think that's what elections are about.\\xc2\\xa0Elections are about ideals and how ideals \\xe2\\x80\\xa6 would then turn into policy that will then turn into how we govern.\\xe2\\x80\\x9d\\n\\nClinton, a former first lady, secretary of State and New York senator, hasn\\xe2\\x80\\x99t been in a campaign-style debate since 2008, when she lost the Democratic presidential primary to President Obama, then a freshman Illinois senator.\\n\\nStill, a relatively easy 2016 primary, if Clinton indeed runs, would likely save her from the pummeling she took last time.\\n\\n\\xe2\\x80\\x9cYou\\xe2\\x80\\x99re likeable enough, Hillary,\\xe2\\x80\\x9d Obama said on stage to Clinton, who was the early Democratic frontrunner in that race, too.\\n\\nAmong the tough questions she will likely face, and needs to answer well, include what she knew about security at the U.S. outpost in Benghazi, Libya, in which four Americans were killed in a 2012 terror attack.\\n\\nClinton, who is worthy millions of dollars, also will likely have to make a strong case that she will champion the country\\xe2\\x80\\x99s poor and working class, after saying on her 2014 book tour: \\xe2\\x80\\x9cWe came out of the White House not only dead broke, but in debt.\\xe2\\x80\\x9d\\n\\n\\xe2\\x80\\x9cHillary Clinton, I think, has proven that when you're off the trail for a while, you come back rusty,\\xe2\\x80\\x9d said Larry Sabato, director of the University of Virginia\\xe2\\x80\\x99s Center for Politics. \\xe2\\x80\\x9cShe certainly came back rusty on that book tour.\\xe2\\x80\\x9d\"\n",
      " \"Doctors Restore Ken Burns\\xe2\\x80\\x99 Full-Color Vision After Removing Massive Tumor From Filmmaker\\xe2\\x80\\x99s Visual Cortex - The Onion - America's Finest News Source. Doctors Restore Ken Burns\\xe2\\x80\\x99 Full-Color Vision After Removing Massive Tumor From Filmmaker\\xe2\\x80\\x99s Visual Cortex Close Vol 52 Issue 43 \\xc2\\xb7 News \\xc2\\xb7 Celebrities \\xc2\\xb7 Entertainment \\xc2\\xb7 Healthcare \\nCLEVELAND\\xe2\\x80\\x94Speaking to reporters following the successful eight-hour procedure Tuesday, neurosurgeons at the Cleveland Clinic confirmed they had removed a golf ball\\xe2\\x80\\x93sized tumor from the visual cortex of filmmaker Ken Burns, restoring the documentarian\\xe2\\x80\\x99s ability to see in full color. \\xe2\\x80\\x9cWe\\xe2\\x80\\x99re happy to report that the surgery went smoothly, and beginning today, Mr. Burns will no longer be limited to perceiving the world in shades of black, white, and sepia, and will instead be able to experience the entire spectrum of hues that most of us take for granted,\\xe2\\x80\\x9d said Dr. Amrita Singh, noting that the 63-year-old director and producer of The Civil War , Prohibition , and Jazz had awakened from anesthesia and was reported to be marveling at the vividness of his surroundings, human faces, and photographs. \\xe2\\x80\\x9cIt appears that the removal of this tumor also reduced intense pressure that had built up inside Mr. Burns\\xe2\\x80\\x99 visual processing center; as a result, his eyesight has sharpened considerably, and he\\xe2\\x80\\x99ll notice that he won\\xe2\\x80\\x99t need to lean in close anymore to make out the details of images. It\\xe2\\x80\\x99s going to seem like a whole new world to him.\\xe2\\x80\\x9d Dr. Singh added that an additional inner-ear surgery would be required to correct the balance issue that causes Burns to slowly drift from left to right. Share This Story: WATCH VIDEO FROM THE ONION Sign up For The Onion's Newsletter \\nGive your spam filter something to do. Daily Headlines \"\n",
      " ...,\n",
      " 'Clinton leads 2016 poll in Iowa, but Rand Paul is close (+video). Clinton leads 2016 poll: Hillary Clinton tops the latest poll of potential 2016 presidential candidates in Iowa. Clinton comes out ahead of Sen. Marco Rubio and Sen. Rand Paul.\\n\\nFormer Secretary of State Hillary Rodham Clinton laughs at a speech during a February ceremony honoring her at the Pentagon in Washington. Clinton leads the latest poll in Iowa.\\n\\nHusband Bill says, \"Relax.\" Let his wife enjoy a bit of a private life for the first time in two decades.\\n\\nBut as far as the pollsters are concerned, the 2016 race is underway. And Kentucky Sen. Rand Paul is certainly acting like he\\'s in the race.\\n\\nThe latest poll out of Iowa has former Secretary of State Hillary Clinton beating Florida Sen. Marco Rubio handily (48 vs. 37 percent), but could face a tougher race against Senator Paul (46 vs. 42 percent), according to a new poll by Quinnipiac University .\\n\\nThe poll says that Iowa voters would give the race to either Senator Rubio or Senator Paul, if the Democratic Party candidate was Vice President Joe Biden.\\n\\n\"The major difference between former Secretary of State Hillary Clinton and Vice President Joseph Biden is that she runs much better among independent voters, although Sen. Rand Paul runs better among that key group than either Democrat,\" said Peter A. Brown, assistant director of the Quinnipiac University Polling Institute.\\n\\n\"In general Sen. Paul appears to be the better GOP candidate at this point in Iowa. Part of the reason may be the publicity from his recent high-profile visit to the state, but more likely is that he begins with a solid base of support - the folks who voted for his father in the 2008 and 2012 caucuses.\"\\n\\nAs The Christian Science Monitor reported , Rand Paul was in Iowa two weeks ago, and was popular among Republicans.\\n\\nIn a recent survey of [only] the registered Republican voters in Iowa, Paul won 39 percent of the vote with Marco Rubio next in line at just 20 percent. (Among Democrats , Hillary Clinton won 43 percent with Vice President Joe Biden winning 27 percent.) Earlier this year, Paul won a straw poll vote\\xc2\\xa0at the annual Conservative Political Action Conference (CPAC) . At a Monitor-sponsored press gathering last month , Paul said he would not decide whether to run before 2014. Meanwhile, he\\xe2\\x80\\x99s just unique enough among the GOP field \\xe2\\x80\\x93 and just different enough from his father \\xe2\\x80\\x93 to keep drawing attention.\\n\\nOn Monday night, Paul was in another key primary state. He addressed a sold-out New Hampshire Republican Party dinner of some 500 attendees. At that dinner speech, as he did in Iowa, he criticized Hillary Clinton\\'s handling of the terrorist attack on the US consulate in Benghazi, Libya. \"If I had been president, I would have relieved [Hillary Clinton] from office. Without question that is a dereliction of duty,\" said Paul in Concord, N.H., according to Realclearpolitics.com.\\n\\nAnother Quinnipiac poll of voters in New Jersey , taken in March, also showed Clinton vanquishing three Republican contenders. Clinton beat New Jersey Gov. Chris Christie (45 to 37 percent), in that poll. Voters surveyed also showed her beating Rubio and US Rep. Paul Ryan of Wisconsin by even wider margins. The poll did not ask about Senator Paul.\\n\\n\"Former Secretary of State Hillary Clinton would start a 2016 presidential campaign with enormous advantages,\" Mr. Brown of the Quinnipiac said in a statement after the New Jersey poll.\\xc2\\xa0 \"She obviously is by far the best known and her more than 20 years in the public spotlight allows her to create a very favorable impression on the American people. But it is worth noting that she had very good poll numbers in 2006 looking toward the 2008 election, before she faced a relative unknown in Barack Obama.\"\\n\\nWhen asked about his wife\\'s 2016 plans, earlier this month Bill Clinton said , \"She\\xe2\\x80\\x99s taking a role in the [Clinton] foundation, she\\xe2\\x80\\x99s writing books, she\\xe2\\x80\\x99s having a little fun being a private citizen for the first time in 20 years.\\xe2\\x80\\x9d\\n\\nAnd then what?'\n",
      " 'NYPD Source: Weiner Laptop Has Enough Evidence \\xe2\\x80\\x9cto Put Hillary \\xe2\\x80\\xa6 Away for Life\\xe2\\x80\\x9d. Leave a reply \\nSelwyn Duke \\xe2\\x80\\x93 Sex crimes with children, child exploitation, money laundering, perjury, and pay to play, reads the partial list of crimes that, say New York City Police Department sources, could \\xe2\\x80\\x9cput Hillary and her crew away for life.\\xe2\\x80\\x9dShocking evidence of such criminality has been found on ex-congressman Anthony Weiner\\xe2\\x80\\x99s laptop computer, say the sources, which was seized from him by NYC officials investigating his allegedly having sent sexually explicit texts to a 15-year-old girl. Moreover, Hillary Clinton\\xe2\\x80\\x99s \\xe2\\x80\\x9ccrew\\xe2\\x80\\x9d supposedly includes not just close aide and confidante Huma Abedin and her husband, Weiner, but other aides and insiders \\xe2\\x80\\x94 and even members of Congress. Reports True Pundit : \\nNYPD sources said these new emails include evidence linking Clinton herself and associates to: \\xe2\\x80\\xa2 Money laundering \\xe2\\x80\\xa2 Sex crimes with minors (children) \\xe2\\x80\\xa2 Perjury \\xe2\\x80\\xa2 Pay to play through Clinton Foundation \\xe2\\x80\\xa2 Obstruction of justice \\xe2\\x80\\xa2 Other felony crimes \\nNYPD detectives and a [sic] NYPD Chief, the department\\xe2\\x80\\x99s highest rank under Commissioner, said openly that if the FBI and Justice Department fail to garner timely indictments against Clinton and co- conspirators, NYPD will go public with the damaging emails now in the hands of FBI Director James Comey and many FBI field offices. \\n\\xe2\\x80\\x9cWhat\\xe2\\x80\\x99s in the emails is staggering and as a father, it turned my stomach,\\xe2\\x80\\x9d the NYPD Chief said. \\xe2\\x80\\x9cThere is not going to be any Houdini-like escape from what we found. We have copies of everything. We will ship them to Wikileaks or I will personally hold my own press conference if it comes to that.\\xe2\\x80\\x9d \\nThese revelations would explain why Director Comey reopened the investigation into Clinton\\xe2\\x80\\x99s mishandling of classified information, a move that shook the political world and caused Comey to come under fire. As the NYPD chief put it, the new e-mails contents truly are \\xe2\\x80\\x9calarming.\\xe2\\x80\\x9d \\nTrue Pundit also reports FBI sources as stating that Abedin and Weiner are both trying to cut immunity deals with federal officials and that, if they didn\\xe2\\x80\\x99t cooperate, they\\xe2\\x80\\x99d face long prison sentences. Abedin\\xe2\\x80\\x99s turning state\\xe2\\x80\\x99s evidence would no doubt be devastating for Clinton, as the two women have for years been joined at the hip. Abedin has at times been like Clinton\\xe2\\x80\\x99s shadow, has been called her \\xe2\\x80\\x9cbody woman,\\xe2\\x80\\x9d and has even been rumored to be Clinton\\xe2\\x80\\x99s lesbian lover. So Abedin likely knows where, as is said, the bodies are buried. \\nOf particular note, the new e-mails allegedly contain information revealing that Hillary, Bill Clinton, Weiner, and numerous congressmen took trips to convicted billionaire pedophile Jeffrey Epstein\\xe2\\x80\\x99s private island, where he is said to pimp out underage minors of both sexes to prominent people. The trips were taken aboard Epstein\\xe2\\x80\\x99s Boeing 747, dubbed the \\xe2\\x80\\x9cLolita Express\\xe2\\x80\\x9d; the pedophile\\xe2\\x80\\x99s island, in the US Virgin Islands, has been called \\xe2\\x80\\x9c Sex Slave Island .\\xe2\\x80\\x9d \\nThese revelations would also explain why Clinton used powerful software called BleachBit to scrub damning information from her private server. According to BleachBit\\xe2\\x80\\x99s website, its program gives criminals and others the ability to \\xe2\\x80\\x9cshred files to hide their contents and prevent data recovery.\\xe2\\x80\\x9d \\nYet it can\\xe2\\x80\\x99t scrub bumbling perverts from your personal life, and Weiner\\xe2\\x80\\x99s laptop also contains incriminating e-mails revealing the mishandling of classified information by Abedin and Clinton, say the sources. Both women \\xe2\\x80\\x9csent and received thousands of classified and top secret documents to personal email accounts,\\xe2\\x80\\x9d and this information could have been \\xe2\\x80\\x9caccessed, printed, discussed, leaked, or distributed by untold numbers \\xe2\\x80\\xa6 of unknown individuals,\\xe2\\x80\\x9d writes True Pundit . \\nConsequently, FBI sources say the new Clinton investigation has been broadened and now includes matters such as how, informs True Pundit : \\xe2\\x80\\xa2 Abedin forwarded classified and top secret State Department emails to Weiner\\xe2\\x80\\x99s email \\xe2\\x80\\xa2 Abedin stored emails, containing government secrets, in a special folder shared with Weiner warehousing over 500,000 archived State Department emails. \\xe2\\x80\\xa2 Weiner had access to these classified and top secret documents without proper security clearance to view the records \\xe2\\x80\\xa2 Abedin also used a personal yahoo address and her Clintonemail.com address to send/receive/store classified and top secret documents \\xe2\\x80\\xa2 [a] private consultant managed Weiner\\xe2\\x80\\x99s site for the last six years, including three years when Clinton was secretary of state, and therefore, had full access to all emails as the domain\\xe2\\x80\\x99s listed registrant and administrator via Whois email contacts. \\nThis story just adds more intrigue to a presidential campaign that is truly unprecedented, with a torrent of WikiLeaks and Project Veritas revelations and now Clinton\\xe2\\x80\\x99s Weiner woes. From vote fraud to inciting violence to child sex abuse to pay-for-play to perjury, it\\xe2\\x80\\x99s becoming clear to many that the Democratic Party \\xe2\\x80\\x94 and the Clintons in particular \\xe2\\x80\\x94 are essentially a criminal syndicate. \\nAs former assistant FBI director James Kallstrom said in a Sunday interview, \\xe2\\x80\\x9cThe Clintons, that\\xe2\\x80\\x99s a crime family, basically. It\\xe2\\x80\\x99s like organized crime. I mean the Clinton Foundation is a cesspool\\xe2\\x80\\xa6. God forbid we put someone like that [Clinton] in the White House.\\xe2\\x80\\x9d And now we know better why, as I wrote Sunday, this \\xe2\\x80\\x9cappears standard FBI sentiment. I personally know of an ex-agent \\xe2\\x80\\x94 someone with knowledge of Clinton \\xe2\\x80\\x98crime family\\xe2\\x80\\x99 dealings \\xe2\\x80\\x94 who I\\xe2\\x80\\x99m told is having trouble sleeping at night due to the prospect of a Clinton presidency.\\xe2\\x80\\x9d \\nAll these revelations raise important questions: How could Hillary Clinton and her cohorts have bumbled so badly that they appear a cross between Inspector Clouseau and Boss Tweed ? \\nAnd if Clinton is so careless with her own personal survival, how can she be trusted with national survival? \\nPart of the explanation is general incompetence, yet there\\xe2\\x80\\x99s another factor: Both Clintons have engaged in continual criminality over the decades \\xe2\\x80\\x94 and have been allowed to skate at every turn. This lack of accountability has led to complacency and ever-increasing brazenness, just as with a child never punished for wrongdoing. \\nSo, finally, perhaps, Clinton corruption has reached critical mass. And with Donald Trump ahead 10 points (according to one respected poll) among the 88 percent of voters who have definitely made up their minds, maybe, come late Tuesday evening, some tossing and turning FBI agents will finally be able to enjoy a good night\\xe2\\x80\\x99s rest. SF Source The New American Nov. 2016 Share this:'\n",
      " 'I watched Megyn Kelly for six weeks: How I learned to uncode the Fox News propaganda machine. As numerous surveys have revealed, Fox News may be the \\xe2\\x80\\x9cmost-watched\\xe2\\x80\\x9d cable news channel, but its viewers are older than those of its competitors (though, to be fair, the competition\\xe2\\x80\\x99s viewers are pretty old, too), and its most devoted ones are consistently conservative.\\xc2\\xa0 Rutenberg\\xe2\\x80\\x99s piece raised the possibility that Kelly might be able to attract younger and more ideologically diverse viewers, especially \\xe2\\x80\\x9cindependents\\xe2\\x80\\x9d who watch Fox from time to time but are not regulars.\\n\\nThe magazine\\xe2\\x80\\x99s cover went so far as to suggest that Kelly\\xe2\\x80\\x99s style and departures from conservative orthodoxy might even make her appealing to \\xe2\\x80\\xa6 readers of the New York Times! (That appeal, such as it is, seems likely to have been undercut in recent weeks by Kelly\\xe2\\x80\\x99s bafflingly out of touch interview of the Duggars and her resort to the tired, racially coded \\xe2\\x80\\x9cnot exactly a saint\\xe2\\x80\\x9d to describe the teenage girl knocked down by a cop in McKinney, Texas.)\\n\\nThese departures from orthodoxy have become legendary among close followers of the media and have earned her praise from a variety of figures outside the conservative movement. \\xc2\\xa0Rutenberg calls them \\xe2\\x80\\x9cMegyn moments\\xe2\\x80\\x9d: occasions when she asks a conservative guest, nearly always an older white man, a sharp question that doesn\\xe2\\x80\\x99t necessarily fit within the conservative worldview.\\n\\nRutenberg\\xe2\\x80\\x99s argument struck me as dubious. While conducting research for my book on the history of TV news, I watched lots and lots of old segments and programs, including many from Fox News. \\xc2\\xa0I\\xe2\\x80\\x99m pretty familiar with Bill O\\xe2\\x80\\x99Reilly, Sean Hannity, Shepard Smith and the rest of the Fox crew, including its regular pundits.\\xc2\\xa0But I hadn\\xe2\\x80\\x99t seen that much of Kelly. \\xc2\\xa0Could Ailes really be moving away from his successful formula of pandering to Fox\\xe2\\x80\\x99s conservative base?\\xc2\\xa0 By watching Kelly\\xe2\\x80\\x99s program, could I learn about important subjects unreported by the Times and the other \\xe2\\x80\\x9cmainstream media\\xe2\\x80\\x9d that I follow?\\xc2\\xa0 Or perhaps acquire new and useful perspectives on things that I thought I understood?\\n\\nTo find out, I watched \\xe2\\x80\\x9cThe Kelly File\\xe2\\x80\\x9d nearly day every from early March through the first week of May.\\xc2\\xa0 I saw her report on everything from the negotiations with Iran over its nuclear weapons program to the controversy over Hillary Clinton\\xe2\\x80\\x99s use of a private email account, and watched her interviews with Republican presidential aspirants and her coverage of the riots in Baltimore in the wake of Freddie Gray\\xe2\\x80\\x99s death. But, in the end, I wasn\\xe2\\x80\\x99t impressed \\xe2\\x80\\x94 and not because Kelly is a conservative and her program trumpets conservative points of view.\\xc2\\xa0 The problem is that she is a conventional Fox News television anchor, and Fox News isn\\xe2\\x80\\x99t about nuance or complexity, the things I look for in news reporting and analysis.\\n\\nIt\\xe2\\x80\\x99s true that she is less doctrinaire than Hannity.\\xc2\\xa0 And she can occasionally ask good questions \\xe2\\x80\\x94 though, mostly, it\\xe2\\x80\\x99s her prosecutorial style, rather than the question itself, that it is noteworthy.\\xc2\\xa0 Watching her regularly, however, made me realize that she\\xe2\\x80\\x99s merely a slightly different version of O\\xe2\\x80\\x99Reilly \\xe2\\x80\\x94 she\\xe2\\x80\\x99s a smart, engaging television personality whose \\xe2\\x80\\x9creports\\xe2\\x80\\x9d reaffirm the conservative ideology of most of her viewers.\\n\\nKelly\\xe2\\x80\\x99s biggest attribute is her personality.\\xc2\\xa0 She\\xe2\\x80\\x99s intelligent, down-to-earth and can poke fun at herself as well as at her guests.\\xc2\\xa0 And, no doubt much to Ailes\\xe2\\x80\\x99s delight, she has developed a very effective broadcasting style.\\xc2\\xa0 Her husky voice, quick wit and experience as a lawyer give her an admirable air of authority.\\xc2\\xa0 In the peculiar style favored by FNC producers, she evokes a still glamorous ex-cheerleader.\\xc2\\xa0 She is also a superb performer, never losing her cool or command of her program.\\xc2\\xa0 She\\xe2\\x80\\x99s well-suited for television journalism, and in another era, would likely have been a big star for the networks.\\n\\nSadly, however, she works for Fox News, a purveyor of a kind of television journalism that has become the norm for cable news, even among channels that eschew its conservatism.\\xc2\\xa0 That means covering only a few stories, usually the ones most likely to appeal to their target audience, and following them very closely over the course of the broadcast day, sometimes through live reports from the field, but mostly by allowing assorted guests to opine and pontificate about them.\\xc2\\xa0 At Fox News and MSNBC, anchors routinely join in the pontificating, and these breaks with old-school journalistic practice are part of their appeal.\\xc2\\xa0 It makes them seem \\xe2\\x80\\x9creal,\\xe2\\x80\\x9d and as Ailes recognized long ago, most viewers of TV news prefer this to the detachment displayed by journalists at the major networks and CNN.\\xc2\\xa0 And Fox at least has the ratings to prove it. Kelly is most certainly \\xe2\\x80\\x9creal,\\xe2\\x80\\x9d and she opines and pontificates no less than O\\xe2\\x80\\x99Reilly and Hannity.\\xc2\\xa0 This is why she is popular with Fox News viewers, who expect this from their prime-time anchors in particular.\\xc2\\xa0 But I doubt it will appeal to very many real independents (as opposed to people with largely conservative beliefs who like to think they are independents) or readers of the Times.\\xc2\\xa0 And this isn\\xe2\\x80\\x99t just because \\xe2\\x80\\x9cThe Kelly File\\xe2\\x80\\x9d covers so few stories or because Kelly expresses her opinions about so many things.\\xc2\\xa0 The same can be said about Rachel Maddow. It\\xe2\\x80\\x99s because Kelly\\xe2\\x80\\x99s program isn\\xe2\\x80\\x99t very informative, even when she devotes attention to stories given short shrift by other news outlets.\\xc2\\xa0 With a handful of exceptions \\xe2\\x80\\x94 usually compelling breaking news stories like the tragic Germanwings airline crash \\xe2\\x80\\x94 every story Kelly and her producers select is predictable.\\xc2\\xa0 And, rather than exploring their complexity, Kelly and her guests dumb them down so that everything fits neatly into their viewers\\xe2\\x80\\x99 worldview. I was shocked at how few subjects, sources and points of view \\xe2\\x80\\x9cThe Kelly File\\xe2\\x80\\x9d presents, and by her almost ritualistic recourse to the same old conservative clich\\xc3\\xa9s and talking points during discussion and analysis, even when more interesting and complicated angles virtually begged to be examined.\\xc2\\xa0 As on \\xe2\\x80\\x9cThe O\\xe2\\x80\\x99Reilly Factor,\\xe2\\x80\\x9d the role played by liberal guests is to be flayed by the host and her allies.\\xc2\\xa0 Often this is easy because such guests are academics or policy wonks unaccustomed to talking in sound bites; sometimes their statements are so out of touch with reality that they almost invite ridicule.\\xc2\\xa0 Even those famous \\xe2\\x80\\x9cMegyn moments\\xe2\\x80\\x9d are too few for my liking.\\xc2\\xa0 And they always are followed by gracious and supportive remarks that demonstrate to viewers that Kelly is on the side of the \\xe2\\x80\\x9cgood guys.\\xe2\\x80\\x9d Watching Kelly reminded me of what I learned while researching my book \\xe2\\x80\\x94 that Fox News, particularly during prime time, really isn\\xe2\\x80\\x99t in the news business.\\xc2\\xa0 It\\xe2\\x80\\x99s in the entertainment business.\\xc2\\xa0 To a certain degree, this is true of most all television news.\\xc2\\xa0 But in FNC\\xe2\\x80\\x99s case, there is a difference.\\xc2\\xa0 Fox News\\xe2\\x80\\x99 core audience is more than just a particular slice of the larger consumer marketplace.\\xc2\\xa0 It\\xe2\\x80\\x99s a group of people with firm convictions and a coherent ideological worldview \\xe2\\x80\\x94 not unlike orthodox Marxists back in the early 1900s.\\xc2\\xa0 And part of what Fox does is make this worldview seem even more coherent \\xe2\\x80\\x94 and impervious to information that might undermine or contradict it.\\xc2\\xa0 That\\xe2\\x80\\x99s actually what its viewers want, and, from the start, Ailes and FNC have eagerly given it to them. I\\xe2\\x80\\x99m sure Ailes would like to expand FNC\\xe2\\x80\\x99s audience and win over viewers whose views are less doctrinaire.\\xc2\\xa0 This would be good business, and Ailes is a brilliant businessman.\\xc2\\xa0 But I can\\xe2\\x80\\x99t see this happening without him alienating his most loyal viewers, who prefer every story and virtually every fact filtered through the lens of ideology.\\xc2\\xa0 At least in present form, \\xe2\\x80\\x9cThe Kelly File\\xe2\\x80\\x9d isn\\xe2\\x80\\x99t going to do this, despite Kelly\\xe2\\x80\\x99s undeniable appeal as a broadcaster.']\n"
     ]
    },
    {
     "ename": "ValueError",
     "evalue": "Found input variables with inconsistent numbers of samples: [20012, 10006]",
     "output_type": "error",
     "traceback": [
      "\u001b[1;31m\u001b[0m",
      "\u001b[1;31mValueError\u001b[0mTraceback (most recent call last)",
      "\u001b[1;32m<ipython-input-19-3f8ab9e3bf7c>\u001b[0m in \u001b[0;36m<module>\u001b[1;34m()\u001b[0m\n\u001b[0;32m     14\u001b[0m \u001b[0mcount_all\u001b[0m \u001b[1;33m=\u001b[0m \u001b[0mcount_vectorizer_1\u001b[0m\u001b[1;33m.\u001b[0m\u001b[0mfit_transform\u001b[0m\u001b[1;33m(\u001b[0m\u001b[0mdf_c\u001b[0m\u001b[1;33m)\u001b[0m\u001b[1;33m\u001b[0m\u001b[0m\n\u001b[0;32m     15\u001b[0m \u001b[1;33m\u001b[0m\u001b[0m\n\u001b[1;32m---> 16\u001b[1;33m \u001b[1;32mprint\u001b[0m\u001b[1;33m(\u001b[0m\u001b[1;34m\"accuracies: \"\u001b[0m\u001b[1;33m,\u001b[0m \u001b[0mcross_val_score\u001b[0m\u001b[1;33m(\u001b[0m\u001b[0mmlp_classifier\u001b[0m\u001b[1;33m,\u001b[0m \u001b[0mcount_all\u001b[0m\u001b[1;33m,\u001b[0m \u001b[0mdf_b\u001b[0m\u001b[1;33m,\u001b[0m \u001b[0mcv\u001b[0m\u001b[1;33m=\u001b[0m\u001b[0mcv\u001b[0m\u001b[1;33m,\u001b[0m \u001b[0mscoring\u001b[0m\u001b[1;33m=\u001b[0m\u001b[0maccuracy_scorer\u001b[0m\u001b[1;33m)\u001b[0m\u001b[1;33m)\u001b[0m\u001b[1;33m\u001b[0m\u001b[0m\n\u001b[0m\u001b[0;32m     17\u001b[0m \u001b[1;32mprint\u001b[0m\u001b[1;33m(\u001b[0m\u001b[1;34m\"precisions: \"\u001b[0m\u001b[1;33m,\u001b[0m \u001b[0mcross_val_score\u001b[0m\u001b[1;33m(\u001b[0m\u001b[0mmlp_classifier\u001b[0m\u001b[1;33m,\u001b[0m \u001b[0mcount_all\u001b[0m\u001b[1;33m,\u001b[0m \u001b[0mdf_b\u001b[0m\u001b[1;33m,\u001b[0m \u001b[0mcv\u001b[0m\u001b[1;33m=\u001b[0m\u001b[0mcv\u001b[0m\u001b[1;33m,\u001b[0m \u001b[0mscoring\u001b[0m\u001b[1;33m=\u001b[0m\u001b[0mprecision_scorer\u001b[0m\u001b[1;33m)\u001b[0m\u001b[1;33m)\u001b[0m\u001b[1;33m\u001b[0m\u001b[0m\n\u001b[0;32m     18\u001b[0m \u001b[1;32mprint\u001b[0m\u001b[1;33m(\u001b[0m\u001b[1;34m\"recalls: \"\u001b[0m\u001b[1;33m,\u001b[0m \u001b[0mcross_val_score\u001b[0m\u001b[1;33m(\u001b[0m\u001b[0mmlp_classifier\u001b[0m\u001b[1;33m,\u001b[0m \u001b[0mcount_all\u001b[0m\u001b[1;33m,\u001b[0m \u001b[0mdf_b\u001b[0m\u001b[1;33m,\u001b[0m \u001b[0mcv\u001b[0m\u001b[1;33m=\u001b[0m\u001b[0mcv\u001b[0m\u001b[1;33m,\u001b[0m \u001b[0mscoring\u001b[0m\u001b[1;33m=\u001b[0m\u001b[0mrecall_scorer\u001b[0m\u001b[1;33m)\u001b[0m\u001b[1;33m)\u001b[0m\u001b[1;33m\u001b[0m\u001b[0m\n",
      "\u001b[1;32mC:\\Users\\pc\\Miniconda3\\lib\\site-packages\\sklearn\\model_selection\\_validation.pyc\u001b[0m in \u001b[0;36mcross_val_score\u001b[1;34m(estimator, X, y, groups, scoring, cv, n_jobs, verbose, fit_params, pre_dispatch)\u001b[0m\n\u001b[0;32m    340\u001b[0m                                 \u001b[0mn_jobs\u001b[0m\u001b[1;33m=\u001b[0m\u001b[0mn_jobs\u001b[0m\u001b[1;33m,\u001b[0m \u001b[0mverbose\u001b[0m\u001b[1;33m=\u001b[0m\u001b[0mverbose\u001b[0m\u001b[1;33m,\u001b[0m\u001b[1;33m\u001b[0m\u001b[0m\n\u001b[0;32m    341\u001b[0m                                 \u001b[0mfit_params\u001b[0m\u001b[1;33m=\u001b[0m\u001b[0mfit_params\u001b[0m\u001b[1;33m,\u001b[0m\u001b[1;33m\u001b[0m\u001b[0m\n\u001b[1;32m--> 342\u001b[1;33m                                 pre_dispatch=pre_dispatch)\n\u001b[0m\u001b[0;32m    343\u001b[0m     \u001b[1;32mreturn\u001b[0m \u001b[0mcv_results\u001b[0m\u001b[1;33m[\u001b[0m\u001b[1;34m'test_score'\u001b[0m\u001b[1;33m]\u001b[0m\u001b[1;33m\u001b[0m\u001b[0m\n\u001b[0;32m    344\u001b[0m \u001b[1;33m\u001b[0m\u001b[0m\n",
      "\u001b[1;32mC:\\Users\\pc\\Miniconda3\\lib\\site-packages\\sklearn\\model_selection\\_validation.pyc\u001b[0m in \u001b[0;36mcross_validate\u001b[1;34m(estimator, X, y, groups, scoring, cv, n_jobs, verbose, fit_params, pre_dispatch, return_train_score)\u001b[0m\n\u001b[0;32m    190\u001b[0m \u001b[1;33m\u001b[0m\u001b[0m\n\u001b[0;32m    191\u001b[0m     \"\"\"\n\u001b[1;32m--> 192\u001b[1;33m     \u001b[0mX\u001b[0m\u001b[1;33m,\u001b[0m \u001b[0my\u001b[0m\u001b[1;33m,\u001b[0m \u001b[0mgroups\u001b[0m \u001b[1;33m=\u001b[0m \u001b[0mindexable\u001b[0m\u001b[1;33m(\u001b[0m\u001b[0mX\u001b[0m\u001b[1;33m,\u001b[0m \u001b[0my\u001b[0m\u001b[1;33m,\u001b[0m \u001b[0mgroups\u001b[0m\u001b[1;33m)\u001b[0m\u001b[1;33m\u001b[0m\u001b[0m\n\u001b[0m\u001b[0;32m    193\u001b[0m \u001b[1;33m\u001b[0m\u001b[0m\n\u001b[0;32m    194\u001b[0m     \u001b[0mcv\u001b[0m \u001b[1;33m=\u001b[0m \u001b[0mcheck_cv\u001b[0m\u001b[1;33m(\u001b[0m\u001b[0mcv\u001b[0m\u001b[1;33m,\u001b[0m \u001b[0my\u001b[0m\u001b[1;33m,\u001b[0m \u001b[0mclassifier\u001b[0m\u001b[1;33m=\u001b[0m\u001b[0mis_classifier\u001b[0m\u001b[1;33m(\u001b[0m\u001b[0mestimator\u001b[0m\u001b[1;33m)\u001b[0m\u001b[1;33m)\u001b[0m\u001b[1;33m\u001b[0m\u001b[0m\n",
      "\u001b[1;32mC:\\Users\\pc\\Miniconda3\\lib\\site-packages\\sklearn\\utils\\validation.pyc\u001b[0m in \u001b[0;36mindexable\u001b[1;34m(*iterables)\u001b[0m\n\u001b[0;32m    227\u001b[0m         \u001b[1;32melse\u001b[0m\u001b[1;33m:\u001b[0m\u001b[1;33m\u001b[0m\u001b[0m\n\u001b[0;32m    228\u001b[0m             \u001b[0mresult\u001b[0m\u001b[1;33m.\u001b[0m\u001b[0mappend\u001b[0m\u001b[1;33m(\u001b[0m\u001b[0mnp\u001b[0m\u001b[1;33m.\u001b[0m\u001b[0marray\u001b[0m\u001b[1;33m(\u001b[0m\u001b[0mX\u001b[0m\u001b[1;33m)\u001b[0m\u001b[1;33m)\u001b[0m\u001b[1;33m\u001b[0m\u001b[0m\n\u001b[1;32m--> 229\u001b[1;33m     \u001b[0mcheck_consistent_length\u001b[0m\u001b[1;33m(\u001b[0m\u001b[1;33m*\u001b[0m\u001b[0mresult\u001b[0m\u001b[1;33m)\u001b[0m\u001b[1;33m\u001b[0m\u001b[0m\n\u001b[0m\u001b[0;32m    230\u001b[0m     \u001b[1;32mreturn\u001b[0m \u001b[0mresult\u001b[0m\u001b[1;33m\u001b[0m\u001b[0m\n\u001b[0;32m    231\u001b[0m \u001b[1;33m\u001b[0m\u001b[0m\n",
      "\u001b[1;32mC:\\Users\\pc\\Miniconda3\\lib\\site-packages\\sklearn\\utils\\validation.pyc\u001b[0m in \u001b[0;36mcheck_consistent_length\u001b[1;34m(*arrays)\u001b[0m\n\u001b[0;32m    202\u001b[0m     \u001b[1;32mif\u001b[0m \u001b[0mlen\u001b[0m\u001b[1;33m(\u001b[0m\u001b[0muniques\u001b[0m\u001b[1;33m)\u001b[0m \u001b[1;33m>\u001b[0m \u001b[1;36m1\u001b[0m\u001b[1;33m:\u001b[0m\u001b[1;33m\u001b[0m\u001b[0m\n\u001b[0;32m    203\u001b[0m         raise ValueError(\"Found input variables with inconsistent numbers of\"\n\u001b[1;32m--> 204\u001b[1;33m                          \" samples: %r\" % [int(l) for l in lengths])\n\u001b[0m\u001b[0;32m    205\u001b[0m \u001b[1;33m\u001b[0m\u001b[0m\n\u001b[0;32m    206\u001b[0m \u001b[1;33m\u001b[0m\u001b[0m\n",
      "\u001b[1;31mValueError\u001b[0m: Found input variables with inconsistent numbers of samples: [20012, 10006]"
     ]
    }
   ],
   "source": [
    "df_a = np.concatenate((X_3_train, X_3_test), axis = 0)\n",
    "print(df_a)\n",
    "df_b = np.concatenate((y_3_train, y_3_test), axis = 0)\n",
    "df_c = np.append((df_a),(df_b))\n",
    "\n",
    "\n",
    "cv = ShuffleSplit(n_splits=5, train_size=0.75, random_state=4222)\n",
    "accuracy_scorer = make_scorer(accuracy_score)\n",
    "precision_scorer = make_scorer(precision_score, pos_label='REAL')\n",
    "recall_scorer = make_scorer(recall_score, pos_label='REAL')\n",
    "f1_scorer = make_scorer(f1_score, pos_label=('REAL'))\n",
    "\n",
    "\n",
    "count_all = count_vectorizer_1.fit_transform(df_c)\n",
    "\n",
    "print(\"accuracies: \", cross_val_score(mlp_classifier, count_all, df_b, cv=cv, scoring=accuracy_scorer))\n",
    "print(\"precisions: \", cross_val_score(mlp_classifier, count_all, df_b, cv=cv, scoring=precision_scorer))\n",
    "print(\"recalls: \", cross_val_score(mlp_classifier, count_all, df_b, cv=cv, scoring=recall_scorer))\n",
    "print(\"f1: \", cross_val_score(mlp_classifier, count_all, df_b, cv=cv, scoring=f1_scorer))"
   ]
  },
  {
   "cell_type": "code",
   "execution_count": null,
   "metadata": {},
   "outputs": [],
   "source": []
  }
 ],
 "metadata": {
  "kernelspec": {
   "display_name": "Python 2",
   "language": "python",
   "name": "python2"
  },
  "language_info": {
   "codemirror_mode": {
    "name": "ipython",
    "version": 2
   },
   "file_extension": ".py",
   "mimetype": "text/x-python",
   "name": "python",
   "nbconvert_exporter": "python",
   "pygments_lexer": "ipython2",
   "version": "2.7.15"
  }
 },
 "nbformat": 4,
 "nbformat_minor": 2
}
