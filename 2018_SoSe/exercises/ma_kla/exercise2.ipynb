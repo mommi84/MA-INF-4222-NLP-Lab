{
 "cells": [
  {
   "cell_type": "markdown",
   "metadata": {},
   "source": [
    "# Exercise 2"
   ]
  },
  {
   "cell_type": "code",
   "execution_count": 11,
   "metadata": {},
   "outputs": [
    {
     "name": "stdout",
     "output_type": "stream",
     "text": [
      "Populating the interactive namespace from numpy and matplotlib\n"
     ]
    }
   ],
   "source": [
    "import pandas as pd\n",
    "import numpy as np\n",
    "import itertools\n",
    "from sklearn.feature_extraction.text import CountVectorizer, TfidfVectorizer, HashingVectorizer\n",
    "from sklearn.feature_extraction import DictVectorizer\n",
    "from sklearn.model_selection import train_test_split\n",
    "from sklearn.linear_model import PassiveAggressiveClassifier\n",
    "from sklearn.naive_bayes import MultinomialNB\n",
    "from sklearn.neural_network import MLPClassifier\n",
    "from sklearn.ensemble import RandomForestClassifier\n",
    "from sklearn import metrics\n",
    "from sklearn.preprocessing import StandardScaler  \n",
    "import matplotlib.pyplot as plt\n",
    "from sklearn.model_selection import ShuffleSplit\n",
    "import warnings\n",
    "%pylab inline\n",
    "warnings.simplefilter('ignore')\n",
    "\n",
    "def clf_and_pred(clf, X_train, y_train, X_test, y_test, pred_train=True, no_train=False):\n",
    "   \n",
    "    if not no_train:\n",
    "        clf.fit(X_train, y_train)\n",
    "    accuracy={}\n",
    "    recall={}\n",
    "    precision={}\n",
    "    f_measure={}\n",
    "    if pred_train:\n",
    "        pred = clf.predict(X_train)\n",
    "        accuracy['train'] = metrics.accuracy_score(y_train, pred)\n",
    "        recall['train'] = metrics.recall_score(y_train, pred, average='weighted')\n",
    "        precision['train'] = metrics.precision_score(y_train, pred, average='weighted')\n",
    "        f_measure['train'] = metrics.f1_score(y_train, pred, average='weighted')\n",
    "    pred = clf.predict(X_test)\n",
    "    accuracy['test'] = metrics.accuracy_score(y_test, pred)\n",
    "    recall['test'] = metrics.recall_score(y_test, pred, average='weighted')\n",
    "    precision['test'] = metrics.precision_score(y_test, pred, average='weighted')\n",
    "    f_measure['test'] = metrics.f1_score(y_test, pred, average='weighted')\n",
    "\n",
    "    return accuracy, recall, precision, f_measure"
   ]
  },
  {
   "cell_type": "markdown",
   "metadata": {},
   "source": [
    "# Import datasets"
   ]
  },
  {
   "cell_type": "code",
   "execution_count": 5,
   "metadata": {
    "scrolled": true
   },
   "outputs": [],
   "source": [
    "\n",
    "\n",
    "dataset1=pd.read_csv(\"fake_or_real_news.csv\", sep=',', usecols=['title','text','label'])\n",
    "dataset2_train=pd.read_csv(\"train.tsv\", sep='\\t', header=None, usecols=[1,2,3,4,5,6,7,8,9,10,11,12,13], names=['label', 'statement', 'subject', 'speaker', 'jobOfSpeaker', 'state', 'party', 'barely_true', 'false', 'half_true', 'mostly_true', 'pants_on_fire', 'context'])\n",
    "dataset2_valid=pd.read_csv(\"valid.tsv\", sep='\\t', header=None, usecols=[1,2,3,4,5,6,7,8,9,10,11,12,13], names=['label', 'statement', 'subject', 'speaker', 'jobOfSpeaker', 'state', 'party', 'barely_true', 'false', 'half_true', 'mostly_true', 'pants_on_fire', 'context'])\n",
    "dataset2_test=pd.read_csv(\"test.tsv\", sep='\\t', header=None, usecols=[1,2,3,4,5,6,7,8,9,10,11,12,13], names=['label', 'statement', 'subject', 'speaker', 'jobOfSpeaker', 'state', 'party', 'barely_true', 'false', 'half_true', 'mostly_true', 'pants_on_fire', 'context'])\n",
    "\n",
    "dataset1['statement'] = dataset1[['title', 'text']].apply(lambda x: '. '.join(x), axis=1)\n",
    "del dataset1['title']\n",
    "del dataset1['text']\n",
    "\n",
    "for dataset in [dataset2_train, dataset2_valid, dataset2_test]:\n",
    "    for i in range(0,len(dataset['label'])):\n",
    "        if dataset['label'][i]=='true' or dataset['label'][i]=='mostly-true':\n",
    "            dataset['label'][i]='REAL'\n",
    "        else:\n",
    "            dataset['label'][i]='FAKE'"
   ]
  },
  {
   "cell_type": "markdown",
   "metadata": {},
   "source": [
    "# Task 1"
   ]
  },
  {
   "cell_type": "code",
   "execution_count": 15,
   "metadata": {},
   "outputs": [
    {
     "name": "stdout",
     "output_type": "stream",
     "text": [
      "train results: \n",
      "accuracy:   0.99\n",
      "recall:   0.99\n",
      "precision:   0.99\n",
      "f-measure:   0.99\n",
      "test results: \n",
      "accuracy:   0.87\n",
      "recall:   0.87\n",
      "precision:   0.88\n",
      "f-measure:   0.87\n",
      "train results: \n",
      "accuracy:   1.00\n",
      "recall:   1.00\n",
      "precision:   1.00\n",
      "f-measure:   1.00\n",
      "test results: \n",
      "accuracy:   0.93\n",
      "recall:   0.93\n",
      "precision:   0.93\n",
      "f-measure:   0.93\n",
      "train results: \n",
      "accuracy:   1.00\n",
      "recall:   1.00\n",
      "precision:   1.00\n",
      "f-measure:   1.00\n",
      "test results: \n",
      "accuracy:   0.93\n",
      "recall:   0.93\n",
      "precision:   0.93\n",
      "f-measure:   0.93\n",
      "train results: \n",
      "accuracy:   1.00\n",
      "recall:   1.00\n",
      "precision:   1.00\n",
      "f-measure:   1.00\n",
      "test results: \n",
      "accuracy:   0.92\n",
      "recall:   0.92\n",
      "precision:   0.92\n",
      "f-measure:   0.92\n",
      "train results: \n",
      "accuracy:   0.51\n",
      "recall:   0.51\n",
      "precision:   0.26\n",
      "f-measure:   0.34\n",
      "test results: \n",
      "accuracy:   0.48\n",
      "recall:   0.48\n",
      "precision:   0.23\n",
      "f-measure:   0.31\n"
     ]
    }
   ],
   "source": [
    "y=dataset1.label\n",
    "X=dataset1.drop('label', axis=1)\n",
    "\n",
    "ss = ShuffleSplit(n_splits=5, test_size=0.25, random_state=4215)\n",
    "#accuracy=recall=precision=f_measure=[]\n",
    "for train_index, test_index in ss.split(X['statement'], y):\n",
    "    X_train1 = X['statement'].iloc[train_index]\n",
    "    y_train1 = y.iloc[train_index]\n",
    "    X_test1 = X['statement'].iloc[test_index]\n",
    "    y_test1 = y.iloc[test_index]\n",
    "    count_vectorizer1 = CountVectorizer(stop_words='english', ngram_range=(2, 2))\n",
    "    count_train1 = count_vectorizer1.fit_transform(X_train1)\n",
    "    count_test1 = count_vectorizer1.transform(X_test1)\n",
    "    \n",
    "    scaler = StandardScaler(with_mean=False)\n",
    "    scaler.fit(count_train1)\n",
    "\n",
    "    NN_train = scaler.transform(count_train1)  \n",
    "    NN_test = scaler.transform(count_test1)  \n",
    "\n",
    "    clf1 = MLPClassifier(hidden_layer_sizes=(3), max_iter=10, random_state=4222)\n",
    "    accuracy, recall, precision, f_measure = clf_and_pred(clf1, NN_train, y_train1, NN_test, y_test1)\n",
    "    print(\"train results: \")\n",
    "    print(\"accuracy:   %0.2f\" % accuracy['train'])\n",
    "    print(\"recall:   %0.2f\" % recall['train'])\n",
    "    print(\"precision:   %0.2f\" % precision['train'])\n",
    "    print(\"f-measure:   %0.2f\" % f_measure['train'])\n",
    "    print(\"test results: \")\n",
    "    print(\"accuracy:   %0.2f\" % accuracy['test'])\n",
    "    print(\"recall:   %0.2f\" % recall['test'])\n",
    "    print(\"precision:   %0.2f\" % precision['test'])\n",
    "    print(\"f-measure:   %0.2f\" % f_measure['test'])"
   ]
  },
  {
   "cell_type": "markdown",
   "metadata": {},
   "source": [
    "# Task 2"
   ]
  },
  {
   "cell_type": "code",
   "execution_count": 12,
   "metadata": {},
   "outputs": [
    {
     "name": "stdout",
     "output_type": "stream",
     "text": [
      "train results: \n",
      "accuracy:   0.99\n",
      "recall:   0.99\n",
      "precision:   0.99\n",
      "f-measure:   0.99\n",
      "test results: \n",
      "accuracy:   0.63\n",
      "recall:   0.63\n",
      "precision:   0.61\n",
      "f-measure:   0.61\n",
      "valid results: \n",
      "accuracy:   0.67\n",
      "recall:   0.67\n",
      "precision:   0.64\n",
      "f-measure:   0.63\n"
     ]
    }
   ],
   "source": [
    "y_train2=dataset2_train['label']\n",
    "X_train2=dataset2_train['statement']\n",
    "y_valid2=dataset2_valid['label']\n",
    "X_valid2=dataset2_valid['statement']\n",
    "y_test2=dataset2_test['label']\n",
    "X_test2=dataset2_test['statement']\n",
    "\n",
    "\n",
    "count_vectorizer2 = CountVectorizer(stop_words='english', ngram_range=(2, 2))\n",
    "count_train2 = count_vectorizer2.fit_transform(X_train2)\n",
    "count_test2 = count_vectorizer2.transform(X_test2)\n",
    "count_valid2 = count_vectorizer2.transform(X_valid2)\n",
    "\n",
    "clf2 = MultinomialNB()\n",
    "\n",
    "accuracy, recall, precision, f_measure = clf_and_pred(clf2, count_train2, y_train2, count_test2, y_test2)\n",
    "print(\"train results: \")\n",
    "print(\"accuracy:   %0.2f\" % accuracy['train'])\n",
    "print(\"recall:   %0.2f\" % recall['train'])\n",
    "print(\"precision:   %0.2f\" % precision['train'])\n",
    "print(\"f-measure:   %0.2f\" % f_measure['train'])\n",
    "print(\"test results: \")\n",
    "print(\"accuracy:   %0.2f\" % accuracy['test'])\n",
    "print(\"recall:   %0.2f\" % recall['test'])\n",
    "print(\"precision:   %0.2f\" % precision['test'])\n",
    "print(\"f-measure:   %0.2f\" % f_measure['test'])\n",
    "accuracy, recall, precision, f_measure = clf_and_pred(clf2, count_train2, y_train2, count_valid2, y_valid2, pred_train=False, no_train=True)\n",
    "print(\"valid results: \")\n",
    "print(\"accuracy:   %0.2f\" % accuracy['test'])\n",
    "print(\"recall:   %0.2f\" % recall['test'])\n",
    "print(\"precision:   %0.2f\" % precision['test'])\n",
    "print(\"f-measure:   %0.2f\" % f_measure['test'])\n",
    "\n",
    "\n",
    "\n"
   ]
  },
  {
   "cell_type": "markdown",
   "metadata": {},
   "source": [
    "# Task 3"
   ]
  },
  {
   "cell_type": "code",
   "execution_count": 13,
   "metadata": {},
   "outputs": [
    {
     "name": "stdout",
     "output_type": "stream",
     "text": [
      "valid results: \n",
      "accuracy:   0.50\n",
      "recall:   0.50\n",
      "precision:   0.48\n",
      "f-measure:   0.44\n",
      "valid results: \n",
      "accuracy:   0.35\n",
      "recall:   0.35\n",
      "precision:   0.13\n",
      "f-measure:   0.19\n"
     ]
    }
   ],
   "source": [
    "count_test3a=count_vectorizer2.transform(X_test1)\n",
    "accuracy, recall, precision, f_measure = clf_and_pred(clf2, count_train2, y_train2, count_test3a, y_test1, pred_train=False, no_train=True)\n",
    "print(\"test results: \")\n",
    "print(\"accuracy:   %0.2f\" % accuracy['test'])\n",
    "print(\"recall:   %0.2f\" % recall['test'])\n",
    "print(\"precision:   %0.2f\" % precision['test'])\n",
    "print(\"f-measure:   %0.2f\" % f_measure['test'])\n",
    "\n",
    "count_test3b = count_vectorizer1.transform(X_test2)\n",
    "NN_test3b = scaler.transform(count_test3b)  \n",
    "accuracy, recall, precision, f_measure = clf_and_pred(clf1, NN_train, y_train1, NN_test3b, y_test2, pred_train=False, no_train=True)\n",
    "print(\"test results: \")\n",
    "print(\"accuracy:   %0.2f\" % accuracy['test'])\n",
    "print(\"recall:   %0.2f\" % recall['test'])\n",
    "print(\"precision:   %0.2f\" % precision['test'])\n",
    "print(\"f-measure:   %0.2f\" % f_measure['test'])\n",
    "\n"
   ]
  },
  {
   "cell_type": "markdown",
   "metadata": {},
   "source": [
    "# Task 4"
   ]
  },
  {
   "cell_type": "code",
   "execution_count": 14,
   "metadata": {},
   "outputs": [
    {
     "name": "stdout",
     "output_type": "stream",
     "text": [
      "train results: \n",
      "accuracy:   0.40\n",
      "recall:   0.40\n",
      "precision:   0.16\n",
      "f-measure:   0.23\n",
      "test results: \n",
      "accuracy:   0.40\n",
      "recall:   0.40\n",
      "precision:   0.16\n",
      "f-measure:   0.23\n",
      "train results: \n",
      "accuracy:   1.00\n",
      "recall:   1.00\n",
      "precision:   1.00\n",
      "f-measure:   1.00\n",
      "test results: \n",
      "accuracy:   0.70\n",
      "recall:   0.70\n",
      "precision:   0.72\n",
      "f-measure:   0.67\n",
      "train results: \n",
      "accuracy:   1.00\n",
      "recall:   1.00\n",
      "precision:   1.00\n",
      "f-measure:   1.00\n",
      "test results: \n",
      "accuracy:   0.72\n",
      "recall:   0.72\n",
      "precision:   0.72\n",
      "f-measure:   0.71\n",
      "train results: \n",
      "accuracy:   1.00\n",
      "recall:   1.00\n",
      "precision:   1.00\n",
      "f-measure:   1.00\n",
      "test results: \n",
      "accuracy:   0.65\n",
      "recall:   0.65\n",
      "precision:   0.70\n",
      "f-measure:   0.65\n",
      "train results: \n",
      "accuracy:   1.00\n",
      "recall:   1.00\n",
      "precision:   1.00\n",
      "f-measure:   1.00\n",
      "test results: \n",
      "accuracy:   0.73\n",
      "recall:   0.73\n",
      "precision:   0.73\n",
      "f-measure:   0.71\n"
     ]
    }
   ],
   "source": [
    "dataset3=pd.concat([dataset1, dataset2_train, dataset2_valid, dataset2_test], ignore_index=True)\n",
    "y=dataset3.label\n",
    "X=dataset3.drop('label', axis=1)\n",
    "for train_index, test_index in ss.split(X['statement'], y):\n",
    "    X_train4=dataset3['statement'].iloc[train_index]\n",
    "    y_train4=y.iloc[train_index]\n",
    "    X_test4=dataset3['statement'].iloc[test_index]\n",
    "    y_test4=y.iloc[test_index]\n",
    "    count_vectorizer4 = CountVectorizer(stop_words='english', ngram_range=(2, 2))\n",
    "    count_train4 = count_vectorizer4.fit_transform(X_train4)\n",
    "    count_test4 = count_vectorizer4.transform(X_test4)\n",
    "    clf4 = RandomForestClassifier(max_depth=1, random_state=4222)\n",
    "    accuracy, recall, precision, f_measure = clf_and_pred(clf1, count_train4, y_train4, count_test4, y_test4)\n",
    "    print(\"train results: \")\n",
    "    print(\"accuracy:   %0.2f\" % accuracy['train'])\n",
    "    print(\"recall:   %0.2f\" % recall['train'])\n",
    "    print(\"precision:   %0.2f\" % precision['train'])\n",
    "    print(\"f-measure:   %0.2f\" % f_measure['train'])\n",
    "    print(\"test results: \")\n",
    "    print(\"accuracy:   %0.2f\" % accuracy['test'])\n",
    "    print(\"recall:   %0.2f\" % recall['test'])\n",
    "    print(\"precision:   %0.2f\" % precision['test'])\n",
    "    print(\"f-measure:   %0.2f\" % f_measure['test'])"
   ]
  },
  {
   "cell_type": "code",
   "execution_count": null,
   "metadata": {},
   "outputs": [],
   "source": []
  }
 ],
 "metadata": {
  "kernelspec": {
   "display_name": "Python 3",
   "language": "python",
   "name": "python3"
  },
  "language_info": {
   "codemirror_mode": {
    "name": "ipython",
    "version": 3
   },
   "file_extension": ".py",
   "mimetype": "text/x-python",
   "name": "python",
   "nbconvert_exporter": "python",
   "pygments_lexer": "ipython3",
   "version": "3.5.2"
  }
 },
 "nbformat": 4,
 "nbformat_minor": 2
}
