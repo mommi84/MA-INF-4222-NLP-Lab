{
 "cells": [
  {
   "cell_type": "code",
   "execution_count": 21,
   "metadata": {},
   "outputs": [],
   "source": [
    "import numpy as np \n",
    "import pandas as pd \n",
    "from sklearn.feature_extraction.text import CountVectorizer\n",
    "from keras.preprocessing.text import Tokenizer\n",
    "from keras.preprocessing.sequence import pad_sequences\n",
    "from keras.models import Sequential\n",
    "from keras.layers import Dense, Embedding, LSTM, SpatialDropout1D, SimpleRNN\n",
    "from sklearn.model_selection import train_test_split\n",
    "from keras.utils.np_utils import to_categorical\n",
    "import re"
   ]
  },
  {
   "cell_type": "code",
   "execution_count": 22,
   "metadata": {},
   "outputs": [],
   "source": [
    "# parameters\n",
    "max_fatures = 500\n",
    "embed_dim = 128\n",
    "lstm_out = 196\n",
    "dropout = 0.1\n",
    "dropout_1d = 0.4\n",
    "recurrent_dropout = 0.1\n",
    "random_state = 4222\n",
    "validation_size = 1000\n",
    "batch_size = 16\n",
    "epochs=2\n",
    "verbose= 2"
   ]
  },
  {
   "cell_type": "code",
   "execution_count": 23,
   "metadata": {},
   "outputs": [
    {
     "name": "stdout",
     "output_type": "stream",
     "text": [
      "                                                text sentiment\n",
      "0  RT @NancyLeeGrahn: How did everyone feel about...   Neutral\n",
      "1  RT @ScottWalker: Didn't catch the full #GOPdeb...  Positive\n",
      "2  RT @TJMShow: No mention of Tamir Rice and the ...   Neutral\n",
      "3  RT @RobGeorge: That Carly Fiorina is trending ...  Positive\n",
      "4  RT @DanScavino: #GOPDebate w/ @realDonaldTrump...  Positive\n",
      "5  RT @GregAbbott_TX: @TedCruz: \"On my first day ...  Positive\n",
      "6  RT @warriorwoman91: I liked her and was happy ...  Negative\n",
      "7  Going on #MSNBC Live with @ThomasARoberts arou...   Neutral\n",
      "8  Deer in the headlights RT @lizzwinstead: Ben C...  Negative\n",
      "9  RT @NancyOsborne180: Last night's debate prove...  Negative\n"
     ]
    }
   ],
   "source": [
    "df = pd.read_csv('dataset_sentiment.csv')\n",
    "df = df[['text','sentiment']]\n",
    "print(df[0:10])\n",
    "\n",
    "df = df[df.sentiment != \"Neutral\"]\n",
    "df['text'] = df['text'].apply(lambda x: x.lower())\n",
    "df['text'] = df['text'].apply(lambda x: x.replace('rt',' '))\n",
    "df['text'] = df['text'].apply((lambda x: re.sub('[^a-zA-z0-9\\s]','',x)))"
   ]
  },
  {
   "cell_type": "code",
   "execution_count": 24,
   "metadata": {},
   "outputs": [],
   "source": [
    "tok = Tokenizer(num_words=max_fatures, split=' ')\n",
    "tok.fit_on_texts(df['text'].values)\n",
    "X = tok.texts_to_sequences(df['text'].values)\n",
    "X = pad_sequences(X)"
   ]
  },
  {
   "cell_type": "markdown",
   "metadata": {},
   "source": [
    "<h4>Baseline NN classifier</h4>"
   ]
  },
  {
   "cell_type": "code",
   "execution_count": 51,
   "metadata": {},
   "outputs": [
    {
     "name": "stdout",
     "output_type": "stream",
     "text": [
      "_________________________________________________________________\n",
      "Layer (type)                 Output Shape              Param #   \n",
      "=================================================================\n",
      "embedding_22 (Embedding)     (None, 26, 128)           64000     \n",
      "_________________________________________________________________\n",
      "spatial_dropout1d_5 (Spatial (None, 26, 128)           0         \n",
      "_________________________________________________________________\n",
      "lstm_4 (LSTM)                (None, 196)               254800    \n",
      "_________________________________________________________________\n",
      "dense_12 (Dense)             (None, 2)                 394       \n",
      "=================================================================\n",
      "Total params: 319,194\n",
      "Trainable params: 319,194\n",
      "Non-trainable params: 0\n",
      "_________________________________________________________________\n",
      "None\n",
      "Epoch 1/2\n",
      " - 25s - loss: 0.4398 - acc: 0.8144\n",
      "Epoch 2/2\n",
      " - 23s - loss: 0.3636 - acc: 0.8446\n",
      "score: 0.35\n",
      "acc: 0.86\n",
      "pos_acc 37.073170731707314 %\n",
      "neg_acc 97.48427672955975 %\n"
     ]
    }
   ],
   "source": [
    "nn = Sequential()\n",
    "nn.add(Embedding(max_fatures, embed_dim, input_length = X.shape[1]))\n",
    "nn.add(SpatialDropout1D(dropout_1d))\n",
    "nn.add(LSTM(lstm_out, dropout=dropout, recurrent_dropout=recurrent_dropout))\n",
    "nn.add(Dense(2, activation='softmax'))\n",
    "nn.compile(loss = 'categorical_crossentropy', optimizer='adam', metrics = ['accuracy'])\n",
    "print(nn.summary())\n",
    "\n",
    "Y = pd.get_dummies(df['sentiment']).values\n",
    "X_train, X_test, Y_train, Y_test = train_test_split(X, Y, test_size = 0.30, random_state = random_state)\n",
    "nn.fit(X_train, Y_train, epochs = epochs, batch_size=batch_size, verbose=verbose)\n",
    "\n",
    "X_validate = X_test[-validation_size:]\n",
    "Y_validate = Y_test[-validation_size:]\n",
    "X_test = X_test[:-validation_size]\n",
    "Y_test = Y_test[:-validation_size]\n",
    "score, accuracy = nn.evaluate(X_test, Y_test, verbose = 2, batch_size = batch_size)\n",
    "print(\"score: %.2f\" % (score))\n",
    "print(\"acc: %.2f\" % (accuracy))\n",
    "\n",
    "pos_cnt, neg_cnt, pos_ok, neg_ok = 0, 0, 0, 0\n",
    "for x in range(len(X_validate)):\n",
    "    result = nn.predict(X_validate[x].reshape(1,X_test.shape[1]),batch_size=1,verbose = 2)[0]\n",
    "    if np.argmax(result) == np.argmax(Y_validate[x]):\n",
    "        if np.argmax(Y_validate[x]) == 0: neg_ok += 1\n",
    "        else: pos_ok += 1\n",
    "    if np.argmax(Y_validate[x]) == 0: neg_cnt += 1\n",
    "    else: pos_cnt += 1\n",
    "\n",
    "print(\"pos_acc\", pos_ok/pos_cnt*100, \"%\")\n",
    "print(\"neg_acc\", neg_ok/neg_cnt*100, \"%\")"
   ]
  },
  {
   "cell_type": "markdown",
   "metadata": {},
   "source": [
    "<h4>Improve the baseline by inserting RNN cells</h4>"
   ]
  },
  {
   "cell_type": "code",
   "execution_count": 60,
   "metadata": {},
   "outputs": [
    {
     "name": "stdout",
     "output_type": "stream",
     "text": [
      "_________________________________________________________________\n",
      "Layer (type)                 Output Shape              Param #   \n",
      "=================================================================\n",
      "embedding_28 (Embedding)     (None, 26, 128)           64000     \n",
      "_________________________________________________________________\n",
      "simple_rnn_22 (SimpleRNN)    (None, 3)                 396       \n",
      "_________________________________________________________________\n",
      "dense_16 (Dense)             (None, 2)                 8         \n",
      "=================================================================\n",
      "Total params: 64,404\n",
      "Trainable params: 64,404\n",
      "Non-trainable params: 0\n",
      "_________________________________________________________________\n",
      "None\n"
     ]
    }
   ],
   "source": [
    "nn = Sequential()\n",
    "nn.add(Embedding(max_fatures, embed_dim, input_length = X.shape[1]))\n",
    "nn.add(SimpleRNN(units=3))\n",
    "nn.add(Dense(2, activation='softmax'))\n",
    "nn.compile(loss = 'categorical_crossentropy', optimizer='adam', metrics = ['accuracy'])\n",
    "print(nn.summary())"
   ]
  },
  {
   "cell_type": "markdown",
   "metadata": {},
   "source": [
    "<h4>Train and test improved Neural Network</h4>"
   ]
  },
  {
   "cell_type": "code",
   "execution_count": 61,
   "metadata": {},
   "outputs": [
    {
     "name": "stdout",
     "output_type": "stream",
     "text": [
      "Epoch 1/2\n",
      " - 5s - loss: 0.4602 - acc: 0.8156\n",
      "Epoch 2/2\n",
      " - 4s - loss: 0.3774 - acc: 0.8525\n",
      "score: 0.39\n",
      "acc: 0.85\n",
      "pos_acc 39.51219512195122 %\n",
      "neg_acc 95.22012578616352 %\n"
     ]
    }
   ],
   "source": [
    "Y = pd.get_dummies(df['sentiment']).values\n",
    "X_train, X_test, Y_train, Y_test = train_test_split(X, Y, test_size = 0.30, random_state = random_state)\n",
    "nn.fit(X_train, Y_train, epochs = epochs, batch_size=batch_size, verbose=verbose)\n",
    "\n",
    "X_validate = X_test[-validation_size:]\n",
    "Y_validate = Y_test[-validation_size:]\n",
    "X_test = X_test[:-validation_size]\n",
    "Y_test = Y_test[:-validation_size]\n",
    "score, accuracy = nn.evaluate(X_test, Y_test, verbose = 2, batch_size = batch_size)\n",
    "print(\"score: %.2f\" % (score))\n",
    "print(\"acc: %.2f\" % (accuracy))\n",
    "\n",
    "pos_cnt, neg_cnt, pos_ok, neg_ok = 0, 0, 0, 0\n",
    "for x in range(len(X_validate)):\n",
    "    result = nn.predict(X_validate[x].reshape(1,X_test.shape[1]),batch_size=1,verbose = 2)[0]\n",
    "    if np.argmax(result) == np.argmax(Y_validate[x]):\n",
    "        if np.argmax(Y_validate[x]) == 0: neg_ok += 1\n",
    "        else: pos_ok += 1\n",
    "    if np.argmax(Y_validate[x]) == 0: neg_cnt += 1\n",
    "    else: pos_cnt += 1\n",
    "\n",
    "print(\"pos_acc\", pos_ok/pos_cnt*100, \"%\")\n",
    "print(\"neg_acc\", neg_ok/neg_cnt*100, \"%\")"
   ]
  },
  {
   "cell_type": "markdown",
   "metadata": {},
   "source": [
    "<h4>Export metadata</h4>"
   ]
  },
  {
   "cell_type": "code",
   "execution_count": 64,
   "metadata": {},
   "outputs": [],
   "source": [
    "from rdflib import Namespace, Graph, Literal\n",
    "from rdflib.namespace import FOAF, OWL, XSD, RDFS, DCTERMS, DOAP, DC, RDF\n",
    "\n",
    "\n",
    "prov = Namespace('http://www.w3.org/ns/prov#')\n",
    "dcat = Namespace('http://www.w3.org/ns/dcat#')\n",
    "mexalgo = Namespace('http://mex.aksw.org/mex-algo#')\n",
    "mexperf = Namespace('http://mex.aksw.org/mex-perf#')\n",
    "mexcore = Namespace('http://mex.aksw.org/mex-core#')\n",
    "this = Namespace('http://mex.aksw.org/examples/')\n",
    "\n",
    "g = Graph()\n",
    "# Create Binding\n",
    "g.bind('dct',DCTERMS)\n",
    "g.bind('owl',OWL)\n",
    "g.bind('foaf',FOAF)\n",
    "g.bind('xsd', XSD)\n",
    "g.bind('rdfs', RDFS)\n",
    "g.bind('doap', DOAP)\n",
    "g.bind('dc', DC)\n",
    "g.bind('prov', prov)\n",
    "g.bind('dcat', dcat)\n",
    "g.bind('mexalgo',mexalgo)\n",
    "g.bind('mexperf',mexperf)\n",
    "g.bind('mexcore',mexcore)\n",
    "g.bind('this',this)\n",
    "\n",
    "g.add((this.pielka_task3,RDF.type,mexcore.Experiment))\n",
    "g.add((this.pielka_task3,RDF.type,mexcore.ApplicationContext))\n",
    "g.add((this.pielka_task3,RDFS.label, Literal('2468882')))\n",
    "g.add((this.pielka_task3,DCTERMS.date, Literal('2018-05-30',datatype=XSD.date)))\n",
    "g.add((this.pielka_task3,FOAF.givenName, Literal('Maren')))\n",
    "g.add((this.pielka_task3,FOAF.mbox, Literal('maren.pielka@gmx.de')))\n",
    "\n",
    "#Model-1: Baseline\n",
    "g.add((this.configuration1,RDF.type,mexcore.ExperimentConfiguration))\n",
    "g.add((this.configuration1,prov.used, this.model1))\n",
    "g.add((this.configuration1,prov.wasStartedBy, this.pielka_task3))\n",
    "\n",
    "#Model-2: Improved model\n",
    "g.add((this.configuration2,RDF.type,mexcore.ExperimentConfiguration))\n",
    "g.add((this.configuration2,prov.used, this.model2))\n",
    "g.add((this.configuration2,prov.wasStartedBy, this.pielka_task3))\n",
    "\n",
    "g.add((this.test,RDF.type,mexcore.Test))\n",
    "g.add((this.test,RDFS.label,Literal('Test')))\n",
    "\n",
    "g.add((this.hyerparameter_model1,RDF.type,mexalgo.HyperParameterCollection))\n",
    "g.add((this.hyerparameter1,RDFS.label,Literal('HyperParameterCollection')))\n",
    "g.add((this.hyerparameter_model1,prov.hadMember,this.hyerparameter1))\n",
    "g.add((this.hyerparameter_model1,prov.hadMember,this.hyerparameter2))\n",
    "g.add((this.hyerparameter_model1,prov.hadMember,this.hyerparameter3))\n",
    "\n",
    "\n",
    "g.add((this.hyerparameter_model2,RDF.type,mexalgo.HyperParameterCollection))\n",
    "g.add((this.hyerparameter_model2,RDFS.label,Literal('HyperParameterCollection')))\n",
    "g.add((this.hyerparameter_model2,prov.hadMember,this.hyerparameter4))\n",
    "\n",
    "\n",
    "g.add((this.hyerparameter1,RDF.type,mexalgo.HyperParameter))\n",
    "g.add((this.hyerparameter1,RDFS.label, Literal('embedding_dimension')))\n",
    "g.add((this.hyerparameter1,DCTERMS.identifier, Literal('embedding_dimension')))\n",
    "g.add((this.hyerparameter1,prov.value, Literal('128',datatype=XSD.integer)))\n",
    "\n",
    "g.add((this.hyerparameter2,RDF.type,mexalgo.HyperParameter))\n",
    "g.add((this.hyerparameter2,RDFS.label, Literal('dropout')))\n",
    "g.add((this.hyerparameter2,DCTERMS.identifier, Literal('dropout')))\n",
    "g.add((this.hyerparameter2,prov.value, Literal('0.1',datatype=XSD.float)))\n",
    "\n",
    "g.add((this.hyerparameter3,RDF.type,mexalgo.HyperParameter))\n",
    "g.add((this.hyerparameter3,RDFS.label, Literal('recurrent_dropout')))\n",
    "g.add((this.hyerparameter3,DCTERMS.identifier, Literal('recurrent_dropout')))\n",
    "g.add((this.hyerparameter3,prov.value, Literal('0.1',datatype=XSD.float)))\n",
    "\n",
    "\n",
    "g.add((this.hyerparameter4,RDF.type,mexalgo.HyperParameter))\n",
    "g.add((this.hyerparameter4,RDFS.label, Literal('rnn_units')))\n",
    "g.add((this.hyerparameter4,DCTERMS.identifier, Literal('rnn_units')))\n",
    "g.add((this.hyerparameter4,prov.value, Literal('2', datatype=XSD.integer)))\n",
    "\n",
    "\n",
    "g.add((this.dataset,RDF.type,mexcore.Dataset))\n",
    "g.add((this.dataset,RDFS.label,Literal('Sentiment-Classification')))\n",
    "g.add((this.dataset,DCTERMS.landingPage,Literal('https://github.com/SmartDataAnalytics/MA-INF-4222-NLP-Lab/blob/master/2018_SoSe/exercises/dataset_sentiment.csv')))\n",
    "\n",
    "\n",
    "g.add((this.execution1,RDF.type,mexcore.ExecutionOverall))\n",
    "g.add((this.execution1,prov.generated,this.performance_measures1))\n",
    "g.add((this.execution1,prov.used,this.test))\n",
    "g.add((this.execution1,prov.used,this.hyerparameter_model1))\n",
    "g.add((this.execution1,prov.used,this.model1))\n",
    "\n",
    "g.add((this.execution2,RDF.type,mexcore.ExecutionOverall))\n",
    "g.add((this.execution2,prov.generated,this.performance_measures2))\n",
    "g.add((this.execution2,prov.used,this.test))\n",
    "g.add((this.execution2,prov.used,this.hyerparameter_model2))\n",
    "g.add((this.execution2,prov.used,this.model2))\n",
    "\n",
    "\n",
    "g.add((this.performance_measures1,RDF.type,mexcore.PerformanceMeasure))\n",
    "g.add((this.performance_measures1,mexperf.score,Literal('0.35',datatype=XSD.float)))\n",
    "g.add((this.performance_measures1,mexperf.accuracy,Literal('0.86',datatype=XSD.float)))\n",
    "g.add((this.performance_measures1,mexperf.pos_accuracy,Literal('0.37',datatype=XSD.float)))\n",
    "g.add((this.performance_measures1,mexperf.neg_accuracy,Literal('0.97',datatype=XSD.float)))\n",
    "g.add((this.performance_measures1,prov.wasGeneratedBy,this.execution1))\n",
    "\n",
    "g.add((this.performance_measures2,RDF.type,mexcore.PerformanceMeasure))\n",
    "g.add((this.performance_measures2,mexperf.score,Literal('0.39',datatype=XSD.float)))\n",
    "g.add((this.performance_measures2,mexperf.accuracy,Literal('0.85',datatype=XSD.float)))\n",
    "g.add((this.performance_measures1,mexperf.pos_accuracy,Literal('0.40',datatype=XSD.float)))\n",
    "g.add((this.performance_measures1,mexperf.neg_accuracy,Literal('0.95',datatype=XSD.float)))\n",
    "g.add((this.performance_measures2,prov.wasGeneratedBy,this.execution2))\n",
    "\n",
    "\n",
    "g.add((this.model1,RDF.type,mexalgo.Algorithm))\n",
    "g.add((this.model1,RDFS.label,Literal('LSTM')))\n",
    "g.add((this.model1,DCTERMS.identifier,Literal('LSTM')))\n",
    "g.add((this.model1,mexalgo.hasHyperParameter,this.hyerparameter1))\n",
    "g.add((this.model1,mexalgo.hasHyperParameter,this.hyerparameter2))\n",
    "g.add((this.model1,mexalgo.hasHyperParameter,this.hyerparameter3))\n",
    "\n",
    "g.add((this.model2,RDF.type,mexalgo.Algorithm))\n",
    "g.add((this.model2,RDFS.label,Literal('TemporalConvolution')))\n",
    "g.add((this.model2,DCTERMS.identifier,Literal('TemporalConvolution')))\n",
    "g.add((this.model2,mexalgo.hasHyperParameter,this.hyerparameter4))\n",
    "\n",
    "with open('task3_metadata.ttl','wb') as f:\n",
    "    f.write(g.serialize(format='turtle'))"
   ]
  },
  {
   "cell_type": "code",
   "execution_count": null,
   "metadata": {},
   "outputs": [],
   "source": []
  }
 ],
 "metadata": {
  "kernelspec": {
   "display_name": "Python 3",
   "language": "python",
   "name": "python3"
  },
  "language_info": {
   "codemirror_mode": {
    "name": "ipython",
    "version": 3
   },
   "file_extension": ".py",
   "mimetype": "text/x-python",
   "name": "python",
   "nbconvert_exporter": "python",
   "pygments_lexer": "ipython3",
   "version": "3.6.4"
  }
 },
 "nbformat": 4,
 "nbformat_minor": 2
}
