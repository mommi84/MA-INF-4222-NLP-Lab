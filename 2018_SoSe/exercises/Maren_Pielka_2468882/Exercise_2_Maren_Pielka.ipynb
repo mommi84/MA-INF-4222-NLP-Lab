{
 "cells": [
  {
   "cell_type": "markdown",
   "metadata": {},
   "source": [
    "<h2>Exercise 2 - Fact Checking</h2>"
   ]
  },
  {
   "cell_type": "code",
   "execution_count": 23,
   "metadata": {},
   "outputs": [],
   "source": [
    "import pandas as pd\n",
    "import numpy as np\n",
    "import itertools\n",
    "from sklearn.feature_extraction.text import CountVectorizer, TfidfVectorizer, HashingVectorizer\n",
    "from sklearn.model_selection import train_test_split\n",
    "from sklearn.model_selection import KFold\n",
    "from sklearn.linear_model import PassiveAggressiveClassifier\n",
    "from sklearn.linear_model import LogisticRegression\n",
    "from sklearn.naive_bayes import MultinomialNB\n",
    "from sklearn import metrics\n",
    "import matplotlib.pyplot as plt"
   ]
  },
  {
   "cell_type": "code",
   "execution_count": 24,
   "metadata": {},
   "outputs": [],
   "source": [
    "performances = {'Accuracies': {}, 'Recalls': {} , 'Precisions': {} , 'F1-Scores': {}}"
   ]
  },
  {
   "cell_type": "markdown",
   "metadata": {},
   "source": [
    "<h4>Read and preprocess datasets</h4>"
   ]
  },
  {
   "cell_type": "code",
   "execution_count": 25,
   "metadata": {},
   "outputs": [
    {
     "data": {
      "text/html": [
       "<div>\n",
       "<style scoped>\n",
       "    .dataframe tbody tr th:only-of-type {\n",
       "        vertical-align: middle;\n",
       "    }\n",
       "\n",
       "    .dataframe tbody tr th {\n",
       "        vertical-align: top;\n",
       "    }\n",
       "\n",
       "    .dataframe thead th {\n",
       "        text-align: right;\n",
       "    }\n",
       "</style>\n",
       "<table border=\"1\" class=\"dataframe\">\n",
       "  <thead>\n",
       "    <tr style=\"text-align: right;\">\n",
       "      <th></th>\n",
       "      <th>y</th>\n",
       "      <th>claim</th>\n",
       "    </tr>\n",
       "  </thead>\n",
       "  <tbody>\n",
       "    <tr>\n",
       "      <th>0</th>\n",
       "      <td>false</td>\n",
       "      <td>You Can Smell Hillary’s Fear. Daniel Greenfiel...</td>\n",
       "    </tr>\n",
       "    <tr>\n",
       "      <th>1</th>\n",
       "      <td>false</td>\n",
       "      <td>Watch The Exact Moment Paul Ryan Committed Pol...</td>\n",
       "    </tr>\n",
       "    <tr>\n",
       "      <th>2</th>\n",
       "      <td>true</td>\n",
       "      <td>Kerry to go to Paris in gesture of sympathy. U...</td>\n",
       "    </tr>\n",
       "    <tr>\n",
       "      <th>3</th>\n",
       "      <td>false</td>\n",
       "      <td>Bernie supporters on Twitter erupt in anger ag...</td>\n",
       "    </tr>\n",
       "    <tr>\n",
       "      <th>4</th>\n",
       "      <td>true</td>\n",
       "      <td>The Battle of New York: Why This Primary Matte...</td>\n",
       "    </tr>\n",
       "  </tbody>\n",
       "</table>\n",
       "</div>"
      ],
      "text/plain": [
       "       y                                              claim\n",
       "0  false  You Can Smell Hillary’s Fear. Daniel Greenfiel...\n",
       "1  false  Watch The Exact Moment Paul Ryan Committed Pol...\n",
       "2   true  Kerry to go to Paris in gesture of sympathy. U...\n",
       "3  false  Bernie supporters on Twitter erupt in anger ag...\n",
       "4   true  The Battle of New York: Why This Primary Matte..."
      ]
     },
     "execution_count": 25,
     "metadata": {},
     "output_type": "execute_result"
    }
   ],
   "source": [
    "ds1 = pd.read_csv('../fake_or_real_news.csv', sep=',', usecols=['title','text','label'])\n",
    "ds1['claim'] = ds1[['title', 'text']].apply(lambda x: '. '.join(x), axis=1)\n",
    "del ds1['title']\n",
    "del ds1['text']\n",
    "ds1.rename(index=str, columns={'label': 'y'}, inplace=True)\n",
    "ds1['y'] = np.where(ds1['y'] == 'FAKE', 'false', 'true')\n",
    "ds1.head()"
   ]
  },
  {
   "cell_type": "code",
   "execution_count": 26,
   "metadata": {},
   "outputs": [
    {
     "data": {
      "text/plain": [
       "(3671, 2)"
      ]
     },
     "execution_count": 26,
     "metadata": {},
     "output_type": "execute_result"
    }
   ],
   "source": [
    "ds2_train = pd.read_csv('../liar_liar_paints_on_fire/train.tsv', sep='\\t', header=None, usecols=[1,2], names=['y', 'claim'])\n",
    "ds2_valid = pd.read_csv('../liar_liar_paints_on_fire/valid.tsv', sep='\\t', header=None, usecols=[1,2], names=['y', 'claim'])\n",
    "ds2_test = pd.read_csv('../liar_liar_paints_on_fire/test.tsv', sep='\\t', header=None, usecols=[1,2], names=['y', 'claim'])\n",
    "\n",
    "# consider only \"true\" and \"false\" labels\n",
    "ds2_train=ds2_train[(ds2_train['y'] == 'true') | (ds2_train['y'] == 'false')]\n",
    "ds2_valid=ds2_valid[(ds2_valid['y'] == 'true') | (ds2_valid['y'] == 'false')]\n",
    "ds2_test=ds2_test[(ds2_test['y'] == 'true') | (ds2_test['y'] == 'false')]\n",
    "\n",
    "ds2_train.shape"
   ]
  },
  {
   "cell_type": "code",
   "execution_count": 27,
   "metadata": {},
   "outputs": [
    {
     "data": {
      "text/plain": [
       "(10895, 2)"
      ]
     },
     "execution_count": 27,
     "metadata": {},
     "output_type": "execute_result"
    }
   ],
   "source": [
    "ds3=pd.concat([ds1, ds2_train, ds2_valid, ds2_test], ignore_index=True)\n",
    "ds3.shape"
   ]
  },
  {
   "cell_type": "markdown",
   "metadata": {},
   "source": [
    "<h4>Configuration 1: Apply model A (the baseline classifier) on dataset 1 and report training and test accuracy</h4>"
   ]
  },
  {
   "cell_type": "code",
   "execution_count": 28,
   "metadata": {},
   "outputs": [
    {
     "name": "stdout",
     "output_type": "stream",
     "text": [
      "Training results:\n",
      "accuracy:   0.958\n",
      "recall:   0.946\n",
      "precision:   0.969\n",
      "f1-score:   0.957\n",
      "\n",
      "Test results:\n",
      "accuracy:   0.915\n",
      "recall:   0.888\n",
      "precision:   0.939\n",
      "f1-score:   0.913\n"
     ]
    }
   ],
   "source": [
    "# 5-fold cross-validation\n",
    "ss = KFold(n_splits=5, random_state=4222)\n",
    "accuraciesTrain = []\n",
    "recallsTrain = []\n",
    "precisionsTrain = []\n",
    "f1scoresTrain = []\n",
    "\n",
    "accuraciesTest = []\n",
    "recallsTest = []\n",
    "precisionsTest = []\n",
    "f1scoresTest = []\n",
    "    \n",
    "for train_indices, test_indices in ss.split(ds1['claim'], ds1['y']):\n",
    "    #feature extraction with TFIDF vectorizer\n",
    "    tfidf_vectorizer = TfidfVectorizer(stop_words='english', max_df=0.7)\n",
    "    tfidf_train = tfidf_vectorizer.fit_transform(ds1['claim'][train_indices])\n",
    "    tfidf_test = tfidf_vectorizer.transform(ds1['claim'][test_indices])\n",
    "    \n",
    "    #train the classifier and get predictions for training and test set\n",
    "    clf = LogisticRegression()\n",
    "    clf.fit(tfidf_train, ds1['y'][train_indices])\n",
    "    predTrain = clf.predict(tfidf_train)\n",
    "    predTest = clf.predict(tfidf_test)\n",
    "    \n",
    "    #evaluate the results\n",
    "    accuraciesTrain.append(metrics.accuracy_score(ds1['y'][train_indices], predTrain))\n",
    "    recallsTrain.append(metrics.recall_score(ds1['y'][train_indices], predTrain, pos_label='true'))\n",
    "    precisionsTrain.append(metrics.precision_score(ds1['y'][train_indices], predTrain, pos_label='true'))\n",
    "    f1scoresTrain.append(metrics.f1_score(ds1['y'][train_indices], predTrain, pos_label='true'))\n",
    "    \n",
    "    accuraciesTest.append(metrics.accuracy_score(ds1['y'][test_indices], predTest))\n",
    "    recallsTest.append(metrics.recall_score(ds1['y'][test_indices], predTest, pos_label='true'))\n",
    "    precisionsTest.append(metrics.precision_score(ds1['y'][test_indices], predTest, pos_label='true'))\n",
    "    f1scoresTest.append(metrics.f1_score(ds1['y'][test_indices], predTest, pos_label='true'))\n",
    "    \n",
    "#average the results\n",
    "print(\"Training results:\")\n",
    "print(\"accuracy:   %0.3f\" % np.mean(accuraciesTrain))\n",
    "print(\"recall:   %0.3f\" % np.mean(recallsTrain))\n",
    "print(\"precision:   %0.3f\" % np.mean(precisionsTrain))\n",
    "print(\"f1-score:   %0.3f\" % np.mean(f1scoresTrain))\n",
    "\n",
    "print(\"\\nTest results:\")\n",
    "print(\"accuracy:   %0.3f\" % np.mean(accuraciesTest))\n",
    "print(\"recall:   %0.3f\" % np.mean(recallsTest))\n",
    "print(\"precision:   %0.3f\" % np.mean(precisionsTest))\n",
    "print(\"f1-score:   %0.3f\" % np.mean(f1scoresTest))\n",
    "\n",
    "performances['Accuracies'].update({'configuration1': np.mean(accuraciesTest)})\n",
    "performances['Recalls'].update({'configuration1': np.mean(recallsTest)})\n",
    "performances['Precisions'].update({'configuration1': np.mean(precisionsTest)})\n",
    "performances['F1-Scores'].update({'configuration1': np.mean(f1scoresTest)})"
   ]
  },
  {
   "cell_type": "markdown",
   "metadata": {},
   "source": [
    "<h4>Configuration 2: Modify the baseline and run it on dataset 2 (training, validation and test set)</h4>"
   ]
  },
  {
   "cell_type": "code",
   "execution_count": 67,
   "metadata": {},
   "outputs": [
    {
     "name": "stdout",
     "output_type": "stream",
     "text": [
      "Training results:\n",
      "accuracy:   0.767\n",
      "recall:   0.673\n",
      "precision:   0.787\n",
      "f1-score:   0.725\n",
      "\n",
      "Validation results:\n",
      "accuracy:   0.692\n",
      "recall:   0.580\n",
      "precision:   0.613\n",
      "f1-score:   0.596\n",
      "\n",
      "Test results:\n",
      "accuracy:   0.630\n",
      "recall:   0.524\n",
      "precision:   0.609\n",
      "f1-score:   0.563\n"
     ]
    }
   ],
   "source": [
    "# feature extraction with hashing vectorizer\n",
    "hash_vectorizer = HashingVectorizer()\n",
    "hash_train = hash_vectorizer.fit_transform(ds2_train['claim'])\n",
    "hash_valid = hash_vectorizer.transform(ds2_valid['claim'])\n",
    "hash_test = hash_vectorizer.transform(ds2_test['claim'])\n",
    "    \n",
    "#train the classifier and get predictions for training and test set\n",
    "clf = LogisticRegression()\n",
    "clf.fit(hash_train, ds2_train['y'])\n",
    "predTrain = clf.predict(hash_train)\n",
    "predValid = clf.predict(hash_valid)\n",
    "predTest = clf.predict(hash_test)\n",
    "\n",
    "# get results for all 3 sets\n",
    "accuracyTrain = metrics.accuracy_score(ds2_train['y'], predTrain)\n",
    "recallTrain = metrics.recall_score(ds2_train['y'], predTrain, pos_label='true')\n",
    "precisionTrain = metrics.precision_score(ds2_train['y'], predTrain, pos_label='true')\n",
    "f1scoreTrain = metrics.f1_score(ds2_train['y'], predTrain, pos_label='true')\n",
    "\n",
    "accuracyValid = metrics.accuracy_score(ds2_valid['y'], predValid)\n",
    "recallValid = metrics.recall_score(ds2_valid['y'], predValid, pos_label='true')\n",
    "precisionValid = metrics.precision_score(ds2_valid['y'], predValid, pos_label='true')\n",
    "f1scoreValid = metrics.f1_score(ds2_valid['y'], predValid, pos_label='true')\n",
    "\n",
    "accuracyTest = metrics.accuracy_score(ds2_test['y'], predTest)\n",
    "recallTest = metrics.recall_score(ds2_test['y'], predTest, pos_label='true')\n",
    "precisionTest = metrics.precision_score(ds2_test['y'], predTest, pos_label='true')\n",
    "f1scoreTest = metrics.f1_score(ds2_test['y'], predTest, pos_label='true')\n",
    "\n",
    "print(\"Training results:\")\n",
    "print(\"accuracy:   %0.3f\" % accuracyTrain)\n",
    "print(\"recall:   %0.3f\" % recallTrain)\n",
    "print(\"precision:   %0.3f\" % precisionTrain)\n",
    "print(\"f1-score:   %0.3f\" % f1scoreTrain)\n",
    "\n",
    "print(\"\\nValidation results:\")\n",
    "print(\"accuracy:   %0.3f\" % accuracyValid)\n",
    "print(\"recall:   %0.3f\" % recallValid)\n",
    "print(\"precision:   %0.3f\" % precisionValid)\n",
    "print(\"f1-score:   %0.3f\" % f1scoreValid)\n",
    "\n",
    "print(\"\\nTest results:\")\n",
    "print(\"accuracy:   %0.3f\" % accuracyTest)\n",
    "print(\"recall:   %0.3f\" % recallTest)\n",
    "print(\"precision:   %0.3f\" % precisionTest)\n",
    "print(\"f1-score:   %0.3f\" % f1scoreTest)\n",
    "\n",
    "performances['Accuracies'].update({'configuration 2':accuracyTest})\n",
    "performances['Recalls'].update({'configuration 2': recallTest})\n",
    "performances['Precisions'].update({'configuration 2': precisionTest})\n",
    "performances['F1-Scores'].update({'configuration 2': f1scoreTest})"
   ]
  },
  {
   "cell_type": "markdown",
   "metadata": {},
   "source": [
    "<h4>Configuration 3: Run both model a and b on the complete datasets 1 and 2</h4>"
   ]
  },
  {
   "cell_type": "code",
   "execution_count": 30,
   "metadata": {},
   "outputs": [
    {
     "name": "stdout",
     "output_type": "stream",
     "text": [
      "\n",
      "Test results:\n",
      "accuracy:   0.508\n",
      "recall:   0.144\n",
      "precision:   0.390\n",
      "f1-score:   0.211\n"
     ]
    }
   ],
   "source": [
    "######### model a on dataset 2 #############\n",
    "\n",
    "#feature extraction with TFIDF vectorizer\n",
    "tfidf_vectorizer = TfidfVectorizer(stop_words='english', max_df=0.7)\n",
    "tfidf_train = tfidf_vectorizer.fit_transform(ds1['claim'])\n",
    "tfidf_test = tfidf_vectorizer.transform(ds2_test['claim'])\n",
    "\n",
    "#train the classifier and get predictions for training and test set\n",
    "clf = LogisticRegression()\n",
    "clf.fit(tfidf_train, ds1['y'])\n",
    "predTest = clf.predict(tfidf_test)\n",
    "\n",
    "#evaluate the results\n",
    "accuracyTest = metrics.accuracy_score(ds2_test['y'], predTest)\n",
    "recallTest = metrics.recall_score(ds2_test['y'], predTest, pos_label='true')\n",
    "precisionTest = metrics.precision_score(ds2_test['y'], predTest, pos_label='true')\n",
    "f1scoreTest = metrics.f1_score(ds2_test['y'], predTest, pos_label='true')\n",
    "\n",
    "print(\"\\nTest results:\")\n",
    "print(\"accuracy:   %0.3f\" % accuracyTest)\n",
    "print(\"recall:   %0.3f\" % recallTest)\n",
    "print(\"precision:   %0.3f\" % precisionTest)\n",
    "print(\"f1-score:   %0.3f\" % f1scoreTest)\n",
    "\n",
    "performances['Accuracies'].update({'configuration 3.1':accuracyTest})\n",
    "performances['Recalls'].update({'configuration 3.1': recallTest})\n",
    "performances['Precisions'].update({'configuration 3.1': precisionTest})\n",
    "performances['F1-Scores'].update({'configuration 3.1': f1scoreTest})"
   ]
  },
  {
   "cell_type": "code",
   "execution_count": 31,
   "metadata": {},
   "outputs": [
    {
     "name": "stdout",
     "output_type": "stream",
     "text": [
      "\n",
      "Test results:\n",
      "accuracy:   0.562\n",
      "recall:   0.703\n",
      "precision:   0.548\n",
      "f1-score:   0.616\n"
     ]
    }
   ],
   "source": [
    "######### model b on dataset 1 ###########\n",
    "\n",
    "# feature extraction with hashing vectorizer\n",
    "hash_vectorizer = HashingVectorizer()\n",
    "hash_train = hash_vectorizer.fit_transform(ds2_train['claim'])\n",
    "hash_test = hash_vectorizer.transform(ds1['claim'])\n",
    "    \n",
    "#train the classifier and get predictions for training and test set\n",
    "clf = LogisticRegression()\n",
    "clf.fit(hash_train, ds2_train['y'])\n",
    "predTrain = clf.predict(hash_train)\n",
    "predTest = clf.predict(hash_test)\n",
    "\n",
    "# get results\n",
    "accuracyTest = metrics.accuracy_score(ds1['y'], predTest)\n",
    "recallTest = metrics.recall_score(ds1['y'], predTest, pos_label='true')\n",
    "precisionTest = metrics.precision_score(ds1['y'], predTest, pos_label='true')\n",
    "f1scoreTest = metrics.f1_score(ds1['y'], predTest, pos_label='true')\n",
    "\n",
    "print(\"\\nTest results:\")\n",
    "print(\"accuracy:   %0.3f\" % accuracyTest)\n",
    "print(\"recall:   %0.3f\" % recallTest)\n",
    "print(\"precision:   %0.3f\" % precisionTest)\n",
    "print(\"f1-score:   %0.3f\" % f1scoreTest)\n",
    "\n",
    "performances['Accuracies'].update({'configuration 3.2':accuracyTest})\n",
    "performances['Recalls'].update({'configuration 3.2': recallTest})\n",
    "performances['Precisions'].update({'configuration 3.2': precisionTest})\n",
    "performances['F1-Scores'].update({'configuration 3.2': f1scoreTest})"
   ]
  },
  {
   "cell_type": "markdown",
   "metadata": {},
   "source": [
    "<h4>Configuration 4: Run the model on the joint dataset 3</h4>"
   ]
  },
  {
   "cell_type": "code",
   "execution_count": 32,
   "metadata": {},
   "outputs": [
    {
     "name": "stdout",
     "output_type": "stream",
     "text": [
      "Training results:\n",
      "accuracy:   0.815\n",
      "recall:   0.899\n",
      "precision:   0.760\n",
      "f1-score:   0.823\n",
      "\n",
      "Test results:\n",
      "accuracy:   0.727\n",
      "recall:   0.823\n",
      "precision:   0.705\n",
      "f1-score:   0.753\n"
     ]
    }
   ],
   "source": [
    "# 5-fold cross-validation\n",
    "ss = KFold(n_splits=5, random_state=4222)\n",
    "accuraciesTrain = []\n",
    "recallsTrain = []\n",
    "precisionsTrain = []\n",
    "f1scoresTrain = []\n",
    "\n",
    "accuraciesTest = []\n",
    "recallsTest = []\n",
    "precisionsTest = []\n",
    "f1scoresTest = []\n",
    "    \n",
    "for train_indices, test_indices in ss.split(ds3['claim'], ds3['y']):\n",
    "    #feature extraction with count vectorizer\n",
    "    count_vectorizer = CountVectorizer()\n",
    "    count_train = count_vectorizer.fit_transform(ds3['claim'][train_indices])\n",
    "    count_test = count_vectorizer.transform(ds3['claim'][test_indices])\n",
    "    \n",
    "    #train the classifier and get predictions for training and test set\n",
    "    clf = MultinomialNB(alpha=.01)\n",
    "    clf.fit(count_train, ds3['y'][train_indices])\n",
    "    predTrain = clf.predict(count_train)\n",
    "    predTest = clf.predict(count_test)\n",
    "    \n",
    "    #evaluate the results\n",
    "    accuraciesTrain.append(metrics.accuracy_score(ds3['y'][train_indices], predTrain))\n",
    "    recallsTrain.append(metrics.recall_score(ds3['y'][train_indices], predTrain, pos_label='true'))\n",
    "    precisionsTrain.append(metrics.precision_score(ds3['y'][train_indices], predTrain, pos_label='true'))\n",
    "    f1scoresTrain.append(metrics.f1_score(ds3['y'][train_indices], predTrain, pos_label='true'))\n",
    "    \n",
    "    accuraciesTest.append(metrics.accuracy_score(ds3['y'][test_indices], predTest))\n",
    "    recallsTest.append(metrics.recall_score(ds3['y'][test_indices], predTest, pos_label='true'))\n",
    "    precisionsTest.append(metrics.precision_score(ds3['y'][test_indices], predTest, pos_label='true'))\n",
    "    f1scoresTest.append(metrics.f1_score(ds3['y'][test_indices], predTest, pos_label='true'))\n",
    "    \n",
    "#average the results\n",
    "print(\"Training results:\")\n",
    "print(\"accuracy:   %0.3f\" % np.mean(accuraciesTrain))\n",
    "print(\"recall:   %0.3f\" % np.mean(recallsTrain))\n",
    "print(\"precision:   %0.3f\" % np.mean(precisionsTrain))\n",
    "print(\"f1-score:   %0.3f\" % np.mean(f1scoresTrain))\n",
    "\n",
    "print(\"\\nTest results:\")\n",
    "print(\"accuracy:   %0.3f\" % np.mean(accuraciesTest))\n",
    "print(\"recall:   %0.3f\" % np.mean(recallsTest))\n",
    "print(\"precision:   %0.3f\" % np.mean(precisionsTest))\n",
    "print(\"f1-score:   %0.3f\" % np.mean(f1scoresTest))\n",
    "\n",
    "performances['Accuracies'].update({'configuration 4': np.mean(accuraciesTest)})\n",
    "performances['Recalls'].update({'configuration 4': np.mean(recallsTest)})\n",
    "performances['Precisions'].update({'configuration 4': np.mean(precisionsTest)})\n",
    "performances['F1-Scores'].update({'configuration 4': np.mean(f1scoresTest)})"
   ]
  },
  {
   "cell_type": "markdown",
   "metadata": {},
   "source": [
    "<h4>Plot test results for all configurations</h4>"
   ]
  },
  {
   "cell_type": "code",
   "execution_count": 38,
   "metadata": {},
   "outputs": [
    {
     "data": {
      "image/png": "[encoded data removed]",
      "text/plain": [
       "<matplotlib.figure.Figure at 0xf880d68>"
      ]
     },
     "metadata": {},
     "output_type": "display_data"
    }
   ],
   "source": [
    "import matplotlib.pyplot as plt; plt.rcdefaults()\n",
    "import matplotlib.pyplot as plt\n",
    "import numpy as np\n",
    "\n",
    "# data to plot\n",
    "n_groups = 5\n",
    "accuracies = list(performances['Accuracies'].values())\n",
    "recalls = list(performances['Recalls'].values())\n",
    "precisions = list(performances['Precisions'].values())\n",
    "f1scores = list(performances['F1-Scores'].values())\n",
    " \n",
    "# create plot\n",
    "fig, ax = plt.subplots(figsize=(20, 10))\n",
    "index = np.arange(n_groups)\n",
    "bar_width = 0.2\n",
    "opacity = 0.8\n",
    " \n",
    "rects1 = plt.bar(index, accuracies, bar_width,\n",
    "                 alpha=opacity,\n",
    "                 color='b',\n",
    "                 label='Accuracy')\n",
    " \n",
    "rects2 = plt.bar(index + bar_width, recalls, bar_width,\n",
    "                 alpha=opacity,\n",
    "                 color='g',\n",
    "                 label='Recall')\n",
    "\n",
    "rects3 = plt.bar(index + 2*bar_width, precisions, bar_width,\n",
    "                 alpha=opacity,\n",
    "                 color='y',\n",
    "                 label='Precision')\n",
    " \n",
    "rects4 = plt.bar(index + 3*bar_width, f1scores, bar_width,\n",
    "                 alpha=opacity,\n",
    "                 color='r',\n",
    "                 label='F1-Score')\n",
    " \n",
    "plt.ylabel('Performance', fontsize=20)\n",
    "plt.title('Results for task 2', fontsize=20)\n",
    "plt.xticks(index + bar_width, list(performances['Accuracies'].keys()), fontsize=14)\n",
    "plt.legend(prop={'size': 20})\n",
    "\n",
    "plt.show()"
   ]
  },
  {
   "cell_type": "code",
   "execution_count": null,
   "metadata": {},
   "outputs": [],
   "source": []
  }
 ],
 "metadata": {
  "kernelspec": {
   "display_name": "Python 3",
   "language": "python",
   "name": "python3"
  },
  "language_info": {
   "codemirror_mode": {
    "name": "ipython",
    "version": 3
   },
   "file_extension": ".py",
   "mimetype": "text/x-python",
   "name": "python",
   "nbconvert_exporter": "python",
   "pygments_lexer": "ipython3",
   "version": "3.6.4"
  }
 },
 "nbformat": 4,
 "nbformat_minor": 2
}
